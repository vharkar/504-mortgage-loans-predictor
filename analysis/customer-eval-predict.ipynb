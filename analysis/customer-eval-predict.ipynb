{
 "cells": [
  {
   "cell_type": "markdown",
   "id": "lightweight-estonia",
   "metadata": {},
   "source": [
    "# Mortgage Loans: Predict on new data"
   ]
  },
  {
   "cell_type": "code",
   "execution_count": 2,
   "id": "vanilla-alexandria",
   "metadata": {},
   "outputs": [],
   "source": [
    "import pandas as pd\n",
    "import numpy as np\n",
    "import pickle\n",
    "import plotly.graph_objects as go"
   ]
  },
  {
   "cell_type": "markdown",
   "id": "stuffed-finger",
   "metadata": {
    "tags": []
   },
   "source": [
    "## Read in the pickle files"
   ]
  },
  {
   "cell_type": "code",
   "execution_count": 40,
   "id": "compact-entertainment",
   "metadata": {},
   "outputs": [],
   "source": [
    "# dataframes for visualization\n",
    "responded=pd.read_csv('../model_components/cust_responded.csv')\n",
    "ignored=pd.read_csv('../model_components/cust_ignored.csv')"
   ]
  },
  {
   "cell_type": "code",
   "execution_count": 41,
   "id": "bearing-party",
   "metadata": {},
   "outputs": [],
   "source": [
    "# random forest model\n",
    "filename = open('../model_components/cust_response_rf_model.pkl', 'rb')\n",
    "rf = pickle.load(filename)\n",
    "filename.close()"
   ]
  },
  {
   "cell_type": "code",
   "execution_count": 42,
   "id": "synthetic-making",
   "metadata": {},
   "outputs": [],
   "source": [
    "# encoder1\n",
    "filename = open('../model_components/cust_response_edu_onehot_encoder.pkl', 'rb')\n",
    "encoder1 = pickle.load(filename)\n",
    "filename.close()"
   ]
  },
  {
   "cell_type": "code",
   "execution_count": 43,
   "id": "6a24418e-9809-46ca-ab59-5adb267d85b8",
   "metadata": {},
   "outputs": [],
   "source": [
    "# encoder2\n",
    "filename = open('../model_components/cust_response_marital_onehot_encoder.pkl', 'rb')\n",
    "encoder2 = pickle.load(filename)\n",
    "filename.close()"
   ]
  },
  {
   "cell_type": "code",
   "execution_count": 44,
   "id": "covered-scheme",
   "metadata": {},
   "outputs": [],
   "source": [
    "filename = open('../model_components/age_ss_scaler.pkl', 'rb')\n",
    "ss_scaler0 = pickle.load(filename)\n",
    "filename.close()\n",
    "\n",
    "filename = open('../model_components/income_ss_scaler.pkl', 'rb')\n",
    "ss_scaler1 = pickle.load(filename)\n",
    "filename.close()\n",
    "\n",
    "filename = open('../model_components/recency_ss_scaler.pkl', 'rb')\n",
    "ss_scaler2 = pickle.load(filename)\n",
    "filename.close()\n",
    "\n",
    "filename = open('../model_components/spend_ss_scaler.pkl', 'rb')\n",
    "ss_scaler3 = pickle.load(filename)\n",
    "filename.close()\n",
    "\n",
    "filename = open('../model_components/yrs_cust_ss_scaler.pkl', 'rb')\n",
    "ss_scaler30 = pickle.load(filename)\n",
    "filename.close()\n"
   ]
  },
  {
   "cell_type": "code",
   "execution_count": 45,
   "id": "subject-competition",
   "metadata": {},
   "outputs": [],
   "source": [
    "\n",
    "filename = open('../model_components/deals_ss_scaler.pkl', 'rb')\n",
    "ss_scaler4 = pickle.load(filename)\n",
    "filename.close()\n",
    "\n",
    "filename = open('../model_components/web_ss_scaler.pkl', 'rb')\n",
    "ss_scaler40 = pickle.load(filename)\n",
    "filename.close()\n",
    "\n",
    "filename = open('../model_components/catalog_ss_scaler.pkl', 'rb')\n",
    "ss_scaler41 = pickle.load(filename)\n",
    "filename.close()\n",
    "\n",
    "filename = open('../model_components/store_ss_scaler.pkl', 'rb')\n",
    "ss_scaler42 = pickle.load(filename)\n",
    "filename.close()\n",
    "\n",
    "filename = open('../model_components/visits_ss_scaler.pkl', 'rb')\n",
    "ss_scaler43 = pickle.load(filename)\n",
    "filename.close()"
   ]
  },
  {
   "cell_type": "code",
   "execution_count": 87,
   "id": "authorized-puzzle",
   "metadata": {},
   "outputs": [],
   "source": [
    "# Remember: the order of arguments must match the order of features\n",
    "features = [\n",
    " 'Kidhome',\n",
    " 'Teenhome',\n",
    " 'AcceptedCmp5',\n",
    " 'Education',\n",
    " 'Marital_Status',\n",
    " 'age',\n",
    " 'Income',\n",
    " 'Recency',\n",
    " 'Total_Spent',\n",
    " 'Yrs_Customer',\n",
    " 'NumDealsPurchases',\n",
    " 'NumWebPurchases',\n",
    " 'NumCatalogPurchases',\n",
    " 'NumStorePurchases',\n",
    " 'NumWebVisitsMonth'\n",
    "]"
   ]
  },
  {
   "cell_type": "code",
   "execution_count": 88,
   "id": "f5309ec7-e5e2-474b-b219-3e30abf9cff8",
   "metadata": {},
   "outputs": [],
   "source": [
    "# make some fake data\n",
    "fake1=[1, 0, 0, 'PhD', 'Married', 45, 55000.0, 45, 2500.0, 5, 1, 0, 0, 1, 10]\n",
    "fake2=[0, 1, 1, 'Master', 'Single', 35, 65000.0, 90, 5500.0, 10, 1, 2, 3, 1, 20]\n",
    "fake3=[0, 0, 1, 'Graduation', 'Divorced', 55, 45000.0, 25, 1500.0, 2, 1, 5, 4, 1, 30]"
   ]
  },
  {
   "cell_type": "markdown",
   "id": "smart-arrest",
   "metadata": {},
   "source": [
    "## Write a function to preprocess and predict"
   ]
  },
  {
   "cell_type": "code",
   "execution_count": 91,
   "id": "static-means",
   "metadata": {},
   "outputs": [],
   "source": [
    "## Create a function that can take list of valid inputs & make a prediction\n",
    "import traceback\n",
    "\n",
    "def make_predictions(listofargs, Threshold):\n",
    "    try:\n",
    "        # the order of the arguments must match the order of the features\n",
    "        df = pd.DataFrame(columns=features) \n",
    "        \n",
    "        df.loc[0] = listofargs\n",
    "        \n",
    "        # convert arguments from integers to floats:\n",
    "        for var in ['Kidhome', 'Teenhome', 'AcceptedCmp5', 'age', 'Income', 'Recency', 'Total_Spent', 'Yrs_Customer', 'NumDealsPurchases', 'NumWebPurchases', 'NumCatalogPurchases', 'NumStorePurchases', 'NumWebVisitsMonth']:\n",
    "            df[var]=int(df[var])\n",
    "\n",
    "        # transform the categorical variable using the same encoder we trained previously\n",
    "        ohe=pd.DataFrame(encoder1.transform(df[['Education']]).toarray())\n",
    "        col_list = ['Education_{}'.format(item) for item in ['Graduation', 'PhD', 'Master', 'Unknown', 'Basic']] \n",
    "        ohe.columns=col_list\n",
    "        df = pd.concat([df, ohe],axis=1)\n",
    "\n",
    "        ohe=pd.DataFrame(encoder2.transform(df[['Marital_Status']]).toarray())\n",
    "        col_list = ['Marital_Status_{}'.format(item) for item in ['Married', 'Together', 'Single', 'Divorced', 'Widow', 'Unknown']] \n",
    "        ohe.columns=col_list\n",
    "        df = pd.concat([df, ohe],axis=1)\n",
    "        \n",
    "        # create new features using the scalers we trained earlier\n",
    "        \n",
    "        df['ln_age'] = ss_scaler0.transform(np.array(np.log(df['age'])).reshape(-1, 1))\n",
    "        df['ln_Income'] = ss_scaler1.transform(np.array(np.log(df['Income'])).reshape(-1, 1))\n",
    "        df['ln_Recency'] = ss_scaler2.transform(np.array(np.log(df['Recency'])).reshape(-1, 1))\n",
    "        df['ln_Spending'] = ss_scaler3.transform(np.array(np.log(df['Total_Spent'])).reshape(-1, 1))\n",
    "        df['ln_Yrs_Customer'] = ss_scaler3.transform(np.array(np.log(df['Yrs_Customer'])).reshape(-1, 1))\n",
    "        \n",
    "        df['ln_deals'] = ss_scaler4.transform(np.array(df['NumDealsPurchases']).reshape(-1, 1))\n",
    "        df['ln_web'] = ss_scaler40.transform(np.array(df['NumWebPurchases']).reshape(-1, 1))\n",
    "        df['ln_catalog'] = ss_scaler41.transform(np.array(df['NumCatalogPurchases']).reshape(-1, 1))\n",
    "        df['ln_store'] = ss_scaler42.transform(np.array(df['NumStorePurchases']).reshape(-1, 1))\n",
    "        df['ln_visits'] = ss_scaler43.transform(np.array(df['NumWebVisitsMonth']).reshape(-1, 1))\n",
    "        \n",
    "\n",
    "        # drop & rearrange the columns in the order expected by your trained model!\n",
    "        df=df[['Kidhome', 'Teenhome', 'AcceptedCmp5', 'Education_Graduation', 'Education_PhD', 'Education_Master', 'Education_Unknown', 'Education_Basic',\n",
    "               'Marital_Status_Married', 'Marital_Status_Together', 'Marital_Status_Single', 'Marital_Status_Divorced', 'Marital_Status_Widow', 'Marital_Status_Unknown',\n",
    "               'ln_age', 'ln_Income', 'ln_Recency', 'ln_Spending', 'ln_Yrs_Customer',\n",
    "               'ln_deals', 'ln_web', 'ln_catalog', 'ln_store', 'ln_visits']]\n",
    "\n",
    "        prob = rf.predict_proba(df)\n",
    "        raw_responded_prob=prob[0][1]\n",
    "        Threshold=Threshold*.01\n",
    "        respond_func = lambda y: 'Responded' if raw_responded_prob>Threshold else 'Ignored'\n",
    "        formatted_ignored_prob = \"{:,.1f}%\".format(100*prob[0][0])\n",
    "        formatted_responded_prob = \"{:,.1f}%\".format(100*prob[0][1])\n",
    "        return respond_func(raw_responded_prob), formatted_responded_prob, formatted_ignored_prob\n",
    "\n",
    "    except Exception: \n",
    "        traceback.print_exc()"
   ]
  },
  {
   "cell_type": "markdown",
   "id": "chief-physiology",
   "metadata": {},
   "source": [
    "## Predicting on new data"
   ]
  },
  {
   "cell_type": "code",
   "execution_count": 92,
   "id": "dominant-juvenile",
   "metadata": {},
   "outputs": [
    {
     "data": {
      "text/plain": [
       "('Ignored', '23.9%', '76.1%')"
      ]
     },
     "execution_count": 92,
     "metadata": {},
     "output_type": "execute_result"
    }
   ],
   "source": [
    "# example 1\n",
    "make_predictions(fake1, 83)"
   ]
  },
  {
   "cell_type": "code",
   "execution_count": 93,
   "id": "beautiful-telescope",
   "metadata": {},
   "outputs": [
    {
     "data": {
      "text/plain": [
       "('Responded', '46.0%', '54.0%')"
      ]
     },
     "execution_count": 93,
     "metadata": {},
     "output_type": "execute_result"
    }
   ],
   "source": [
    "# example 2\n",
    "make_predictions(fake2, 40)"
   ]
  },
  {
   "cell_type": "code",
   "execution_count": 94,
   "id": "negative-kitchen",
   "metadata": {},
   "outputs": [
    {
     "data": {
      "text/plain": [
       "('Ignored', '60.2%', '39.8%')"
      ]
     },
     "execution_count": 94,
     "metadata": {},
     "output_type": "execute_result"
    }
   ],
   "source": [
    "# example 3\n",
    "make_predictions(fake3, 70)"
   ]
  },
  {
   "cell_type": "markdown",
   "id": "comic-extension",
   "metadata": {},
   "source": [
    "## Visualize the new data"
   ]
  },
  {
   "cell_type": "code",
   "execution_count": 105,
   "id": "environmental-optics",
   "metadata": {},
   "outputs": [
    {
     "data": {
      "text/plain": [
       "[1, 0, 0, 'PhD', 'Married', 45, 55000.0, 45, 2500.0, 5, 1, 0, 0, 1, 10]"
      ]
     },
     "execution_count": 105,
     "metadata": {},
     "output_type": "execute_result"
    }
   ],
   "source": [
    "fake1"
   ]
  },
  {
   "cell_type": "code",
   "execution_count": 106,
   "id": "desperate-ambassador",
   "metadata": {},
   "outputs": [
    {
     "data": {
      "text/html": [
       "<div>\n",
       "<style scoped>\n",
       "    .dataframe tbody tr th:only-of-type {\n",
       "        vertical-align: middle;\n",
       "    }\n",
       "\n",
       "    .dataframe tbody tr th {\n",
       "        vertical-align: top;\n",
       "    }\n",
       "\n",
       "    .dataframe thead th {\n",
       "        text-align: right;\n",
       "    }\n",
       "</style>\n",
       "<table border=\"1\" class=\"dataframe\">\n",
       "  <thead>\n",
       "    <tr style=\"text-align: right;\">\n",
       "      <th></th>\n",
       "      <th>Kidhome</th>\n",
       "      <th>Teenhome</th>\n",
       "      <th>AcceptedCmp5</th>\n",
       "      <th>Education</th>\n",
       "      <th>Marital_Status</th>\n",
       "      <th>age</th>\n",
       "      <th>Income</th>\n",
       "      <th>Recency</th>\n",
       "      <th>Total_Spent</th>\n",
       "      <th>Yrs_Customer</th>\n",
       "      <th>NumDealsPurchases</th>\n",
       "      <th>NumWebPurchases</th>\n",
       "      <th>NumCatalogPurchases</th>\n",
       "      <th>NumStorePurchases</th>\n",
       "      <th>NumWebVisitsMonth</th>\n",
       "    </tr>\n",
       "  </thead>\n",
       "  <tbody>\n",
       "    <tr>\n",
       "      <th>0</th>\n",
       "      <td>1</td>\n",
       "      <td>0</td>\n",
       "      <td>0</td>\n",
       "      <td>PhD</td>\n",
       "      <td>Married</td>\n",
       "      <td>45</td>\n",
       "      <td>55000.0</td>\n",
       "      <td>45</td>\n",
       "      <td>2500.0</td>\n",
       "      <td>5</td>\n",
       "      <td>1</td>\n",
       "      <td>0</td>\n",
       "      <td>0</td>\n",
       "      <td>1</td>\n",
       "      <td>10</td>\n",
       "    </tr>\n",
       "  </tbody>\n",
       "</table>\n",
       "</div>"
      ],
      "text/plain": [
       "   Kidhome  Teenhome  AcceptedCmp5 Education Marital_Status  age   Income  \\\n",
       "0        1         0             0       PhD        Married   45  55000.0   \n",
       "\n",
       "   Recency  Total_Spent  Yrs_Customer  NumDealsPurchases  NumWebPurchases  \\\n",
       "0       45       2500.0             5                  1                0   \n",
       "\n",
       "   NumCatalogPurchases  NumStorePurchases  NumWebVisitsMonth  \n",
       "0                    0                  1                 10  "
      ]
     },
     "execution_count": 106,
     "metadata": {},
     "output_type": "execute_result"
    }
   ],
   "source": [
    "newdata=pd.DataFrame([fake1], columns=features)\n",
    "newdata"
   ]
  },
  {
   "cell_type": "code",
   "execution_count": 107,
   "id": "ecological-lover",
   "metadata": {},
   "outputs": [],
   "source": [
    "# plotly visualization of Loan Status\n",
    "\n",
    "def make_cube(*args):\n",
    "    newdata=pd.DataFrame(args, columns=features)\n",
    "\n",
    "    trace0=go.Scatter3d(\n",
    "        x=responded['Income'],\n",
    "        y=responded['Total_Spent'],\n",
    "        z=responded['Recency'],\n",
    "        name='responded',\n",
    "        mode='markers',\n",
    "        text = list(zip(\n",
    "            [\"Marital Status: {}\".format(x) for x in responded['Marital_Status']],\n",
    "            [\"<br>Education: {}\".format(x) for x in responded['Education']],\n",
    "            [\"<br>Yrs_Customer: {}\".format(x) for x in responded['Yrs_Customer']],\n",
    "            [\"<br>Age: {}\".format(x) for x in responded['age']],\n",
    "            [\"<br>Kid Home: {}\".format(x) for x in responded['Kidhome']],\n",
    "            [\"<br>Teen Home: {}\".format(x) for x in responded['Teenhome']]\n",
    "            )) ,\n",
    "        hovertemplate =\n",
    "            '<b>Income: $%{x:.0f}K</b>'+\n",
    "            '<br><b>Total Spent: $%{y:.0f}</b>'+\n",
    "            '<br><b>Recency: %{z:.0f}</b>'+\n",
    "            '<br>%{text}',\n",
    "        hoverinfo='text',\n",
    "        marker=dict(size=6, color='blue', opacity=0.4))\n",
    "\n",
    "\n",
    "    trace1=go.Scatter3d(\n",
    "        x=ignored['Income'],\n",
    "        y=ignored['Total_Spent'],\n",
    "        z=ignored['Recency'],\n",
    "        name='ignored',\n",
    "        mode='markers',\n",
    "        text = list(zip(\n",
    "            [\"Marital Status: {}\".format(x) for x in ignored['Marital_Status']],\n",
    "            [\"<br>Education: {}\".format(x) for x in ignored['Education']],\n",
    "            [\"<br>Yrs_Customer: {}\".format(x) for x in ignored['Yrs_Customer']],\n",
    "            [\"<br>Age: {}\".format(x) for x in ignored['age']],\n",
    "            [\"<br>Kid Home: {}\".format(x) for x in ignored['Kidhome']],\n",
    "            [\"<br>Teen Home: {}\".format(x) for x in ignored['Teenhome']]\n",
    "                )) ,\n",
    "        hovertemplate =\n",
    "            '<b>Income: $%{x:.0f}K</b>'+\n",
    "            '<br><b>Total Spent: $%{y:.0f}</b>'+\n",
    "            '<br><b>Recency: %{z:.0f}</b>'+\n",
    "            '<br>%{text}',\n",
    "        hoverinfo='text',\n",
    "        marker=dict(size=6, color='red', opacity=0.4))\n",
    "\n",
    "    trace2=go.Scatter3d(\n",
    "        x=newdata['Income'],\n",
    "        y=newdata['Total_Spent'],\n",
    "        z=newdata['Recency'],\n",
    "        name='Customer',\n",
    "        mode='markers',\n",
    "        text = list(zip(\n",
    "            [\"Marital Status: {}\".format(x) for x in newdata['Marital_Status']],\n",
    "            [\"<br>Education: {}\".format(x) for x in newdata['Education']],\n",
    "            [\"<br>Yrs_Customer: {}\".format(x) for x in newdata['Yrs_Customer']],\n",
    "            [\"<br>Age: {}\".format(x) for x in newdata['age']],\n",
    "            [\"<br>Kid Home: {}\".format(x) for x in newdata['Kidhome']],\n",
    "            [\"<br>Teen Home: {}\".format(x) for x in newdata['Teenhome']]\n",
    "                )) ,\n",
    "        hovertemplate =\n",
    "            '<b>Income: $%{x:.0f}K</b>'+\n",
    "            '<br><b>Total Spent: $%{y:.0f}</b>'+\n",
    "            '<br><b>Recency: %{z:.0f}</b>'+\n",
    "            '<br>%{text}',\n",
    "        hoverinfo='text',\n",
    "        marker=dict(size=15, color='yellow'))\n",
    "\n",
    "\n",
    "    layout = go.Layout(title=\"Customer Responses\",\n",
    "                        showlegend=True,\n",
    "                            scene = dict(\n",
    "                            xaxis=dict(title='Income'),\n",
    "                            yaxis=dict(title='Total Spent'),\n",
    "                            zaxis=dict(title='Recency')\n",
    "                    ))\n",
    "    fig=go.Figure([trace0, trace1, trace2], layout)\n",
    "    return fig"
   ]
  },
  {
   "cell_type": "code",
   "execution_count": 108,
   "id": "greatest-average",
   "metadata": {},
   "outputs": [
    {
     "data": {
      "application/vnd.plotly.v1+json": {
       "config": {
        "plotlyServerURL": "https://plot.ly"
       },
       "data": [
        {
         "hoverinfo": "text",
         "hovertemplate": "<b>Income: $%{x:.0f}K</b><br><b>Total Spent: $%{y:.0f}</b><br><b>Recency: %{z:.0f}</b><br>%{text}",
         "marker": {
          "color": "blue",
          "opacity": 0.4,
          "size": 6
         },
         "mode": "markers",
         "name": "responded",
         "text": [
          "('Marital Status: Single', '<br>Education: Graduation', '<br>Yrs_Customer: 9', '<br>Age: 65', '<br>Kid Home: 0', '<br>Teen Home: 0')",
          "('Marital Status: Single', '<br>Education: PhD', '<br>Yrs_Customer: 9', '<br>Age: 76', '<br>Kid Home: 0', '<br>Teen Home: 0')",
          "('Marital Status: Divorced', '<br>Education: Graduation', '<br>Yrs_Customer: 7', '<br>Age: 45', '<br>Kid Home: 0', '<br>Teen Home: 0')",
          "('Marital Status: Together', '<br>Education: Master', '<br>Yrs_Customer: 9', '<br>Age: 67', '<br>Kid Home: 0', '<br>Teen Home: 0')",
          "('Marital Status: Divorced', '<br>Education: Graduation', '<br>Yrs_Customer: 9', '<br>Age: 56', '<br>Kid Home: 0', '<br>Teen Home: 0')",
          "('Marital Status: Single', '<br>Education: Master', '<br>Yrs_Customer: 8', '<br>Age: 40', '<br>Kid Home: 0', '<br>Teen Home: 0')",
          "('Marital Status: Single', '<br>Education: Unknown', '<br>Yrs_Customer: 8', '<br>Age: 43', '<br>Kid Home: 0', '<br>Teen Home: 1')",
          "('Marital Status: Married', '<br>Education: Master', '<br>Yrs_Customer: 9', '<br>Age: 50', '<br>Kid Home: 0', '<br>Teen Home: 0')",
          "('Marital Status: Single', '<br>Education: Graduation', '<br>Yrs_Customer: 9', '<br>Age: 46', '<br>Kid Home: 0', '<br>Teen Home: 0')",
          "('Marital Status: Married', '<br>Education: Graduation', '<br>Yrs_Customer: 8', '<br>Age: 63', '<br>Kid Home: 0', '<br>Teen Home: 0')",
          "('Marital Status: Single', '<br>Education: PhD', '<br>Yrs_Customer: 9', '<br>Age: 31', '<br>Kid Home: 0', '<br>Teen Home: 0')",
          "('Marital Status: Single', '<br>Education: Graduation', '<br>Yrs_Customer: 9', '<br>Age: 39', '<br>Kid Home: 0', '<br>Teen Home: 0')",
          "('Marital Status: Single', '<br>Education: Graduation', '<br>Yrs_Customer: 9', '<br>Age: 38', '<br>Kid Home: 0', '<br>Teen Home: 0')",
          "('Marital Status: Together', '<br>Education: Master', '<br>Yrs_Customer: 8', '<br>Age: 46', '<br>Kid Home: 0', '<br>Teen Home: 1')",
          "('Marital Status: Together', '<br>Education: Graduation', '<br>Yrs_Customer: 9', '<br>Age: 73', '<br>Kid Home: 0', '<br>Teen Home: 0')",
          "('Marital Status: Married', '<br>Education: PhD', '<br>Yrs_Customer: 9', '<br>Age: 74', '<br>Kid Home: 0', '<br>Teen Home: 0')",
          "('Marital Status: Together', '<br>Education: PhD', '<br>Yrs_Customer: 9', '<br>Age: 45', '<br>Kid Home: 0', '<br>Teen Home: 0')",
          "('Marital Status: Divorced', '<br>Education: Graduation', '<br>Yrs_Customer: 9', '<br>Age: 68', '<br>Kid Home: 0', '<br>Teen Home: 1')",
          "('Marital Status: Married', '<br>Education: Graduation', '<br>Yrs_Customer: 8', '<br>Age: 32', '<br>Kid Home: 0', '<br>Teen Home: 0')",
          "('Marital Status: Married', '<br>Education: Graduation', '<br>Yrs_Customer: 8', '<br>Age: 50', '<br>Kid Home: 1', '<br>Teen Home: 0')",
          "('Marital Status: Divorced', '<br>Education: Graduation', '<br>Yrs_Customer: 9', '<br>Age: 48', '<br>Kid Home: 0', '<br>Teen Home: 0')",
          "('Marital Status: Single', '<br>Education: Graduation', '<br>Yrs_Customer: 9', '<br>Age: 69', '<br>Kid Home: 0', '<br>Teen Home: 0')",
          "('Marital Status: Married', '<br>Education: PhD', '<br>Yrs_Customer: 9', '<br>Age: 66', '<br>Kid Home: 0', '<br>Teen Home: 1')",
          "('Marital Status: Divorced', '<br>Education: Graduation', '<br>Yrs_Customer: 9', '<br>Age: 54', '<br>Kid Home: 0', '<br>Teen Home: 0')",
          "('Marital Status: Together', '<br>Education: Graduation', '<br>Yrs_Customer: 9', '<br>Age: 57', '<br>Kid Home: 0', '<br>Teen Home: 0')",
          "('Marital Status: Divorced', '<br>Education: Graduation', '<br>Yrs_Customer: 7', '<br>Age: 52', '<br>Kid Home: 0', '<br>Teen Home: 0')",
          "('Marital Status: Single', '<br>Education: PhD', '<br>Yrs_Customer: 8', '<br>Age: 56', '<br>Kid Home: 0', '<br>Teen Home: 0')",
          "('Marital Status: Single', '<br>Education: Graduation', '<br>Yrs_Customer: 9', '<br>Age: 41', '<br>Kid Home: 0', '<br>Teen Home: 0')",
          "('Marital Status: Married', '<br>Education: Master', '<br>Yrs_Customer: 8', '<br>Age: 48', '<br>Kid Home: 0', '<br>Teen Home: 0')",
          "('Marital Status: Single', '<br>Education: PhD', '<br>Yrs_Customer: 9', '<br>Age: 61', '<br>Kid Home: 0', '<br>Teen Home: 0')",
          "('Marital Status: Single', '<br>Education: Unknown', '<br>Yrs_Customer: 9', '<br>Age: 56', '<br>Kid Home: 0', '<br>Teen Home: 0')",
          "('Marital Status: Together', '<br>Education: PhD', '<br>Yrs_Customer: 9', '<br>Age: 67', '<br>Kid Home: 0', '<br>Teen Home: 0')",
          "('Marital Status: Divorced', '<br>Education: Graduation', '<br>Yrs_Customer: 8', '<br>Age: 55', '<br>Kid Home: 0', '<br>Teen Home: 0')",
          "('Marital Status: Married', '<br>Education: PhD', '<br>Yrs_Customer: 8', '<br>Age: 40', '<br>Kid Home: 0', '<br>Teen Home: 0')",
          "('Marital Status: Widow', '<br>Education: Graduation', '<br>Yrs_Customer: 8', '<br>Age: 58', '<br>Kid Home: 0', '<br>Teen Home: 0')",
          "('Marital Status: Married', '<br>Education: Master', '<br>Yrs_Customer: 8', '<br>Age: 73', '<br>Kid Home: 0', '<br>Teen Home: 0')",
          "('Marital Status: Together', '<br>Education: Graduation', '<br>Yrs_Customer: 8', '<br>Age: 63', '<br>Kid Home: 0', '<br>Teen Home: 1')",
          "('Marital Status: Married', '<br>Education: PhD', '<br>Yrs_Customer: 9', '<br>Age: 45', '<br>Kid Home: 0', '<br>Teen Home: 1')",
          "('Marital Status: Widow', '<br>Education: Graduation', '<br>Yrs_Customer: 9', '<br>Age: 67', '<br>Kid Home: 0', '<br>Teen Home: 0')",
          "('Marital Status: Married', '<br>Education: Master', '<br>Yrs_Customer: 9', '<br>Age: 47', '<br>Kid Home: 0', '<br>Teen Home: 0')",
          "('Marital Status: Together', '<br>Education: Graduation', '<br>Yrs_Customer: 9', '<br>Age: 62', '<br>Kid Home: 0', '<br>Teen Home: 1')",
          "('Marital Status: Single', '<br>Education: Graduation', '<br>Yrs_Customer: 9', '<br>Age: 49', '<br>Kid Home: 0', '<br>Teen Home: 0')",
          "('Marital Status: Divorced', '<br>Education: Master', '<br>Yrs_Customer: 9', '<br>Age: 72', '<br>Kid Home: 0', '<br>Teen Home: 1')",
          "('Marital Status: Together', '<br>Education: Master', '<br>Yrs_Customer: 9', '<br>Age: 75', '<br>Kid Home: 0', '<br>Teen Home: 0')",
          "('Marital Status: Together', '<br>Education: Graduation', '<br>Yrs_Customer: 9', '<br>Age: 52', '<br>Kid Home: 0', '<br>Teen Home: 0')",
          "('Marital Status: Married', '<br>Education: PhD', '<br>Yrs_Customer: 9', '<br>Age: 59', '<br>Kid Home: 0', '<br>Teen Home: 1')",
          "('Marital Status: Single', '<br>Education: PhD', '<br>Yrs_Customer: 9', '<br>Age: 50', '<br>Kid Home: 0', '<br>Teen Home: 0')",
          "('Marital Status: Single', '<br>Education: Master', '<br>Yrs_Customer: 8', '<br>Age: 34', '<br>Kid Home: 0', '<br>Teen Home: 0')",
          "('Marital Status: Divorced', '<br>Education: Unknown', '<br>Yrs_Customer: 9', '<br>Age: 62', '<br>Kid Home: 0', '<br>Teen Home: 0')",
          "('Marital Status: Married', '<br>Education: Graduation', '<br>Yrs_Customer: 8', '<br>Age: 73', '<br>Kid Home: 0', '<br>Teen Home: 0')",
          "('Marital Status: Married', '<br>Education: Unknown', '<br>Yrs_Customer: 8', '<br>Age: 68', '<br>Kid Home: 0', '<br>Teen Home: 0')",
          "('Marital Status: Married', '<br>Education: Graduation', '<br>Yrs_Customer: 9', '<br>Age: 53', '<br>Kid Home: 0', '<br>Teen Home: 0')",
          "('Marital Status: Together', '<br>Education: PhD', '<br>Yrs_Customer: 9', '<br>Age: 50', '<br>Kid Home: 0', '<br>Teen Home: 1')",
          "('Marital Status: Married', '<br>Education: Graduation', '<br>Yrs_Customer: 9', '<br>Age: 64', '<br>Kid Home: 0', '<br>Teen Home: 0')",
          "('Marital Status: Single', '<br>Education: PhD', '<br>Yrs_Customer: 9', '<br>Age: 42', '<br>Kid Home: 0', '<br>Teen Home: 0')",
          "('Marital Status: Together', '<br>Education: Graduation', '<br>Yrs_Customer: 8', '<br>Age: 63', '<br>Kid Home: 0', '<br>Teen Home: 1')",
          "('Marital Status: Together', '<br>Education: Graduation', '<br>Yrs_Customer: 8', '<br>Age: 52', '<br>Kid Home: 0', '<br>Teen Home: 0')",
          "('Marital Status: Single', '<br>Education: PhD', '<br>Yrs_Customer: 9', '<br>Age: 50', '<br>Kid Home: 0', '<br>Teen Home: 0')",
          "('Marital Status: Single', '<br>Education: Graduation', '<br>Yrs_Customer: 8', '<br>Age: 61', '<br>Kid Home: 0', '<br>Teen Home: 0')",
          "('Marital Status: Widow', '<br>Education: PhD', '<br>Yrs_Customer: 9', '<br>Age: 59', '<br>Kid Home: 0', '<br>Teen Home: 1')",
          "('Marital Status: Single', '<br>Education: Graduation', '<br>Yrs_Customer: 9', '<br>Age: 28', '<br>Kid Home: 0', '<br>Teen Home: 0')",
          "('Marital Status: Married', '<br>Education: PhD', '<br>Yrs_Customer: 8', '<br>Age: 40', '<br>Kid Home: 0', '<br>Teen Home: 0')",
          "('Marital Status: Divorced', '<br>Education: Graduation', '<br>Yrs_Customer: 8', '<br>Age: 39', '<br>Kid Home: 0', '<br>Teen Home: 0')",
          "('Marital Status: Together', '<br>Education: Graduation', '<br>Yrs_Customer: 9', '<br>Age: 69', '<br>Kid Home: 0', '<br>Teen Home: 0')",
          "('Marital Status: Married', '<br>Education: Graduation', '<br>Yrs_Customer: 8', '<br>Age: 49', '<br>Kid Home: 0', '<br>Teen Home: 0')",
          "('Marital Status: Married', '<br>Education: Graduation', '<br>Yrs_Customer: 8', '<br>Age: 72', '<br>Kid Home: 0', '<br>Teen Home: 0')",
          "('Marital Status: Married', '<br>Education: Graduation', '<br>Yrs_Customer: 8', '<br>Age: 53', '<br>Kid Home: 0', '<br>Teen Home: 0')",
          "('Marital Status: Divorced', '<br>Education: Graduation', '<br>Yrs_Customer: 8', '<br>Age: 68', '<br>Kid Home: 0', '<br>Teen Home: 0')",
          "('Marital Status: Single', '<br>Education: PhD', '<br>Yrs_Customer: 8', '<br>Age: 35', '<br>Kid Home: 0', '<br>Teen Home: 0')",
          "('Marital Status: Together', '<br>Education: PhD', '<br>Yrs_Customer: 9', '<br>Age: 69', '<br>Kid Home: 1', '<br>Teen Home: 2')",
          "('Marital Status: Together', '<br>Education: Graduation', '<br>Yrs_Customer: 8', '<br>Age: 51', '<br>Kid Home: 0', '<br>Teen Home: 0')",
          "('Marital Status: Single', '<br>Education: Graduation', '<br>Yrs_Customer: 9', '<br>Age: 51', '<br>Kid Home: 0', '<br>Teen Home: 0')",
          "('Marital Status: Single', '<br>Education: Graduation', '<br>Yrs_Customer: 8', '<br>Age: 30', '<br>Kid Home: 0', '<br>Teen Home: 0')",
          "('Marital Status: Married', '<br>Education: Graduation', '<br>Yrs_Customer: 9', '<br>Age: 66', '<br>Kid Home: 0', '<br>Teen Home: 0')",
          "('Marital Status: Single', '<br>Education: Master', '<br>Yrs_Customer: 9', '<br>Age: 52', '<br>Kid Home: 0', '<br>Teen Home: 0')",
          "('Marital Status: Single', '<br>Education: PhD', '<br>Yrs_Customer: 8', '<br>Age: 64', '<br>Kid Home: 0', '<br>Teen Home: 0')",
          "('Marital Status: Divorced', '<br>Education: Graduation', '<br>Yrs_Customer: 8', '<br>Age: 47', '<br>Kid Home: 0', '<br>Teen Home: 0')",
          "('Marital Status: Single', '<br>Education: Unknown', '<br>Yrs_Customer: 9', '<br>Age: 39', '<br>Kid Home: 0', '<br>Teen Home: 0')",
          "('Marital Status: Divorced', '<br>Education: Unknown', '<br>Yrs_Customer: 8', '<br>Age: 70', '<br>Kid Home: 0', '<br>Teen Home: 0')",
          "('Marital Status: Single', '<br>Education: Graduation', '<br>Yrs_Customer: 8', '<br>Age: 37', '<br>Kid Home: 0', '<br>Teen Home: 0')",
          "('Marital Status: Divorced', '<br>Education: PhD', '<br>Yrs_Customer: 9', '<br>Age: 60', '<br>Kid Home: 0', '<br>Teen Home: 0')",
          "('Marital Status: Together', '<br>Education: Graduation', '<br>Yrs_Customer: 9', '<br>Age: 48', '<br>Kid Home: 0', '<br>Teen Home: 0')",
          "('Marital Status: Divorced', '<br>Education: PhD', '<br>Yrs_Customer: 9', '<br>Age: 61', '<br>Kid Home: 0', '<br>Teen Home: 1')",
          "('Marital Status: Divorced', '<br>Education: Master', '<br>Yrs_Customer: 9', '<br>Age: 52', '<br>Kid Home: 0', '<br>Teen Home: 0')",
          "('Marital Status: Widow', '<br>Education: Master', '<br>Yrs_Customer: 9', '<br>Age: 53', '<br>Kid Home: 0', '<br>Teen Home: 1')",
          "('Marital Status: Married', '<br>Education: PhD', '<br>Yrs_Customer: 8', '<br>Age: 57', '<br>Kid Home: 0', '<br>Teen Home: 0')",
          "('Marital Status: Married', '<br>Education: PhD', '<br>Yrs_Customer: 9', '<br>Age: 55', '<br>Kid Home: 0', '<br>Teen Home: 1')",
          "('Marital Status: Divorced', '<br>Education: PhD', '<br>Yrs_Customer: 8', '<br>Age: 39', '<br>Kid Home: 0', '<br>Teen Home: 0')",
          "('Marital Status: Divorced', '<br>Education: Graduation', '<br>Yrs_Customer: 8', '<br>Age: 47', '<br>Kid Home: 0', '<br>Teen Home: 0')",
          "('Marital Status: Together', '<br>Education: Graduation', '<br>Yrs_Customer: 9', '<br>Age: 39', '<br>Kid Home: 0', '<br>Teen Home: 0')",
          "('Marital Status: Divorced', '<br>Education: Unknown', '<br>Yrs_Customer: 9', '<br>Age: 51', '<br>Kid Home: 0', '<br>Teen Home: 0')",
          "('Marital Status: Married', '<br>Education: Master', '<br>Yrs_Customer: 9', '<br>Age: 50', '<br>Kid Home: 0', '<br>Teen Home: 0')",
          "('Marital Status: Married', '<br>Education: Graduation', '<br>Yrs_Customer: 8', '<br>Age: 76', '<br>Kid Home: 0', '<br>Teen Home: 0')",
          "('Marital Status: Together', '<br>Education: Graduation', '<br>Yrs_Customer: 9', '<br>Age: 69', '<br>Kid Home: 0', '<br>Teen Home: 0')",
          "('Marital Status: Married', '<br>Education: Graduation', '<br>Yrs_Customer: 8', '<br>Age: 40', '<br>Kid Home: 0', '<br>Teen Home: 0')",
          "('Marital Status: Together', '<br>Education: PhD', '<br>Yrs_Customer: 8', '<br>Age: 77', '<br>Kid Home: 0', '<br>Teen Home: 0')",
          "('Marital Status: Married', '<br>Education: Master', '<br>Yrs_Customer: 9', '<br>Age: 73', '<br>Kid Home: 1', '<br>Teen Home: 1')",
          "('Marital Status: Divorced', '<br>Education: PhD', '<br>Yrs_Customer: 9', '<br>Age: 60', '<br>Kid Home: 0', '<br>Teen Home: 0')",
          "('Marital Status: Single', '<br>Education: Graduation', '<br>Yrs_Customer: 8', '<br>Age: 29', '<br>Kid Home: 0', '<br>Teen Home: 0')",
          "('Marital Status: Married', '<br>Education: Graduation', '<br>Yrs_Customer: 9', '<br>Age: 40', '<br>Kid Home: 0', '<br>Teen Home: 0')",
          "('Marital Status: Single', '<br>Education: Master', '<br>Yrs_Customer: 9', '<br>Age: 64', '<br>Kid Home: 0', '<br>Teen Home: 1')",
          "('Marital Status: Married', '<br>Education: Graduation', '<br>Yrs_Customer: 8', '<br>Age: 50', '<br>Kid Home: 1', '<br>Teen Home: 0')",
          "('Marital Status: Married', '<br>Education: Graduation', '<br>Yrs_Customer: 8', '<br>Age: 78', '<br>Kid Home: 0', '<br>Teen Home: 0')",
          "('Marital Status: Widow', '<br>Education: Master', '<br>Yrs_Customer: 9', '<br>Age: 74', '<br>Kid Home: 0', '<br>Teen Home: 0')",
          "('Marital Status: Single', '<br>Education: Graduation', '<br>Yrs_Customer: 8', '<br>Age: 69', '<br>Kid Home: 0', '<br>Teen Home: 0')",
          "('Marital Status: Single', '<br>Education: Graduation', '<br>Yrs_Customer: 8', '<br>Age: 52', '<br>Kid Home: 0', '<br>Teen Home: 0')",
          "('Marital Status: Married', '<br>Education: PhD', '<br>Yrs_Customer: 9', '<br>Age: 53', '<br>Kid Home: 0', '<br>Teen Home: 2')",
          "('Marital Status: Together', '<br>Education: Graduation', '<br>Yrs_Customer: 8', '<br>Age: 34', '<br>Kid Home: 0', '<br>Teen Home: 0')",
          "('Marital Status: Together', '<br>Education: PhD', '<br>Yrs_Customer: 9', '<br>Age: 53', '<br>Kid Home: 0', '<br>Teen Home: 1')",
          "('Marital Status: Single', '<br>Education: PhD', '<br>Yrs_Customer: 9', '<br>Age: 67', '<br>Kid Home: 0', '<br>Teen Home: 0')",
          "('Marital Status: Single', '<br>Education: PhD', '<br>Yrs_Customer: 8', '<br>Age: 39', '<br>Kid Home: 0', '<br>Teen Home: 0')",
          "('Marital Status: Single', '<br>Education: PhD', '<br>Yrs_Customer: 8', '<br>Age: 35', '<br>Kid Home: 0', '<br>Teen Home: 0')",
          "('Marital Status: Widow', '<br>Education: PhD', '<br>Yrs_Customer: 8', '<br>Age: 63', '<br>Kid Home: 0', '<br>Teen Home: 0')",
          "('Marital Status: Single', '<br>Education: PhD', '<br>Yrs_Customer: 9', '<br>Age: 76', '<br>Kid Home: 0', '<br>Teen Home: 0')",
          "('Marital Status: Single', '<br>Education: Master', '<br>Yrs_Customer: 8', '<br>Age: 31', '<br>Kid Home: 0', '<br>Teen Home: 0')",
          "('Marital Status: Single', '<br>Education: Graduation', '<br>Yrs_Customer: 8', '<br>Age: 32', '<br>Kid Home: 0', '<br>Teen Home: 0')",
          "('Marital Status: Divorced', '<br>Education: PhD', '<br>Yrs_Customer: 8', '<br>Age: 58', '<br>Kid Home: 0', '<br>Teen Home: 2')",
          "('Marital Status: Divorced', '<br>Education: Graduation', '<br>Yrs_Customer: 8', '<br>Age: 55', '<br>Kid Home: 0', '<br>Teen Home: 0')",
          "('Marital Status: Single', '<br>Education: Graduation', '<br>Yrs_Customer: 9', '<br>Age: 61', '<br>Kid Home: 0', '<br>Teen Home: 0')",
          "('Marital Status: Single', '<br>Education: Graduation', '<br>Yrs_Customer: 7', '<br>Age: 41', '<br>Kid Home: 0', '<br>Teen Home: 0')",
          "('Marital Status: Married', '<br>Education: PhD', '<br>Yrs_Customer: 9', '<br>Age: 55', '<br>Kid Home: 0', '<br>Teen Home: 1')",
          "('Marital Status: Married', '<br>Education: Master', '<br>Yrs_Customer: 9', '<br>Age: 36', '<br>Kid Home: 0', '<br>Teen Home: 0')",
          "('Marital Status: Divorced', '<br>Education: Master', '<br>Yrs_Customer: 9', '<br>Age: 42', '<br>Kid Home: 0', '<br>Teen Home: 0')",
          "('Marital Status: Married', '<br>Education: Graduation', '<br>Yrs_Customer: 7', '<br>Age: 36', '<br>Kid Home: 0', '<br>Teen Home: 0')",
          "('Marital Status: Married', '<br>Education: Master', '<br>Yrs_Customer: 8', '<br>Age: 63', '<br>Kid Home: 0', '<br>Teen Home: 1')",
          "('Marital Status: Married', '<br>Education: PhD', '<br>Yrs_Customer: 9', '<br>Age: 39', '<br>Kid Home: 0', '<br>Teen Home: 0')",
          "('Marital Status: Single', '<br>Education: Graduation', '<br>Yrs_Customer: 8', '<br>Age: 31', '<br>Kid Home: 0', '<br>Teen Home: 0')",
          "('Marital Status: Together', '<br>Education: Graduation', '<br>Yrs_Customer: 9', '<br>Age: 75', '<br>Kid Home: 0', '<br>Teen Home: 0')",
          "('Marital Status: Together', '<br>Education: PhD', '<br>Yrs_Customer: 9', '<br>Age: 61', '<br>Kid Home: 0', '<br>Teen Home: 1')",
          "('Marital Status: Married', '<br>Education: Graduation', '<br>Yrs_Customer: 8', '<br>Age: 66', '<br>Kid Home: 0', '<br>Teen Home: 0')",
          "('Marital Status: Single', '<br>Education: Graduation', '<br>Yrs_Customer: 8', '<br>Age: 71', '<br>Kid Home: 0', '<br>Teen Home: 0')",
          "('Marital Status: Together', '<br>Education: Graduation', '<br>Yrs_Customer: 9', '<br>Age: 36', '<br>Kid Home: 0', '<br>Teen Home: 0')",
          "('Marital Status: Divorced', '<br>Education: PhD', '<br>Yrs_Customer: 9', '<br>Age: 68', '<br>Kid Home: 0', '<br>Teen Home: 1')",
          "('Marital Status: Widow', '<br>Education: Master', '<br>Yrs_Customer: 8', '<br>Age: 69', '<br>Kid Home: 0', '<br>Teen Home: 0')",
          "('Marital Status: Single', '<br>Education: Unknown', '<br>Yrs_Customer: 9', '<br>Age: 27', '<br>Kid Home: 0', '<br>Teen Home: 0')",
          "('Marital Status: Together', '<br>Education: Graduation', '<br>Yrs_Customer: 9', '<br>Age: 61', '<br>Kid Home: 0', '<br>Teen Home: 0')",
          "('Marital Status: Single', '<br>Education: PhD', '<br>Yrs_Customer: 8', '<br>Age: 38', '<br>Kid Home: 0', '<br>Teen Home: 0')",
          "('Marital Status: Married', '<br>Education: Graduation', '<br>Yrs_Customer: 9', '<br>Age: 40', '<br>Kid Home: 0', '<br>Teen Home: 0')",
          "('Marital Status: Together', '<br>Education: Unknown', '<br>Yrs_Customer: 8', '<br>Age: 45', '<br>Kid Home: 0', '<br>Teen Home: 0')",
          "('Marital Status: Married', '<br>Education: PhD', '<br>Yrs_Customer: 9', '<br>Age: 38', '<br>Kid Home: 0', '<br>Teen Home: 0')",
          "('Marital Status: Divorced', '<br>Education: PhD', '<br>Yrs_Customer: 8', '<br>Age: 51', '<br>Kid Home: 0', '<br>Teen Home: 0')",
          "('Marital Status: Married', '<br>Education: Graduation', '<br>Yrs_Customer: 9', '<br>Age: 55', '<br>Kid Home: 0', '<br>Teen Home: 1')",
          "('Marital Status: Single', '<br>Education: Graduation', '<br>Yrs_Customer: 9', '<br>Age: 66', '<br>Kid Home: 0', '<br>Teen Home: 0')",
          "('Marital Status: Single', '<br>Education: Graduation', '<br>Yrs_Customer: 9', '<br>Age: 65', '<br>Kid Home: 0', '<br>Teen Home: 0')",
          "('Marital Status: Married', '<br>Education: PhD', '<br>Yrs_Customer: 8', '<br>Age: 38', '<br>Kid Home: 0', '<br>Teen Home: 0')",
          "('Marital Status: Married', '<br>Education: Graduation', '<br>Yrs_Customer: 9', '<br>Age: 40', '<br>Kid Home: 0', '<br>Teen Home: 0')",
          "('Marital Status: Together', '<br>Education: PhD', '<br>Yrs_Customer: 9', '<br>Age: 46', '<br>Kid Home: 0', '<br>Teen Home: 0')",
          "('Marital Status: Single', '<br>Education: Graduation', '<br>Yrs_Customer: 9', '<br>Age: 32', '<br>Kid Home: 0', '<br>Teen Home: 0')",
          "('Marital Status: Widow', '<br>Education: PhD', '<br>Yrs_Customer: 8', '<br>Age: 60', '<br>Kid Home: 0', '<br>Teen Home: 0')",
          "('Marital Status: Widow', '<br>Education: Graduation', '<br>Yrs_Customer: 9', '<br>Age: 73', '<br>Kid Home: 0', '<br>Teen Home: 0')",
          "('Marital Status: Divorced', '<br>Education: PhD', '<br>Yrs_Customer: 8', '<br>Age: 59', '<br>Kid Home: 0', '<br>Teen Home: 0')",
          "('Marital Status: Single', '<br>Education: Master', '<br>Yrs_Customer: 8', '<br>Age: 75', '<br>Kid Home: 0', '<br>Teen Home: 0')",
          "('Marital Status: Together', '<br>Education: Graduation', '<br>Yrs_Customer: 8', '<br>Age: 45', '<br>Kid Home: 0', '<br>Teen Home: 0')",
          "('Marital Status: Single', '<br>Education: Graduation', '<br>Yrs_Customer: 9', '<br>Age: 64', '<br>Kid Home: 0', '<br>Teen Home: 0')",
          "('Marital Status: Single', '<br>Education: Graduation', '<br>Yrs_Customer: 9', '<br>Age: 52', '<br>Kid Home: 1', '<br>Teen Home: 0')",
          "('Marital Status: Unknown', '<br>Education: Graduation', '<br>Yrs_Customer: 9', '<br>Age: 29', '<br>Kid Home: 0', '<br>Teen Home: 0')",
          "('Marital Status: Married', '<br>Education: Master', '<br>Yrs_Customer: 9', '<br>Age: 46', '<br>Kid Home: 1', '<br>Teen Home: 0')",
          "('Marital Status: Single', '<br>Education: Graduation', '<br>Yrs_Customer: 9', '<br>Age: 61', '<br>Kid Home: 0', '<br>Teen Home: 0')",
          "('Marital Status: Married', '<br>Education: PhD', '<br>Yrs_Customer: 9', '<br>Age: 36', '<br>Kid Home: 0', '<br>Teen Home: 0')",
          "('Marital Status: Together', '<br>Education: PhD', '<br>Yrs_Customer: 9', '<br>Age: 57', '<br>Kid Home: 0', '<br>Teen Home: 0')",
          "('Marital Status: Single', '<br>Education: Master', '<br>Yrs_Customer: 9', '<br>Age: 46', '<br>Kid Home: 0', '<br>Teen Home: 0')",
          "('Marital Status: Single', '<br>Education: Graduation', '<br>Yrs_Customer: 8', '<br>Age: 65', '<br>Kid Home: 0', '<br>Teen Home: 0')",
          "('Marital Status: Married', '<br>Education: PhD', '<br>Yrs_Customer: 9', '<br>Age: 58', '<br>Kid Home: 0', '<br>Teen Home: 1')",
          "('Marital Status: Single', '<br>Education: Master', '<br>Yrs_Customer: 9', '<br>Age: 32', '<br>Kid Home: 0', '<br>Teen Home: 0')",
          "('Marital Status: Divorced', '<br>Education: Unknown', '<br>Yrs_Customer: 8', '<br>Age: 52', '<br>Kid Home: 0', '<br>Teen Home: 0')",
          "('Marital Status: Married', '<br>Education: PhD', '<br>Yrs_Customer: 9', '<br>Age: 47', '<br>Kid Home: 0', '<br>Teen Home: 0')",
          "('Marital Status: Single', '<br>Education: Master', '<br>Yrs_Customer: 9', '<br>Age: 39', '<br>Kid Home: 0', '<br>Teen Home: 0')",
          "('Marital Status: Married', '<br>Education: Unknown', '<br>Yrs_Customer: 9', '<br>Age: 65', '<br>Kid Home: 0', '<br>Teen Home: 0')",
          "('Marital Status: Married', '<br>Education: Graduation', '<br>Yrs_Customer: 9', '<br>Age: 65', '<br>Kid Home: 0', '<br>Teen Home: 1')",
          "('Marital Status: Single', '<br>Education: Master', '<br>Yrs_Customer: 8', '<br>Age: 40', '<br>Kid Home: 0', '<br>Teen Home: 0')"
         ],
         "type": "scatter3d",
         "x": [
          58138,
          82800,
          82582,
          82384,
          70287,
          75777,
          88194,
          75251,
          75825,
          87195,
          68126,
          101970,
          79607,
          65104,
          69372,
          83837,
          102160,
          64497,
          73687,
          80134,
          102692,
          69267,
          66334,
          75693,
          83003,
          84835,
          69759,
          91065,
          82584,
          84865,
          89572,
          75261,
          76982,
          84169,
          85620,
          81698,
          87771,
          61996,
          79800,
          92163,
          70971,
          83917,
          63120,
          77632,
          105471,
          81300,
          86857,
          90247,
          87305,
          72025,
          63564,
          80952,
          62220,
          48192,
          76412,
          87771,
          81205,
          86857,
          86429,
          52278,
          95529,
          84169,
          82025,
          94384,
          92955,
          80763,
          75759,
          85683,
          95169,
          64504,
          74538,
          91700,
          83528,
          79456,
          75345,
          71691,
          83829,
          81698,
          63998,
          72903,
          85696,
          83145,
          54959,
          78579,
          67369,
          69969,
          77766,
          90687,
          83829,
          78687,
          49118,
          83151,
          78569,
          94384,
          65169,
          71604,
          62845,
          85696,
          70515,
          69109,
          75154,
          80134,
          80589,
          78427,
          73892,
          93790,
          94871,
          87679,
          53374,
          49667,
          87188,
          74004,
          67786,
          82800,
          90638,
          64509,
          64140,
          57136,
          82014,
          72066,
          77766,
          80141,
          78789,
          83512,
          77520,
          92491,
          90273,
          70321,
          63342,
          90369,
          72282,
          78394,
          57333,
          84953,
          83257,
          64260,
          82733,
          69109,
          82326,
          70643,
          86979,
          77870,
          91249,
          64849,
          73356,
          63211,
          72335,
          96843,
          71670,
          72643,
          72968,
          91712,
          96876,
          68281,
          76467,
          79244,
          81929,
          82332,
          82333,
          65220,
          72309,
          78499,
          60896,
          91172,
          65706,
          79174,
          89616,
          82347,
          73803,
          75777
         ],
         "y": [
          1617,
          1315,
          1617,
          1957,
          1093,
          1438,
          1274,
          1890,
          2209,
          1097,
          1820,
          1135,
          1923,
          1053,
          1381,
          1318,
          1240,
          1804,
          1627,
          1690,
          1112,
          1635,
          1161,
          1442,
          1674,
          1190,
          1029,
          1474,
          1435,
          1688,
          2059,
          1743,
          1062,
          1919,
          1600,
          1008,
          1957,
          1230,
          1867,
          2086,
          1825,
          1587,
          1477,
          2252,
          1724,
          1241,
          2114,
          1621,
          1152,
          1677,
          1215,
          1757,
          1226,
          1526,
          1808,
          1957,
          2009,
          2114,
          1449,
          1198,
          1990,
          1919,
          1187,
          2302,
          1778,
          1415,
          2486,
          1789,
          1901,
          1314,
          1461,
          1968,
          1650,
          1401,
          2087,
          1192,
          1862,
          1104,
          1168,
          2013,
          1313,
          1833,
          1232,
          1812,
          1461,
          1536,
          1529,
          1779,
          1862,
          2130,
          1229,
          2346,
          1736,
          2302,
          1189,
          1196,
          1178,
          1313,
          1258,
          1555,
          1143,
          1690,
          1428,
          1930,
          1507,
          2349,
          1078,
          2524,
          1064,
          1396,
          1923,
          1658,
          1156,
          1315,
          2525,
          1722,
          1750,
          1179,
          1511,
          1792,
          1529,
          2091,
          1754,
          2157,
          1526,
          2034,
          1991,
          1376,
          1101,
          1588,
          1331,
          1428,
          1662,
          1024,
          1365,
          1574,
          1323,
          1555,
          2257,
          1828,
          1702,
          1815,
          1676,
          1336,
          1512,
          1173,
          2092,
          1544,
          1766,
          1429,
          1958,
          2217,
          1941,
          1655,
          1575,
          1216,
          2053,
          2006,
          1822,
          1282,
          1931,
          1334,
          1701,
          1092,
          1199,
          2043,
          1644,
          1853,
          1528,
          1438
         ],
         "z": [
          58,
          23,
          54,
          55,
          30,
          12,
          19,
          34,
          40,
          35,
          40,
          69,
          37,
          4,
          10,
          79,
          54,
          17,
          8,
          40,
          5,
          31,
          82,
          10,
          18,
          999,
          38,
          33,
          26,
          1,
          44,
          17,
          19,
          9,
          68,
          4,
          61,
          27,
          65,
          25,
          28,
          12,
          53,
          73,
          36,
          17,
          96,
          27,
          19,
          46,
          999,
          20,
          55,
          76,
          15,
          61,
          43,
          96,
          10,
          24,
          29,
          9,
          76,
          62,
          35,
          17,
          46,
          6,
          1,
          81,
          21,
          58,
          7,
          12,
          16,
          999,
          78,
          1,
          42,
          74,
          88,
          14,
          55,
          35,
          81,
          64,
          97,
          98,
          78,
          13,
          90,
          80,
          14,
          62,
          23,
          3,
          3,
          88,
          12,
          10,
          79,
          40,
          25,
          36,
          40,
          16,
          99,
          62,
          34,
          35,
          73,
          5,
          999,
          23,
          29,
          19,
          71,
          18,
          48,
          55,
          97,
          20,
          12,
          31,
          30,
          71,
          32,
          6,
          48,
          2,
          70,
          13,
          55,
          73,
          56,
          1,
          28,
          10,
          30,
          66,
          67,
          93,
          84,
          42,
          56,
          3,
          2,
          60,
          8,
          60,
          8,
          47,
          79,
          31,
          44,
          58,
          60,
          89,
          60,
          3,
          64,
          12,
          90,
          94,
          77,
          2,
          36,
          38,
          61,
          12
         ]
        },
        {
         "hoverinfo": "text",
         "hovertemplate": "<b>Income: $%{x:.0f}K</b><br><b>Total Spent: $%{y:.0f}</b><br><b>Recency: %{z:.0f}</b><br>%{text}",
         "marker": {
          "color": "red",
          "opacity": 0.4,
          "size": 6
         },
         "mode": "markers",
         "name": "ignored",
         "text": [
          "('Marital Status: Together', '<br>Education: PhD', '<br>Yrs_Customer: 8', '<br>Age: 72', '<br>Kid Home: 1', '<br>Teen Home: 1')",
          "('Marital Status: Married', '<br>Education: Basic', '<br>Yrs_Customer: 9', '<br>Age: 46', '<br>Kid Home: 0', '<br>Teen Home: 0')",
          "('Marital Status: Married', '<br>Education: Graduation', '<br>Yrs_Customer: 9', '<br>Age: 35', '<br>Kid Home: 0', '<br>Teen Home: 0')",
          "('Marital Status: Single', '<br>Education: Graduation', '<br>Yrs_Customer: 9', '<br>Age: 53', '<br>Kid Home: 0', '<br>Teen Home: 0')",
          "('Marital Status: Divorced', '<br>Education: Master', '<br>Yrs_Customer: 7', '<br>Age: 33', '<br>Kid Home: 0', '<br>Teen Home: 0')",
          "('Marital Status: Married', '<br>Education: Unknown', '<br>Yrs_Customer: 8', '<br>Age: 46', '<br>Kid Home: 1', '<br>Teen Home: 0')",
          "('Marital Status: Married', '<br>Education: Master', '<br>Yrs_Customer: 9', '<br>Age: 37', '<br>Kid Home: 1', '<br>Teen Home: 0')",
          "('Marital Status: Together', '<br>Education: Graduation', '<br>Yrs_Customer: 9', '<br>Age: 65', '<br>Kid Home: 0', '<br>Teen Home: 1')",
          "('Marital Status: Married', '<br>Education: Master', '<br>Yrs_Customer: 8', '<br>Age: 47', '<br>Kid Home: 1', '<br>Teen Home: 0')",
          "('Marital Status: Married', '<br>Education: Unknown', '<br>Yrs_Customer: 8', '<br>Age: 49', '<br>Kid Home: 1', '<br>Teen Home: 0')",
          "('Marital Status: Married', '<br>Education: PhD', '<br>Yrs_Customer: 7', '<br>Age: 52', '<br>Kid Home: 1', '<br>Teen Home: 0')",
          "('Marital Status: Together', '<br>Education: Basic', '<br>Yrs_Customer: 8', '<br>Age: 43', '<br>Kid Home: 1', '<br>Teen Home: 0')",
          "('Marital Status: Together', '<br>Education: Graduation', '<br>Yrs_Customer: 8', '<br>Age: 53', '<br>Kid Home: 1', '<br>Teen Home: 0')",
          "('Marital Status: Married', '<br>Education: Master', '<br>Yrs_Customer: 8', '<br>Age: 37', '<br>Kid Home: 2', '<br>Teen Home: 0')",
          "('Marital Status: Divorced', '<br>Education: Basic', '<br>Yrs_Customer: 9', '<br>Age: 46', '<br>Kid Home: 1', '<br>Teen Home: 0')",
          "('Marital Status: Married', '<br>Education: Graduation', '<br>Yrs_Customer: 8', '<br>Age: 38', '<br>Kid Home: 1', '<br>Teen Home: 0')",
          "('Marital Status: Married', '<br>Education: Unknown', '<br>Yrs_Customer: 8', '<br>Age: 34', '<br>Kid Home: 1', '<br>Teen Home: 0')",
          "('Marital Status: Together', '<br>Education: Basic', '<br>Yrs_Customer: 9', '<br>Age: 44', '<br>Kid Home: 1', '<br>Teen Home: 0')",
          "('Marital Status: Single', '<br>Education: Graduation', '<br>Yrs_Customer: 8', '<br>Age: 71', '<br>Kid Home: 0', '<br>Teen Home: 0')",
          "('Marital Status: Married', '<br>Education: Unknown', '<br>Yrs_Customer: 8', '<br>Age: 47', '<br>Kid Home: 1', '<br>Teen Home: 0')",
          "('Marital Status: Together', '<br>Education: Master', '<br>Yrs_Customer: 8', '<br>Age: 40', '<br>Kid Home: 1', '<br>Teen Home: 0')",
          "('Marital Status: Single', '<br>Education: Graduation', '<br>Yrs_Customer: 8', '<br>Age: 49', '<br>Kid Home: 1', '<br>Teen Home: 0')",
          "('Marital Status: Single', '<br>Education: Graduation', '<br>Yrs_Customer: 8', '<br>Age: 51', '<br>Kid Home: 1', '<br>Teen Home: 0')",
          "('Marital Status: Single', '<br>Education: Graduation', '<br>Yrs_Customer: 8', '<br>Age: 58', '<br>Kid Home: 1', '<br>Teen Home: 1')",
          "('Marital Status: Together', '<br>Education: Graduation', '<br>Yrs_Customer: 8', '<br>Age: 52', '<br>Kid Home: 1', '<br>Teen Home: 0')",
          "('Marital Status: Married', '<br>Education: Basic', '<br>Yrs_Customer: 9', '<br>Age: 41', '<br>Kid Home: 1', '<br>Teen Home: 0')",
          "('Marital Status: Together', '<br>Education: Graduation', '<br>Yrs_Customer: 8', '<br>Age: 51', '<br>Kid Home: 2', '<br>Teen Home: 0')",
          "('Marital Status: Together', '<br>Education: Graduation', '<br>Yrs_Customer: 8', '<br>Age: 38', '<br>Kid Home: 1', '<br>Teen Home: 0')",
          "('Marital Status: Divorced', '<br>Education: Graduation', '<br>Yrs_Customer: 8', '<br>Age: 46', '<br>Kid Home: 1', '<br>Teen Home: 0')",
          "('Marital Status: Married', '<br>Education: Graduation', '<br>Yrs_Customer: 8', '<br>Age: 55', '<br>Kid Home: 2', '<br>Teen Home: 1')",
          "('Marital Status: Divorced', '<br>Education: PhD', '<br>Yrs_Customer: 8', '<br>Age: 46', '<br>Kid Home: 1', '<br>Teen Home: 0')",
          "('Marital Status: Single', '<br>Education: Graduation', '<br>Yrs_Customer: 9', '<br>Age: 39', '<br>Kid Home: 1', '<br>Teen Home: 0')",
          "('Marital Status: Together', '<br>Education: Graduation', '<br>Yrs_Customer: 8', '<br>Age: 39', '<br>Kid Home: 1', '<br>Teen Home: 0')",
          "('Marital Status: Married', '<br>Education: Graduation', '<br>Yrs_Customer: 8', '<br>Age: 37', '<br>Kid Home: 1', '<br>Teen Home: 0')",
          "('Marital Status: Single', '<br>Education: Graduation', '<br>Yrs_Customer: 8', '<br>Age: 51', '<br>Kid Home: 1', '<br>Teen Home: 0')",
          "('Marital Status: Single', '<br>Education: Graduation', '<br>Yrs_Customer: 9', '<br>Age: 35', '<br>Kid Home: 1', '<br>Teen Home: 0')",
          "('Marital Status: Together', '<br>Education: Unknown', '<br>Yrs_Customer: 8', '<br>Age: 47', '<br>Kid Home: 1', '<br>Teen Home: 0')",
          "('Marital Status: Together', '<br>Education: Master', '<br>Yrs_Customer: 7', '<br>Age: 40', '<br>Kid Home: 1', '<br>Teen Home: 0')",
          "('Marital Status: Together', '<br>Education: Unknown', '<br>Yrs_Customer: 8', '<br>Age: 33', '<br>Kid Home: 1', '<br>Teen Home: 0')",
          "('Marital Status: Married', '<br>Education: Unknown', '<br>Yrs_Customer: 9', '<br>Age: 36', '<br>Kid Home: 1', '<br>Teen Home: 0')",
          "('Marital Status: Married', '<br>Education: Graduation', '<br>Yrs_Customer: 8', '<br>Age: 76', '<br>Kid Home: 0', '<br>Teen Home: 0')",
          "('Marital Status: Married', '<br>Education: Unknown', '<br>Yrs_Customer: 8', '<br>Age: 48', '<br>Kid Home: 0', '<br>Teen Home: 0')",
          "('Marital Status: Divorced', '<br>Education: Graduation', '<br>Yrs_Customer: 8', '<br>Age: 63', '<br>Kid Home: 0', '<br>Teen Home: 0')",
          "('Marital Status: Married', '<br>Education: Graduation', '<br>Yrs_Customer: 8', '<br>Age: 46', '<br>Kid Home: 1', '<br>Teen Home: 0')",
          "('Marital Status: Single', '<br>Education: Graduation', '<br>Yrs_Customer: 7', '<br>Age: 34', '<br>Kid Home: 1', '<br>Teen Home: 0')",
          "('Marital Status: Married', '<br>Education: Graduation', '<br>Yrs_Customer: 8', '<br>Age: 53', '<br>Kid Home: 1', '<br>Teen Home: 0')",
          "('Marital Status: Married', '<br>Education: Basic', '<br>Yrs_Customer: 9', '<br>Age: 32', '<br>Kid Home: 0', '<br>Teen Home: 0')",
          "('Marital Status: Single', '<br>Education: Master', '<br>Yrs_Customer: 8', '<br>Age: 41', '<br>Kid Home: 1', '<br>Teen Home: 0')",
          "('Marital Status: Married', '<br>Education: Unknown', '<br>Yrs_Customer: 8', '<br>Age: 32', '<br>Kid Home: 1', '<br>Teen Home: 0')",
          "('Marital Status: Married', '<br>Education: Graduation', '<br>Yrs_Customer: 9', '<br>Age: 59', '<br>Kid Home: 0', '<br>Teen Home: 0')",
          "('Marital Status: Married', '<br>Education: Unknown', '<br>Yrs_Customer: 8', '<br>Age: 52', '<br>Kid Home: 0', '<br>Teen Home: 0')",
          "('Marital Status: Married', '<br>Education: Graduation', '<br>Yrs_Customer: 8', '<br>Age: 52', '<br>Kid Home: 1', '<br>Teen Home: 1')",
          "('Marital Status: Together', '<br>Education: Graduation', '<br>Yrs_Customer: 8', '<br>Age: 63', '<br>Kid Home: 0', '<br>Teen Home: 0')",
          "('Marital Status: Divorced', '<br>Education: Graduation', '<br>Yrs_Customer: 9', '<br>Age: 53', '<br>Kid Home: 1', '<br>Teen Home: 0')",
          "('Marital Status: Married', '<br>Education: Basic', '<br>Yrs_Customer: 9', '<br>Age: 49', '<br>Kid Home: 1', '<br>Teen Home: 0')",
          "('Marital Status: Married', '<br>Education: Graduation', '<br>Yrs_Customer: 8', '<br>Age: 55', '<br>Kid Home: 2', '<br>Teen Home: 1')",
          "('Marital Status: Married', '<br>Education: Graduation', '<br>Yrs_Customer: 9', '<br>Age: 46', '<br>Kid Home: 1', '<br>Teen Home: 0')",
          "('Marital Status: Married', '<br>Education: Graduation', '<br>Yrs_Customer: 8', '<br>Age: 37', '<br>Kid Home: 1', '<br>Teen Home: 0')",
          "('Marital Status: Together', '<br>Education: Master', '<br>Yrs_Customer: 9', '<br>Age: 66', '<br>Kid Home: 0', '<br>Teen Home: 0')",
          "('Marital Status: Married', '<br>Education: Graduation', '<br>Yrs_Customer: 9', '<br>Age: 63', '<br>Kid Home: 0', '<br>Teen Home: 0')",
          "('Marital Status: Single', '<br>Education: Basic', '<br>Yrs_Customer: 8', '<br>Age: 35', '<br>Kid Home: 1', '<br>Teen Home: 0')",
          "('Marital Status: Together', '<br>Education: Basic', '<br>Yrs_Customer: 8', '<br>Age: 70', '<br>Kid Home: 0', '<br>Teen Home: 0')",
          "('Marital Status: Married', '<br>Education: PhD', '<br>Yrs_Customer: 7', '<br>Age: 38', '<br>Kid Home: 1', '<br>Teen Home: 0')",
          "('Marital Status: Married', '<br>Education: Basic', '<br>Yrs_Customer: 9', '<br>Age: 33', '<br>Kid Home: 1', '<br>Teen Home: 0')",
          "('Marital Status: Married', '<br>Education: Unknown', '<br>Yrs_Customer: 8', '<br>Age: 47', '<br>Kid Home: 1', '<br>Teen Home: 0')",
          "('Marital Status: Together', '<br>Education: PhD', '<br>Yrs_Customer: 9', '<br>Age: 65', '<br>Kid Home: 0', '<br>Teen Home: 1')",
          "('Marital Status: Single', '<br>Education: Graduation', '<br>Yrs_Customer: 7', '<br>Age: 52', '<br>Kid Home: 1', '<br>Teen Home: 0')",
          "('Marital Status: Married', '<br>Education: Basic', '<br>Yrs_Customer: 9', '<br>Age: 36', '<br>Kid Home: 1', '<br>Teen Home: 0')",
          "('Marital Status: Together', '<br>Education: Master', '<br>Yrs_Customer: 8', '<br>Age: 62', '<br>Kid Home: 1', '<br>Teen Home: 1')",
          "('Marital Status: Single', '<br>Education: Graduation', '<br>Yrs_Customer: 8', '<br>Age: 72', '<br>Kid Home: 0', '<br>Teen Home: 0')",
          "('Marital Status: Married', '<br>Education: Graduation', '<br>Yrs_Customer: 8', '<br>Age: 54', '<br>Kid Home: 1', '<br>Teen Home: 0')",
          "('Marital Status: Single', '<br>Education: Graduation', '<br>Yrs_Customer: 9', '<br>Age: 68', '<br>Kid Home: 0', '<br>Teen Home: 0')",
          "('Marital Status: Married', '<br>Education: Graduation', '<br>Yrs_Customer: 8', '<br>Age: 50', '<br>Kid Home: 1', '<br>Teen Home: 0')",
          "('Marital Status: Married', '<br>Education: Graduation', '<br>Yrs_Customer: 9', '<br>Age: 59', '<br>Kid Home: 0', '<br>Teen Home: 0')",
          "('Marital Status: Together', '<br>Education: Graduation', '<br>Yrs_Customer: 8', '<br>Age: 38', '<br>Kid Home: 1', '<br>Teen Home: 0')",
          "('Marital Status: Married', '<br>Education: Graduation', '<br>Yrs_Customer: 9', '<br>Age: 41', '<br>Kid Home: 1', '<br>Teen Home: 0')",
          "('Marital Status: Married', '<br>Education: Graduation', '<br>Yrs_Customer: 9', '<br>Age: 42', '<br>Kid Home: 2', '<br>Teen Home: 0')",
          "('Marital Status: Together', '<br>Education: Graduation', '<br>Yrs_Customer: 8', '<br>Age: 53', '<br>Kid Home: 1', '<br>Teen Home: 0')",
          "('Marital Status: Married', '<br>Education: Graduation', '<br>Yrs_Customer: 9', '<br>Age: 35', '<br>Kid Home: 0', '<br>Teen Home: 0')",
          "('Marital Status: Single', '<br>Education: Master', '<br>Yrs_Customer: 8', '<br>Age: 36', '<br>Kid Home: 2', '<br>Teen Home: 0')",
          "('Marital Status: Together', '<br>Education: Graduation', '<br>Yrs_Customer: 7', '<br>Age: 46', '<br>Kid Home: 1', '<br>Teen Home: 0')",
          "('Marital Status: Together', '<br>Education: Unknown', '<br>Yrs_Customer: 9', '<br>Age: 44', '<br>Kid Home: 1', '<br>Teen Home: 0')",
          "('Marital Status: Divorced', '<br>Education: Graduation', '<br>Yrs_Customer: 8', '<br>Age: 36', '<br>Kid Home: 1', '<br>Teen Home: 0')",
          "('Marital Status: Together', '<br>Education: Master', '<br>Yrs_Customer: 9', '<br>Age: 43', '<br>Kid Home: 0', '<br>Teen Home: 0')",
          "('Marital Status: Single', '<br>Education: Basic', '<br>Yrs_Customer: 9', '<br>Age: 36', '<br>Kid Home: 0', '<br>Teen Home: 0')",
          "('Marital Status: Married', '<br>Education: PhD', '<br>Yrs_Customer: 9', '<br>Age: 46', '<br>Kid Home: 1', '<br>Teen Home: 1')",
          "('Marital Status: Married', '<br>Education: Unknown', '<br>Yrs_Customer: 9', '<br>Age: 34', '<br>Kid Home: 1', '<br>Teen Home: 0')",
          "('Marital Status: Divorced', '<br>Education: Graduation', '<br>Yrs_Customer: 7', '<br>Age: 57', '<br>Kid Home: 0', '<br>Teen Home: 0')",
          "('Marital Status: Married', '<br>Education: Unknown', '<br>Yrs_Customer: 9', '<br>Age: 50', '<br>Kid Home: 1', '<br>Teen Home: 0')",
          "('Marital Status: Together', '<br>Education: Graduation', '<br>Yrs_Customer: 9', '<br>Age: 35', '<br>Kid Home: 1', '<br>Teen Home: 0')",
          "('Marital Status: Married', '<br>Education: Graduation', '<br>Yrs_Customer: 8', '<br>Age: 54', '<br>Kid Home: 1', '<br>Teen Home: 1')",
          "('Marital Status: Single', '<br>Education: Graduation', '<br>Yrs_Customer: 9', '<br>Age: 46', '<br>Kid Home: 0', '<br>Teen Home: 0')",
          "('Marital Status: Married', '<br>Education: Graduation', '<br>Yrs_Customer: 9', '<br>Age: 44', '<br>Kid Home: 1', '<br>Teen Home: 0')",
          "('Marital Status: Single', '<br>Education: Basic', '<br>Yrs_Customer: 9', '<br>Age: 35', '<br>Kid Home: 1', '<br>Teen Home: 0')",
          "('Marital Status: Single', '<br>Education: Graduation', '<br>Yrs_Customer: 9', '<br>Age: 31', '<br>Kid Home: 0', '<br>Teen Home: 0')",
          "('Marital Status: Married', '<br>Education: Graduation', '<br>Yrs_Customer: 9', '<br>Age: 61', '<br>Kid Home: 1', '<br>Teen Home: 1')",
          "('Marital Status: Divorced', '<br>Education: Graduation', '<br>Yrs_Customer: 9', '<br>Age: 66', '<br>Kid Home: 0', '<br>Teen Home: 0')",
          "('Marital Status: Single', '<br>Education: Graduation', '<br>Yrs_Customer: 8', '<br>Age: 52', '<br>Kid Home: 1', '<br>Teen Home: 1')",
          "('Marital Status: Married', '<br>Education: Unknown', '<br>Yrs_Customer: 8', '<br>Age: 52', '<br>Kid Home: 0', '<br>Teen Home: 0')",
          "('Marital Status: Single', '<br>Education: PhD', '<br>Yrs_Customer: 8', '<br>Age: 38', '<br>Kid Home: 1', '<br>Teen Home: 0')",
          "('Marital Status: Together', '<br>Education: Basic', '<br>Yrs_Customer: 9', '<br>Age: 56', '<br>Kid Home: 0', '<br>Teen Home: 0')",
          "('Marital Status: Single', '<br>Education: Basic', '<br>Yrs_Customer: 9', '<br>Age: 37', '<br>Kid Home: 0', '<br>Teen Home: 0')",
          "('Marital Status: Divorced', '<br>Education: Master', '<br>Yrs_Customer: 7', '<br>Age: 33', '<br>Kid Home: 0', '<br>Teen Home: 0')",
          "('Marital Status: Divorced', '<br>Education: Unknown', '<br>Yrs_Customer: 7', '<br>Age: 44', '<br>Kid Home: 1', '<br>Teen Home: 0')",
          "('Marital Status: Together', '<br>Education: Master', '<br>Yrs_Customer: 8', '<br>Age: 48', '<br>Kid Home: 1', '<br>Teen Home: 0')",
          "('Marital Status: Married', '<br>Education: Graduation', '<br>Yrs_Customer: 9', '<br>Age: 43', '<br>Kid Home: 0', '<br>Teen Home: 1')",
          "('Marital Status: Single', '<br>Education: PhD', '<br>Yrs_Customer: 7', '<br>Age: 59', '<br>Kid Home: 1', '<br>Teen Home: 1')",
          "('Marital Status: Married', '<br>Education: Basic', '<br>Yrs_Customer: 8', '<br>Age: 26', '<br>Kid Home: 0', '<br>Teen Home: 0')",
          "('Marital Status: Married', '<br>Education: Unknown', '<br>Yrs_Customer: 8', '<br>Age: 48', '<br>Kid Home: 0', '<br>Teen Home: 0')",
          "('Marital Status: Together', '<br>Education: Basic', '<br>Yrs_Customer: 9', '<br>Age: 43', '<br>Kid Home: 1', '<br>Teen Home: 0')",
          "('Marital Status: Single', '<br>Education: Basic', '<br>Yrs_Customer: 9', '<br>Age: 64', '<br>Kid Home: 1', '<br>Teen Home: 1')",
          "('Marital Status: Single', '<br>Education: Graduation', '<br>Yrs_Customer: 8', '<br>Age: 37', '<br>Kid Home: 1', '<br>Teen Home: 0')",
          "('Marital Status: Married', '<br>Education: Graduation', '<br>Yrs_Customer: 8', '<br>Age: 32', '<br>Kid Home: 0', '<br>Teen Home: 0')",
          "('Marital Status: Single', '<br>Education: Basic', '<br>Yrs_Customer: 9', '<br>Age: 36', '<br>Kid Home: 1', '<br>Teen Home: 0')",
          "('Marital Status: Divorced', '<br>Education: Graduation', '<br>Yrs_Customer: 7', '<br>Age: 51', '<br>Kid Home: 0', '<br>Teen Home: 0')",
          "('Marital Status: Single', '<br>Education: Basic', '<br>Yrs_Customer: 9', '<br>Age: 30', '<br>Kid Home: 1', '<br>Teen Home: 0')",
          "('Marital Status: Together', '<br>Education: PhD', '<br>Yrs_Customer: 8', '<br>Age: 49', '<br>Kid Home: 1', '<br>Teen Home: 0')",
          "('Marital Status: Together', '<br>Education: Graduation', '<br>Yrs_Customer: 9', '<br>Age: 52', '<br>Kid Home: 1', '<br>Teen Home: 0')",
          "('Marital Status: Divorced', '<br>Education: Master', '<br>Yrs_Customer: 9', '<br>Age: 54', '<br>Kid Home: 1', '<br>Teen Home: 0')",
          "('Marital Status: Married', '<br>Education: Graduation', '<br>Yrs_Customer: 8', '<br>Age: 66', '<br>Kid Home: 0', '<br>Teen Home: 0')",
          "('Marital Status: Single', '<br>Education: Graduation', '<br>Yrs_Customer: 8', '<br>Age: 51', '<br>Kid Home: 1', '<br>Teen Home: 0')",
          "('Marital Status: Single', '<br>Education: Graduation', '<br>Yrs_Customer: 9', '<br>Age: 44', '<br>Kid Home: 1', '<br>Teen Home: 1')",
          "('Marital Status: Married', '<br>Education: Unknown', '<br>Yrs_Customer: 8', '<br>Age: 37', '<br>Kid Home: 0', '<br>Teen Home: 0')",
          "('Marital Status: Married', '<br>Education: Basic', '<br>Yrs_Customer: 8', '<br>Age: 48', '<br>Kid Home: 1', '<br>Teen Home: 0')",
          "('Marital Status: Married', '<br>Education: Graduation', '<br>Yrs_Customer: 8', '<br>Age: 40', '<br>Kid Home: 0', '<br>Teen Home: 0')",
          "('Marital Status: Single', '<br>Education: Master', '<br>Yrs_Customer: 8', '<br>Age: 40', '<br>Kid Home: 0', '<br>Teen Home: 0')",
          "('Marital Status: Married', '<br>Education: Graduation', '<br>Yrs_Customer: 9', '<br>Age: 32', '<br>Kid Home: 0', '<br>Teen Home: 0')",
          "('Marital Status: Single', '<br>Education: Basic', '<br>Yrs_Customer: 9', '<br>Age: 40', '<br>Kid Home: 1', '<br>Teen Home: 0')",
          "('Marital Status: Together', '<br>Education: Graduation', '<br>Yrs_Customer: 9', '<br>Age: 35', '<br>Kid Home: 1', '<br>Teen Home: 0')",
          "('Marital Status: Married', '<br>Education: Basic', '<br>Yrs_Customer: 8', '<br>Age: 30', '<br>Kid Home: 1', '<br>Teen Home: 0')",
          "('Marital Status: Married', '<br>Education: Graduation', '<br>Yrs_Customer: 9', '<br>Age: 49', '<br>Kid Home: 1', '<br>Teen Home: 0')",
          "('Marital Status: Together', '<br>Education: Graduation', '<br>Yrs_Customer: 8', '<br>Age: 49', '<br>Kid Home: 1', '<br>Teen Home: 0')",
          "('Marital Status: Together', '<br>Education: Basic', '<br>Yrs_Customer: 9', '<br>Age: 56', '<br>Kid Home: 0', '<br>Teen Home: 0')",
          "('Marital Status: Married', '<br>Education: Graduation', '<br>Yrs_Customer: 8', '<br>Age: 49', '<br>Kid Home: 1', '<br>Teen Home: 1')",
          "('Marital Status: Married', '<br>Education: Graduation', '<br>Yrs_Customer: 9', '<br>Age: 63', '<br>Kid Home: 0', '<br>Teen Home: 0')",
          "('Marital Status: Together', '<br>Education: Unknown', '<br>Yrs_Customer: 9', '<br>Age: 36', '<br>Kid Home: 0', '<br>Teen Home: 0')",
          "('Marital Status: Together', '<br>Education: Graduation', '<br>Yrs_Customer: 7', '<br>Age: 44', '<br>Kid Home: 1', '<br>Teen Home: 0')",
          "('Marital Status: Married', '<br>Education: Unknown', '<br>Yrs_Customer: 8', '<br>Age: 52', '<br>Kid Home: 1', '<br>Teen Home: 1')",
          "('Marital Status: Together', '<br>Education: Unknown', '<br>Yrs_Customer: 8', '<br>Age: 41', '<br>Kid Home: 1', '<br>Teen Home: 0')",
          "('Marital Status: Married', '<br>Education: Graduation', '<br>Yrs_Customer: 8', '<br>Age: 42', '<br>Kid Home: 1', '<br>Teen Home: 0')",
          "('Marital Status: Single', '<br>Education: Graduation', '<br>Yrs_Customer: 9', '<br>Age: 49', '<br>Kid Home: 1', '<br>Teen Home: 0')",
          "('Marital Status: Together', '<br>Education: Graduation', '<br>Yrs_Customer: 9', '<br>Age: 62', '<br>Kid Home: 0', '<br>Teen Home: 1')",
          "('Marital Status: Married', '<br>Education: Unknown', '<br>Yrs_Customer: 9', '<br>Age: 34', '<br>Kid Home: 1', '<br>Teen Home: 0')",
          "('Marital Status: Single', '<br>Education: Unknown', '<br>Yrs_Customer: 9', '<br>Age: 34', '<br>Kid Home: 1', '<br>Teen Home: 0')",
          "('Marital Status: Single', '<br>Education: Graduation', '<br>Yrs_Customer: 8', '<br>Age: 33', '<br>Kid Home: 1', '<br>Teen Home: 0')",
          "('Marital Status: Married', '<br>Education: Graduation', '<br>Yrs_Customer: 9', '<br>Age: 34', '<br>Kid Home: 1', '<br>Teen Home: 0')",
          "('Marital Status: Together', '<br>Education: Basic', '<br>Yrs_Customer: 9', '<br>Age: 34', '<br>Kid Home: 1', '<br>Teen Home: 0')",
          "('Marital Status: Together', '<br>Education: Master', '<br>Yrs_Customer: 8', '<br>Age: 62', '<br>Kid Home: 1', '<br>Teen Home: 1')",
          "('Marital Status: Married', '<br>Education: Unknown', '<br>Yrs_Customer: 9', '<br>Age: 44', '<br>Kid Home: 0', '<br>Teen Home: 0')",
          "('Marital Status: Married', '<br>Education: Graduation', '<br>Yrs_Customer: 9', '<br>Age: 51', '<br>Kid Home: 1', '<br>Teen Home: 0')",
          "('Marital Status: Together', '<br>Education: Graduation', '<br>Yrs_Customer: 8', '<br>Age: 44', '<br>Kid Home: 1', '<br>Teen Home: 0')",
          "('Marital Status: Together', '<br>Education: Basic', '<br>Yrs_Customer: 8', '<br>Age: 43', '<br>Kid Home: 1', '<br>Teen Home: 0')",
          "('Marital Status: Married', '<br>Education: Graduation', '<br>Yrs_Customer: 8', '<br>Age: 40', '<br>Kid Home: 1', '<br>Teen Home: 0')",
          "('Marital Status: Together', '<br>Education: Unknown', '<br>Yrs_Customer: 9', '<br>Age: 31', '<br>Kid Home: 0', '<br>Teen Home: 0')",
          "('Marital Status: Single', '<br>Education: Basic', '<br>Yrs_Customer: 8', '<br>Age: 43', '<br>Kid Home: 1', '<br>Teen Home: 0')",
          "('Marital Status: Married', '<br>Education: PhD', '<br>Yrs_Customer: 9', '<br>Age: 67', '<br>Kid Home: 1', '<br>Teen Home: 1')",
          "('Marital Status: Married', '<br>Education: PhD', '<br>Yrs_Customer: 7', '<br>Age: 39', '<br>Kid Home: 1', '<br>Teen Home: 0')",
          "('Marital Status: Married', '<br>Education: PhD', '<br>Yrs_Customer: 9', '<br>Age: 37', '<br>Kid Home: 1', '<br>Teen Home: 0')",
          "('Marital Status: Single', '<br>Education: Unknown', '<br>Yrs_Customer: 9', '<br>Age: 41', '<br>Kid Home: 1', '<br>Teen Home: 0')",
          "('Marital Status: Married', '<br>Education: Graduation', '<br>Yrs_Customer: 9', '<br>Age: 32', '<br>Kid Home: 0', '<br>Teen Home: 0')",
          "('Marital Status: Single', '<br>Education: Graduation', '<br>Yrs_Customer: 8', '<br>Age: 33', '<br>Kid Home: 1', '<br>Teen Home: 0')",
          "('Marital Status: Single', '<br>Education: Basic', '<br>Yrs_Customer: 7', '<br>Age: 30', '<br>Kid Home: 1', '<br>Teen Home: 0')",
          "('Marital Status: Married', '<br>Education: Graduation', '<br>Yrs_Customer: 8', '<br>Age: 45', '<br>Kid Home: 1', '<br>Teen Home: 1')",
          "('Marital Status: Married', '<br>Education: Graduation', '<br>Yrs_Customer: 9', '<br>Age: 43', '<br>Kid Home: 1', '<br>Teen Home: 0')",
          "('Marital Status: Single', '<br>Education: Basic', '<br>Yrs_Customer: 9', '<br>Age: 57', '<br>Kid Home: 0', '<br>Teen Home: 1')",
          "('Marital Status: Married', '<br>Education: Graduation', '<br>Yrs_Customer: 9', '<br>Age: 63', '<br>Kid Home: 0', '<br>Teen Home: 0')",
          "('Marital Status: Single', '<br>Education: Basic', '<br>Yrs_Customer: 9', '<br>Age: 43', '<br>Kid Home: 1', '<br>Teen Home: 1')",
          "('Marital Status: Divorced', '<br>Education: Unknown', '<br>Yrs_Customer: 9', '<br>Age: 43', '<br>Kid Home: 1', '<br>Teen Home: 0')",
          "('Marital Status: Married', '<br>Education: Unknown', '<br>Yrs_Customer: 8', '<br>Age: 36', '<br>Kid Home: 1', '<br>Teen Home: 0')",
          "('Marital Status: Single', '<br>Education: Basic', '<br>Yrs_Customer: 9', '<br>Age: 43', '<br>Kid Home: 1', '<br>Teen Home: 0')",
          "('Marital Status: Single', '<br>Education: PhD', '<br>Yrs_Customer: 8', '<br>Age: 56', '<br>Kid Home: 0', '<br>Teen Home: 2')",
          "('Marital Status: Single', '<br>Education: Graduation', '<br>Yrs_Customer: 8', '<br>Age: 58', '<br>Kid Home: 1', '<br>Teen Home: 1')",
          "('Marital Status: Together', '<br>Education: PhD', '<br>Yrs_Customer: 8', '<br>Age: 39', '<br>Kid Home: 1', '<br>Teen Home: 0')",
          "('Marital Status: Married', '<br>Education: PhD', '<br>Yrs_Customer: 7', '<br>Age: 59', '<br>Kid Home: 1', '<br>Teen Home: 1')",
          "('Marital Status: Together', '<br>Education: Graduation', '<br>Yrs_Customer: 8', '<br>Age: 47', '<br>Kid Home: 1', '<br>Teen Home: 0')",
          "('Marital Status: Together', '<br>Education: Master', '<br>Yrs_Customer: 8', '<br>Age: 46', '<br>Kid Home: 0', '<br>Teen Home: 0')",
          "('Marital Status: Divorced', '<br>Education: Unknown', '<br>Yrs_Customer: 8', '<br>Age: 47', '<br>Kid Home: 0', '<br>Teen Home: 0')",
          "('Marital Status: Single', '<br>Education: Unknown', '<br>Yrs_Customer: 8', '<br>Age: 35', '<br>Kid Home: 0', '<br>Teen Home: 0')",
          "('Marital Status: Together', '<br>Education: Basic', '<br>Yrs_Customer: 9', '<br>Age: 44', '<br>Kid Home: 1', '<br>Teen Home: 0')",
          "('Marital Status: Single', '<br>Education: Graduation', '<br>Yrs_Customer: 8', '<br>Age: 39', '<br>Kid Home: 0', '<br>Teen Home: 0')",
          "('Marital Status: Married', '<br>Education: Graduation', '<br>Yrs_Customer: 9', '<br>Age: 32', '<br>Kid Home: 0', '<br>Teen Home: 0')",
          "('Marital Status: Single', '<br>Education: Graduation', '<br>Yrs_Customer: 9', '<br>Age: 46', '<br>Kid Home: 0', '<br>Teen Home: 0')",
          "('Marital Status: Married', '<br>Education: Master', '<br>Yrs_Customer: 8', '<br>Age: 45', '<br>Kid Home: 1', '<br>Teen Home: 0')",
          "('Marital Status: Married', '<br>Education: Master', '<br>Yrs_Customer: 8', '<br>Age: 40', '<br>Kid Home: 1', '<br>Teen Home: 0')",
          "('Marital Status: Single', '<br>Education: Graduation', '<br>Yrs_Customer: 9', '<br>Age: 45', '<br>Kid Home: 1', '<br>Teen Home: 0')",
          "('Marital Status: Married', '<br>Education: Graduation', '<br>Yrs_Customer: 8', '<br>Age: 53', '<br>Kid Home: 0', '<br>Teen Home: 1')",
          "('Marital Status: Married', '<br>Education: Graduation', '<br>Yrs_Customer: 9', '<br>Age: 38', '<br>Kid Home: 1', '<br>Teen Home: 0')",
          "('Marital Status: Together', '<br>Education: Graduation', '<br>Yrs_Customer: 9', '<br>Age: 65', '<br>Kid Home: 0', '<br>Teen Home: 1')",
          "('Marital Status: Married', '<br>Education: Graduation', '<br>Yrs_Customer: 8', '<br>Age: 36', '<br>Kid Home: 1', '<br>Teen Home: 0')",
          "('Marital Status: Together', '<br>Education: Graduation', '<br>Yrs_Customer: 9', '<br>Age: 62', '<br>Kid Home: 1', '<br>Teen Home: 1')",
          "('Marital Status: Single', '<br>Education: Graduation', '<br>Yrs_Customer: 9', '<br>Age: 52', '<br>Kid Home: 1', '<br>Teen Home: 0')",
          "('Marital Status: Divorced', '<br>Education: Graduation', '<br>Yrs_Customer: 8', '<br>Age: 71', '<br>Kid Home: 1', '<br>Teen Home: 1')",
          "('Marital Status: Divorced', '<br>Education: Graduation', '<br>Yrs_Customer: 8', '<br>Age: 69', '<br>Kid Home: 0', '<br>Teen Home: 0')",
          "('Marital Status: Together', '<br>Education: Unknown', '<br>Yrs_Customer: 9', '<br>Age: 37', '<br>Kid Home: 1', '<br>Teen Home: 0')",
          "('Marital Status: Married', '<br>Education: Graduation', '<br>Yrs_Customer: 8', '<br>Age: 46', '<br>Kid Home: 1', '<br>Teen Home: 0')",
          "('Marital Status: Single', '<br>Education: Graduation', '<br>Yrs_Customer: 9', '<br>Age: 57', '<br>Kid Home: 0', '<br>Teen Home: 0')",
          "('Marital Status: Widow', '<br>Education: Basic', '<br>Yrs_Customer: 8', '<br>Age: 62', '<br>Kid Home: 0', '<br>Teen Home: 0')",
          "('Marital Status: Together', '<br>Education: Basic', '<br>Yrs_Customer: 8', '<br>Age: 53', '<br>Kid Home: 0', '<br>Teen Home: 0')",
          "('Marital Status: Married', '<br>Education: Basic', '<br>Yrs_Customer: 9', '<br>Age: 50', '<br>Kid Home: 0', '<br>Teen Home: 0')",
          "('Marital Status: Married', '<br>Education: Basic', '<br>Yrs_Customer: 9', '<br>Age: 36', '<br>Kid Home: 1', '<br>Teen Home: 0')",
          "('Marital Status: Married', '<br>Education: Basic', '<br>Yrs_Customer: 9', '<br>Age: 42', '<br>Kid Home: 1', '<br>Teen Home: 0')",
          "('Marital Status: Single', '<br>Education: Graduation', '<br>Yrs_Customer: 7', '<br>Age: 52', '<br>Kid Home: 1', '<br>Teen Home: 0')",
          "('Marital Status: Divorced', '<br>Education: Graduation', '<br>Yrs_Customer: 8', '<br>Age: 48', '<br>Kid Home: 1', '<br>Teen Home: 0')",
          "('Marital Status: Married', '<br>Education: Graduation', '<br>Yrs_Customer: 8', '<br>Age: 65', '<br>Kid Home: 0', '<br>Teen Home: 0')",
          "('Marital Status: Married', '<br>Education: Graduation', '<br>Yrs_Customer: 8', '<br>Age: 46', '<br>Kid Home: 1', '<br>Teen Home: 0')",
          "('Marital Status: Single', '<br>Education: Basic', '<br>Yrs_Customer: 8', '<br>Age: 30', '<br>Kid Home: 1', '<br>Teen Home: 0')",
          "('Marital Status: Single', '<br>Education: Master', '<br>Yrs_Customer: 9', '<br>Age: 70', '<br>Kid Home: 1', '<br>Teen Home: 1')",
          "('Marital Status: Single', '<br>Education: Basic', '<br>Yrs_Customer: 8', '<br>Age: 32', '<br>Kid Home: 1', '<br>Teen Home: 0')",
          "('Marital Status: Married', '<br>Education: Graduation', '<br>Yrs_Customer: 9', '<br>Age: 32', '<br>Kid Home: 0', '<br>Teen Home: 0')",
          "('Marital Status: Together', '<br>Education: Basic', '<br>Yrs_Customer: 9', '<br>Age: 59', '<br>Kid Home: 0', '<br>Teen Home: 1')",
          "('Marital Status: Married', '<br>Education: Graduation', '<br>Yrs_Customer: 8', '<br>Age: 46', '<br>Kid Home: 0', '<br>Teen Home: 1')",
          "('Marital Status: Together', '<br>Education: Graduation', '<br>Yrs_Customer: 8', '<br>Age: 44', '<br>Kid Home: 1', '<br>Teen Home: 0')",
          "('Marital Status: Together', '<br>Education: Unknown', '<br>Yrs_Customer: 9', '<br>Age: 43', '<br>Kid Home: 1', '<br>Teen Home: 0')",
          "('Marital Status: Married', '<br>Education: Graduation', '<br>Yrs_Customer: 7', '<br>Age: 50', '<br>Kid Home: 2', '<br>Teen Home: 0')",
          "('Marital Status: Single', '<br>Education: Graduation', '<br>Yrs_Customer: 9', '<br>Age: 38', '<br>Kid Home: 1', '<br>Teen Home: 0')"
         ],
         "type": "scatter3d",
         "x": [
          5648,
          7500,
          17323,
          18589,
          10979,
          23718,
          20559,
          21994,
          7500,
          23559,
          23626,
          24594,
          21918,
          19510,
          9548,
          23228,
          16248,
          24882,
          15033,
          22212,
          23661,
          7500,
          22804,
          18701,
          22070,
          24480,
          16626,
          23976,
          12571,
          22574,
          14849,
          24072,
          22010,
          19986,
          10245,
          23442,
          19789,
          18492,
          10404,
          7500,
          18100,
          20130,
          23295,
          24027,
          20518,
          14045,
          24279,
          22944,
          24683,
          22419,
          15315,
          13260,
          24221,
          23910,
          18978,
          22574,
          13624,
          19986,
          14661,
          18690,
          21063,
          13084,
          18988,
          17487,
          17003,
          6835,
          20587,
          20425,
          17144,
          16813,
          19329,
          22507,
          22063,
          22419,
          16529,
          19419,
          15072,
          23228,
          7500,
          19485,
          21675,
          17117,
          21846,
          24401,
          14906,
          16927,
          15716,
          4861,
          24884,
          22434,
          19514,
          20180,
          17345,
          15038,
          8028,
          16860,
          22304,
          24163,
          15315,
          16269,
          22634,
          16581,
          10979,
          21282,
          21255,
          7500,
          23091,
          14421,
          20130,
          23724,
          15056,
          22327,
          18351,
          8940,
          1730,
          7500,
          20427,
          19656,
          23748,
          15759,
          22804,
          7500,
          23148,
          18393,
          24711,
          6560,
          18929,
          24367,
          18227,
          17256,
          20895,
          22682,
          22634,
          24639,
          18690,
          20491,
          16531,
          23162,
          19414,
          19107,
          3502,
          19740,
          23331,
          23331,
          9255,
          24645,
          13724,
          17144,
          12393,
          18793,
          22775,
          24594,
          22448,
          20193,
          15862,
          22554,
          23536,
          18169,
          24336,
          18222,
          18358,
          18746,
          22108,
          17688,
          23529,
          18690,
          16014,
          13533,
          21955,
          20194,
          7144,
          18701,
          21840,
          4023,
          22280,
          21024,
          11448,
          23830,
          24882,
          22148,
          18929,
          20180,
          22701,
          21059,
          23763,
          4428,
          24570,
          21994,
          23477,
          13672,
          24206,
          22263,
          23272,
          7500,
          17649,
          23478,
          22123,
          22390,
          14188,
          20425,
          16005,
          20587,
          19346,
          23539,
          17148,
          15253,
          8820,
          16185,
          18929,
          14918,
          5305,
          22775,
          7500,
          24434,
          11012
         ],
         "y": [
          49,
          61,
          46,
          75,
          30,
          81,
          53,
          22,
          31,
          79,
          43,
          29,
          33,
          30,
          29,
          121,
          57,
          80,
          19,
          69,
          23,
          57,
          26,
          44,
          67,
          102,
          68,
          66,
          53,
          37,
          65,
          23,
          33,
          22,
          41,
          27,
          78,
          10,
          43,
          36,
          14,
          34,
          20,
          48,
          25,
          20,
          263,
          76,
          41,
          162,
          64,
          49,
          55,
          67,
          37,
          37,
          36,
          22,
          26,
          60,
          59,
          29,
          16,
          18,
          38,
          137,
          25,
          57,
          47,
          50,
          60,
          570,
          55,
          162,
          22,
          70,
          53,
          40,
          15,
          10,
          45,
          128,
          84,
          467,
          66,
          53,
          92,
          6,
          19,
          58,
          69,
          137,
          58,
          80,
          178,
          38,
          18,
          17,
          64,
          44,
          96,
          24,
          30,
          46,
          61,
          18,
          48,
          16,
          34,
          75,
          88,
          24,
          43,
          101,
          8,
          119,
          10,
          84,
          76,
          17,
          26,
          57,
          37,
          50,
          58,
          373,
          85,
          24,
          28,
          62,
          45,
          95,
          96,
          44,
          60,
          30,
          44,
          65,
          32,
          46,
          5,
          55,
          103,
          269,
          22,
          17,
          58,
          47,
          57,
          77,
          15,
          29,
          55,
          82,
          36,
          41,
          10,
          21,
          31,
          67,
          57,
          64,
          31,
          11,
          54,
          60,
          38,
          48,
          55,
          47,
          416,
          44,
          27,
          9,
          13,
          84,
          14,
          43,
          80,
          49,
          85,
          137,
          24,
          44,
          42,
          359,
          193,
          22,
          147,
          25,
          25,
          21,
          46,
          100,
          45,
          129,
          102,
          26,
          75,
          57,
          103,
          25,
          22,
          81,
          68,
          29,
          35,
          106,
          85,
          43,
          32,
          15,
          53,
          50,
          84
         ],
         "z": [
          68,
          59,
          38,
          89,
          34,
          76,
          88,
          4,
          19,
          87,
          84,
          94,
          37,
          63,
          31,
          91,
          77,
          52,
          37,
          49,
          46,
          54,
          75,
          95,
          11,
          46,
          76,
          68,
          86,
          28,
          39,
          79,
          51,
          74,
          32,
          71,
          24,
          75,
          52,
          96,
          14,
          99,
          72,
          7,
          58,
          24,
          6,
          67,
          98,
          74,
          27,
          48,
          94,
          80,
          41,
          28,
          93,
          74,
          88,
          77,
          34,
          29,
          43,
          37,
          37,
          76,
          39,
          5,
          96,
          49,
          39,
          67,
          43,
          74,
          23,
          76,
          96,
          71,
          94,
          80,
          55,
          96,
          38,
          98,
          86,
          50,
          8,
          20,
          32,
          25,
          47,
          27,
          79,
          93,
          62,
          19,
          91,
          3,
          27,
          75,
          47,
          51,
          34,
          76,
          56,
          61,
          98,
          81,
          99,
          65,
          76,
          94,
          1,
          25,
          65,
          63,
          63,
          94,
          97,
          12,
          75,
          5,
          83,
          2,
          86,
          2,
          15,
          58,
          21,
          10,
          24,
          51,
          47,
          3,
          77,
          16,
          43,
          82,
          32,
          49,
          56,
          65,
          92,
          97,
          91,
          16,
          43,
          96,
          38,
          14,
          40,
          94,
          86,
          18,
          26,
          38,
          53,
          40,
          82,
          70,
          49,
          41,
          46,
          82,
          67,
          77,
          42,
          45,
          81,
          64,
          92,
          95,
          80,
          29,
          85,
          89,
          16,
          3,
          52,
          16,
          15,
          27,
          2,
          40,
          64,
          999,
          97,
          4,
          39,
          86,
          66,
          31,
          29,
          98,
          70,
          51,
          77,
          49,
          40,
          5,
          69,
          39,
          26,
          13,
          80,
          13,
          52,
          71,
          15,
          52,
          12,
          40,
          7,
          9,
          82
         ]
        },
        {
         "hoverinfo": "text",
         "hovertemplate": "<b>Income: $%{x:.0f}K</b><br><b>Total Spent: $%{y:.0f}</b><br><b>Recency: %{z:.0f}</b><br>%{text}",
         "marker": {
          "color": "yellow",
          "size": 15
         },
         "mode": "markers",
         "name": "Customer",
         "text": [
          "('Marital Status: Married', '<br>Education: PhD', '<br>Yrs_Customer: 5', '<br>Age: 45', '<br>Kid Home: 1', '<br>Teen Home: 0')"
         ],
         "type": "scatter3d",
         "x": [
          55000
         ],
         "y": [
          2500
         ],
         "z": [
          45
         ]
        }
       ],
       "layout": {
        "autosize": true,
        "scene": {
         "aspectmode": "auto",
         "aspectratio": {
          "x": 1,
          "y": 1,
          "z": 1
         },
         "xaxis": {
          "title": {
           "text": "Income"
          },
          "type": "linear"
         },
         "yaxis": {
          "title": {
           "text": "Total Spent"
          },
          "type": "linear"
         },
         "zaxis": {
          "title": {
           "text": "Recency"
          },
          "type": "linear"
         }
        },
        "showlegend": true,
        "template": {
         "data": {
          "bar": [
           {
            "error_x": {
             "color": "#2a3f5f"
            },
            "error_y": {
             "color": "#2a3f5f"
            },
            "marker": {
             "line": {
              "color": "#E5ECF6",
              "width": 0.5
             },
             "pattern": {
              "fillmode": "overlay",
              "size": 10,
              "solidity": 0.2
             }
            },
            "type": "bar"
           }
          ],
          "barpolar": [
           {
            "marker": {
             "line": {
              "color": "#E5ECF6",
              "width": 0.5
             },
             "pattern": {
              "fillmode": "overlay",
              "size": 10,
              "solidity": 0.2
             }
            },
            "type": "barpolar"
           }
          ],
          "carpet": [
           {
            "aaxis": {
             "endlinecolor": "#2a3f5f",
             "gridcolor": "white",
             "linecolor": "white",
             "minorgridcolor": "white",
             "startlinecolor": "#2a3f5f"
            },
            "baxis": {
             "endlinecolor": "#2a3f5f",
             "gridcolor": "white",
             "linecolor": "white",
             "minorgridcolor": "white",
             "startlinecolor": "#2a3f5f"
            },
            "type": "carpet"
           }
          ],
          "choropleth": [
           {
            "colorbar": {
             "outlinewidth": 0,
             "ticks": ""
            },
            "type": "choropleth"
           }
          ],
          "contour": [
           {
            "colorbar": {
             "outlinewidth": 0,
             "ticks": ""
            },
            "colorscale": [
             [
              0,
              "#0d0887"
             ],
             [
              0.1111111111111111,
              "#46039f"
             ],
             [
              0.2222222222222222,
              "#7201a8"
             ],
             [
              0.3333333333333333,
              "#9c179e"
             ],
             [
              0.4444444444444444,
              "#bd3786"
             ],
             [
              0.5555555555555556,
              "#d8576b"
             ],
             [
              0.6666666666666666,
              "#ed7953"
             ],
             [
              0.7777777777777778,
              "#fb9f3a"
             ],
             [
              0.8888888888888888,
              "#fdca26"
             ],
             [
              1,
              "#f0f921"
             ]
            ],
            "type": "contour"
           }
          ],
          "contourcarpet": [
           {
            "colorbar": {
             "outlinewidth": 0,
             "ticks": ""
            },
            "type": "contourcarpet"
           }
          ],
          "heatmap": [
           {
            "colorbar": {
             "outlinewidth": 0,
             "ticks": ""
            },
            "colorscale": [
             [
              0,
              "#0d0887"
             ],
             [
              0.1111111111111111,
              "#46039f"
             ],
             [
              0.2222222222222222,
              "#7201a8"
             ],
             [
              0.3333333333333333,
              "#9c179e"
             ],
             [
              0.4444444444444444,
              "#bd3786"
             ],
             [
              0.5555555555555556,
              "#d8576b"
             ],
             [
              0.6666666666666666,
              "#ed7953"
             ],
             [
              0.7777777777777778,
              "#fb9f3a"
             ],
             [
              0.8888888888888888,
              "#fdca26"
             ],
             [
              1,
              "#f0f921"
             ]
            ],
            "type": "heatmap"
           }
          ],
          "heatmapgl": [
           {
            "colorbar": {
             "outlinewidth": 0,
             "ticks": ""
            },
            "colorscale": [
             [
              0,
              "#0d0887"
             ],
             [
              0.1111111111111111,
              "#46039f"
             ],
             [
              0.2222222222222222,
              "#7201a8"
             ],
             [
              0.3333333333333333,
              "#9c179e"
             ],
             [
              0.4444444444444444,
              "#bd3786"
             ],
             [
              0.5555555555555556,
              "#d8576b"
             ],
             [
              0.6666666666666666,
              "#ed7953"
             ],
             [
              0.7777777777777778,
              "#fb9f3a"
             ],
             [
              0.8888888888888888,
              "#fdca26"
             ],
             [
              1,
              "#f0f921"
             ]
            ],
            "type": "heatmapgl"
           }
          ],
          "histogram": [
           {
            "marker": {
             "pattern": {
              "fillmode": "overlay",
              "size": 10,
              "solidity": 0.2
             }
            },
            "type": "histogram"
           }
          ],
          "histogram2d": [
           {
            "colorbar": {
             "outlinewidth": 0,
             "ticks": ""
            },
            "colorscale": [
             [
              0,
              "#0d0887"
             ],
             [
              0.1111111111111111,
              "#46039f"
             ],
             [
              0.2222222222222222,
              "#7201a8"
             ],
             [
              0.3333333333333333,
              "#9c179e"
             ],
             [
              0.4444444444444444,
              "#bd3786"
             ],
             [
              0.5555555555555556,
              "#d8576b"
             ],
             [
              0.6666666666666666,
              "#ed7953"
             ],
             [
              0.7777777777777778,
              "#fb9f3a"
             ],
             [
              0.8888888888888888,
              "#fdca26"
             ],
             [
              1,
              "#f0f921"
             ]
            ],
            "type": "histogram2d"
           }
          ],
          "histogram2dcontour": [
           {
            "colorbar": {
             "outlinewidth": 0,
             "ticks": ""
            },
            "colorscale": [
             [
              0,
              "#0d0887"
             ],
             [
              0.1111111111111111,
              "#46039f"
             ],
             [
              0.2222222222222222,
              "#7201a8"
             ],
             [
              0.3333333333333333,
              "#9c179e"
             ],
             [
              0.4444444444444444,
              "#bd3786"
             ],
             [
              0.5555555555555556,
              "#d8576b"
             ],
             [
              0.6666666666666666,
              "#ed7953"
             ],
             [
              0.7777777777777778,
              "#fb9f3a"
             ],
             [
              0.8888888888888888,
              "#fdca26"
             ],
             [
              1,
              "#f0f921"
             ]
            ],
            "type": "histogram2dcontour"
           }
          ],
          "mesh3d": [
           {
            "colorbar": {
             "outlinewidth": 0,
             "ticks": ""
            },
            "type": "mesh3d"
           }
          ],
          "parcoords": [
           {
            "line": {
             "colorbar": {
              "outlinewidth": 0,
              "ticks": ""
             }
            },
            "type": "parcoords"
           }
          ],
          "pie": [
           {
            "automargin": true,
            "type": "pie"
           }
          ],
          "scatter": [
           {
            "marker": {
             "colorbar": {
              "outlinewidth": 0,
              "ticks": ""
             }
            },
            "type": "scatter"
           }
          ],
          "scatter3d": [
           {
            "line": {
             "colorbar": {
              "outlinewidth": 0,
              "ticks": ""
             }
            },
            "marker": {
             "colorbar": {
              "outlinewidth": 0,
              "ticks": ""
             }
            },
            "type": "scatter3d"
           }
          ],
          "scattercarpet": [
           {
            "marker": {
             "colorbar": {
              "outlinewidth": 0,
              "ticks": ""
             }
            },
            "type": "scattercarpet"
           }
          ],
          "scattergeo": [
           {
            "marker": {
             "colorbar": {
              "outlinewidth": 0,
              "ticks": ""
             }
            },
            "type": "scattergeo"
           }
          ],
          "scattergl": [
           {
            "marker": {
             "colorbar": {
              "outlinewidth": 0,
              "ticks": ""
             }
            },
            "type": "scattergl"
           }
          ],
          "scattermapbox": [
           {
            "marker": {
             "colorbar": {
              "outlinewidth": 0,
              "ticks": ""
             }
            },
            "type": "scattermapbox"
           }
          ],
          "scatterpolar": [
           {
            "marker": {
             "colorbar": {
              "outlinewidth": 0,
              "ticks": ""
             }
            },
            "type": "scatterpolar"
           }
          ],
          "scatterpolargl": [
           {
            "marker": {
             "colorbar": {
              "outlinewidth": 0,
              "ticks": ""
             }
            },
            "type": "scatterpolargl"
           }
          ],
          "scatterternary": [
           {
            "marker": {
             "colorbar": {
              "outlinewidth": 0,
              "ticks": ""
             }
            },
            "type": "scatterternary"
           }
          ],
          "surface": [
           {
            "colorbar": {
             "outlinewidth": 0,
             "ticks": ""
            },
            "colorscale": [
             [
              0,
              "#0d0887"
             ],
             [
              0.1111111111111111,
              "#46039f"
             ],
             [
              0.2222222222222222,
              "#7201a8"
             ],
             [
              0.3333333333333333,
              "#9c179e"
             ],
             [
              0.4444444444444444,
              "#bd3786"
             ],
             [
              0.5555555555555556,
              "#d8576b"
             ],
             [
              0.6666666666666666,
              "#ed7953"
             ],
             [
              0.7777777777777778,
              "#fb9f3a"
             ],
             [
              0.8888888888888888,
              "#fdca26"
             ],
             [
              1,
              "#f0f921"
             ]
            ],
            "type": "surface"
           }
          ],
          "table": [
           {
            "cells": {
             "fill": {
              "color": "#EBF0F8"
             },
             "line": {
              "color": "white"
             }
            },
            "header": {
             "fill": {
              "color": "#C8D4E3"
             },
             "line": {
              "color": "white"
             }
            },
            "type": "table"
           }
          ]
         },
         "layout": {
          "annotationdefaults": {
           "arrowcolor": "#2a3f5f",
           "arrowhead": 0,
           "arrowwidth": 1
          },
          "autotypenumbers": "strict",
          "coloraxis": {
           "colorbar": {
            "outlinewidth": 0,
            "ticks": ""
           }
          },
          "colorscale": {
           "diverging": [
            [
             0,
             "#8e0152"
            ],
            [
             0.1,
             "#c51b7d"
            ],
            [
             0.2,
             "#de77ae"
            ],
            [
             0.3,
             "#f1b6da"
            ],
            [
             0.4,
             "#fde0ef"
            ],
            [
             0.5,
             "#f7f7f7"
            ],
            [
             0.6,
             "#e6f5d0"
            ],
            [
             0.7,
             "#b8e186"
            ],
            [
             0.8,
             "#7fbc41"
            ],
            [
             0.9,
             "#4d9221"
            ],
            [
             1,
             "#276419"
            ]
           ],
           "sequential": [
            [
             0,
             "#0d0887"
            ],
            [
             0.1111111111111111,
             "#46039f"
            ],
            [
             0.2222222222222222,
             "#7201a8"
            ],
            [
             0.3333333333333333,
             "#9c179e"
            ],
            [
             0.4444444444444444,
             "#bd3786"
            ],
            [
             0.5555555555555556,
             "#d8576b"
            ],
            [
             0.6666666666666666,
             "#ed7953"
            ],
            [
             0.7777777777777778,
             "#fb9f3a"
            ],
            [
             0.8888888888888888,
             "#fdca26"
            ],
            [
             1,
             "#f0f921"
            ]
           ],
           "sequentialminus": [
            [
             0,
             "#0d0887"
            ],
            [
             0.1111111111111111,
             "#46039f"
            ],
            [
             0.2222222222222222,
             "#7201a8"
            ],
            [
             0.3333333333333333,
             "#9c179e"
            ],
            [
             0.4444444444444444,
             "#bd3786"
            ],
            [
             0.5555555555555556,
             "#d8576b"
            ],
            [
             0.6666666666666666,
             "#ed7953"
            ],
            [
             0.7777777777777778,
             "#fb9f3a"
            ],
            [
             0.8888888888888888,
             "#fdca26"
            ],
            [
             1,
             "#f0f921"
            ]
           ]
          },
          "colorway": [
           "#636efa",
           "#EF553B",
           "#00cc96",
           "#ab63fa",
           "#FFA15A",
           "#19d3f3",
           "#FF6692",
           "#B6E880",
           "#FF97FF",
           "#FECB52"
          ],
          "font": {
           "color": "#2a3f5f"
          },
          "geo": {
           "bgcolor": "white",
           "lakecolor": "white",
           "landcolor": "#E5ECF6",
           "showlakes": true,
           "showland": true,
           "subunitcolor": "white"
          },
          "hoverlabel": {
           "align": "left"
          },
          "hovermode": "closest",
          "mapbox": {
           "style": "light"
          },
          "paper_bgcolor": "white",
          "plot_bgcolor": "#E5ECF6",
          "polar": {
           "angularaxis": {
            "gridcolor": "white",
            "linecolor": "white",
            "ticks": ""
           },
           "bgcolor": "#E5ECF6",
           "radialaxis": {
            "gridcolor": "white",
            "linecolor": "white",
            "ticks": ""
           }
          },
          "scene": {
           "xaxis": {
            "backgroundcolor": "#E5ECF6",
            "gridcolor": "white",
            "gridwidth": 2,
            "linecolor": "white",
            "showbackground": true,
            "ticks": "",
            "zerolinecolor": "white"
           },
           "yaxis": {
            "backgroundcolor": "#E5ECF6",
            "gridcolor": "white",
            "gridwidth": 2,
            "linecolor": "white",
            "showbackground": true,
            "ticks": "",
            "zerolinecolor": "white"
           },
           "zaxis": {
            "backgroundcolor": "#E5ECF6",
            "gridcolor": "white",
            "gridwidth": 2,
            "linecolor": "white",
            "showbackground": true,
            "ticks": "",
            "zerolinecolor": "white"
           }
          },
          "shapedefaults": {
           "line": {
            "color": "#2a3f5f"
           }
          },
          "ternary": {
           "aaxis": {
            "gridcolor": "white",
            "linecolor": "white",
            "ticks": ""
           },
           "baxis": {
            "gridcolor": "white",
            "linecolor": "white",
            "ticks": ""
           },
           "bgcolor": "#E5ECF6",
           "caxis": {
            "gridcolor": "white",
            "linecolor": "white",
            "ticks": ""
           }
          },
          "title": {
           "x": 0.05
          },
          "xaxis": {
           "automargin": true,
           "gridcolor": "white",
           "linecolor": "white",
           "ticks": "",
           "title": {
            "standoff": 15
           },
           "zerolinecolor": "white",
           "zerolinewidth": 2
          },
          "yaxis": {
           "automargin": true,
           "gridcolor": "white",
           "linecolor": "white",
           "ticks": "",
           "title": {
            "standoff": 15
           },
           "zerolinecolor": "white",
           "zerolinewidth": 2
          }
         }
        },
        "title": {
         "text": "Customer Responses"
        }
       }
      },
      "text/html": [
       "<div>                            <div id=\"4df7c7c3-afc8-4a3c-9d49-8f8cc6da7b69\" class=\"plotly-graph-div\" style=\"height:525px; width:100%;\"></div>            <script type=\"text/javascript\">                require([\"plotly\"], function(Plotly) {                    window.PLOTLYENV=window.PLOTLYENV || {};                                    if (document.getElementById(\"4df7c7c3-afc8-4a3c-9d49-8f8cc6da7b69\")) {                    Plotly.newPlot(                        \"4df7c7c3-afc8-4a3c-9d49-8f8cc6da7b69\",                        [{\"hoverinfo\":\"text\",\"hovertemplate\":\"<b>Income: $%{x:.0f}K</b><br><b>Total Spent: $%{y:.0f}</b><br><b>Recency: %{z:.0f}</b><br>%{text}\",\"marker\":{\"color\":\"blue\",\"opacity\":0.4,\"size\":6},\"mode\":\"markers\",\"name\":\"responded\",\"text\":[\"('Marital Status: Single', '<br>Education: Graduation', '<br>Yrs_Customer: 9', '<br>Age: 65', '<br>Kid Home: 0', '<br>Teen Home: 0')\",\"('Marital Status: Single', '<br>Education: PhD', '<br>Yrs_Customer: 9', '<br>Age: 76', '<br>Kid Home: 0', '<br>Teen Home: 0')\",\"('Marital Status: Divorced', '<br>Education: Graduation', '<br>Yrs_Customer: 7', '<br>Age: 45', '<br>Kid Home: 0', '<br>Teen Home: 0')\",\"('Marital Status: Together', '<br>Education: Master', '<br>Yrs_Customer: 9', '<br>Age: 67', '<br>Kid Home: 0', '<br>Teen Home: 0')\",\"('Marital Status: Divorced', '<br>Education: Graduation', '<br>Yrs_Customer: 9', '<br>Age: 56', '<br>Kid Home: 0', '<br>Teen Home: 0')\",\"('Marital Status: Single', '<br>Education: Master', '<br>Yrs_Customer: 8', '<br>Age: 40', '<br>Kid Home: 0', '<br>Teen Home: 0')\",\"('Marital Status: Single', '<br>Education: Unknown', '<br>Yrs_Customer: 8', '<br>Age: 43', '<br>Kid Home: 0', '<br>Teen Home: 1')\",\"('Marital Status: Married', '<br>Education: Master', '<br>Yrs_Customer: 9', '<br>Age: 50', '<br>Kid Home: 0', '<br>Teen Home: 0')\",\"('Marital Status: Single', '<br>Education: Graduation', '<br>Yrs_Customer: 9', '<br>Age: 46', '<br>Kid Home: 0', '<br>Teen Home: 0')\",\"('Marital Status: Married', '<br>Education: Graduation', '<br>Yrs_Customer: 8', '<br>Age: 63', '<br>Kid Home: 0', '<br>Teen Home: 0')\",\"('Marital Status: Single', '<br>Education: PhD', '<br>Yrs_Customer: 9', '<br>Age: 31', '<br>Kid Home: 0', '<br>Teen Home: 0')\",\"('Marital Status: Single', '<br>Education: Graduation', '<br>Yrs_Customer: 9', '<br>Age: 39', '<br>Kid Home: 0', '<br>Teen Home: 0')\",\"('Marital Status: Single', '<br>Education: Graduation', '<br>Yrs_Customer: 9', '<br>Age: 38', '<br>Kid Home: 0', '<br>Teen Home: 0')\",\"('Marital Status: Together', '<br>Education: Master', '<br>Yrs_Customer: 8', '<br>Age: 46', '<br>Kid Home: 0', '<br>Teen Home: 1')\",\"('Marital Status: Together', '<br>Education: Graduation', '<br>Yrs_Customer: 9', '<br>Age: 73', '<br>Kid Home: 0', '<br>Teen Home: 0')\",\"('Marital Status: Married', '<br>Education: PhD', '<br>Yrs_Customer: 9', '<br>Age: 74', '<br>Kid Home: 0', '<br>Teen Home: 0')\",\"('Marital Status: Together', '<br>Education: PhD', '<br>Yrs_Customer: 9', '<br>Age: 45', '<br>Kid Home: 0', '<br>Teen Home: 0')\",\"('Marital Status: Divorced', '<br>Education: Graduation', '<br>Yrs_Customer: 9', '<br>Age: 68', '<br>Kid Home: 0', '<br>Teen Home: 1')\",\"('Marital Status: Married', '<br>Education: Graduation', '<br>Yrs_Customer: 8', '<br>Age: 32', '<br>Kid Home: 0', '<br>Teen Home: 0')\",\"('Marital Status: Married', '<br>Education: Graduation', '<br>Yrs_Customer: 8', '<br>Age: 50', '<br>Kid Home: 1', '<br>Teen Home: 0')\",\"('Marital Status: Divorced', '<br>Education: Graduation', '<br>Yrs_Customer: 9', '<br>Age: 48', '<br>Kid Home: 0', '<br>Teen Home: 0')\",\"('Marital Status: Single', '<br>Education: Graduation', '<br>Yrs_Customer: 9', '<br>Age: 69', '<br>Kid Home: 0', '<br>Teen Home: 0')\",\"('Marital Status: Married', '<br>Education: PhD', '<br>Yrs_Customer: 9', '<br>Age: 66', '<br>Kid Home: 0', '<br>Teen Home: 1')\",\"('Marital Status: Divorced', '<br>Education: Graduation', '<br>Yrs_Customer: 9', '<br>Age: 54', '<br>Kid Home: 0', '<br>Teen Home: 0')\",\"('Marital Status: Together', '<br>Education: Graduation', '<br>Yrs_Customer: 9', '<br>Age: 57', '<br>Kid Home: 0', '<br>Teen Home: 0')\",\"('Marital Status: Divorced', '<br>Education: Graduation', '<br>Yrs_Customer: 7', '<br>Age: 52', '<br>Kid Home: 0', '<br>Teen Home: 0')\",\"('Marital Status: Single', '<br>Education: PhD', '<br>Yrs_Customer: 8', '<br>Age: 56', '<br>Kid Home: 0', '<br>Teen Home: 0')\",\"('Marital Status: Single', '<br>Education: Graduation', '<br>Yrs_Customer: 9', '<br>Age: 41', '<br>Kid Home: 0', '<br>Teen Home: 0')\",\"('Marital Status: Married', '<br>Education: Master', '<br>Yrs_Customer: 8', '<br>Age: 48', '<br>Kid Home: 0', '<br>Teen Home: 0')\",\"('Marital Status: Single', '<br>Education: PhD', '<br>Yrs_Customer: 9', '<br>Age: 61', '<br>Kid Home: 0', '<br>Teen Home: 0')\",\"('Marital Status: Single', '<br>Education: Unknown', '<br>Yrs_Customer: 9', '<br>Age: 56', '<br>Kid Home: 0', '<br>Teen Home: 0')\",\"('Marital Status: Together', '<br>Education: PhD', '<br>Yrs_Customer: 9', '<br>Age: 67', '<br>Kid Home: 0', '<br>Teen Home: 0')\",\"('Marital Status: Divorced', '<br>Education: Graduation', '<br>Yrs_Customer: 8', '<br>Age: 55', '<br>Kid Home: 0', '<br>Teen Home: 0')\",\"('Marital Status: Married', '<br>Education: PhD', '<br>Yrs_Customer: 8', '<br>Age: 40', '<br>Kid Home: 0', '<br>Teen Home: 0')\",\"('Marital Status: Widow', '<br>Education: Graduation', '<br>Yrs_Customer: 8', '<br>Age: 58', '<br>Kid Home: 0', '<br>Teen Home: 0')\",\"('Marital Status: Married', '<br>Education: Master', '<br>Yrs_Customer: 8', '<br>Age: 73', '<br>Kid Home: 0', '<br>Teen Home: 0')\",\"('Marital Status: Together', '<br>Education: Graduation', '<br>Yrs_Customer: 8', '<br>Age: 63', '<br>Kid Home: 0', '<br>Teen Home: 1')\",\"('Marital Status: Married', '<br>Education: PhD', '<br>Yrs_Customer: 9', '<br>Age: 45', '<br>Kid Home: 0', '<br>Teen Home: 1')\",\"('Marital Status: Widow', '<br>Education: Graduation', '<br>Yrs_Customer: 9', '<br>Age: 67', '<br>Kid Home: 0', '<br>Teen Home: 0')\",\"('Marital Status: Married', '<br>Education: Master', '<br>Yrs_Customer: 9', '<br>Age: 47', '<br>Kid Home: 0', '<br>Teen Home: 0')\",\"('Marital Status: Together', '<br>Education: Graduation', '<br>Yrs_Customer: 9', '<br>Age: 62', '<br>Kid Home: 0', '<br>Teen Home: 1')\",\"('Marital Status: Single', '<br>Education: Graduation', '<br>Yrs_Customer: 9', '<br>Age: 49', '<br>Kid Home: 0', '<br>Teen Home: 0')\",\"('Marital Status: Divorced', '<br>Education: Master', '<br>Yrs_Customer: 9', '<br>Age: 72', '<br>Kid Home: 0', '<br>Teen Home: 1')\",\"('Marital Status: Together', '<br>Education: Master', '<br>Yrs_Customer: 9', '<br>Age: 75', '<br>Kid Home: 0', '<br>Teen Home: 0')\",\"('Marital Status: Together', '<br>Education: Graduation', '<br>Yrs_Customer: 9', '<br>Age: 52', '<br>Kid Home: 0', '<br>Teen Home: 0')\",\"('Marital Status: Married', '<br>Education: PhD', '<br>Yrs_Customer: 9', '<br>Age: 59', '<br>Kid Home: 0', '<br>Teen Home: 1')\",\"('Marital Status: Single', '<br>Education: PhD', '<br>Yrs_Customer: 9', '<br>Age: 50', '<br>Kid Home: 0', '<br>Teen Home: 0')\",\"('Marital Status: Single', '<br>Education: Master', '<br>Yrs_Customer: 8', '<br>Age: 34', '<br>Kid Home: 0', '<br>Teen Home: 0')\",\"('Marital Status: Divorced', '<br>Education: Unknown', '<br>Yrs_Customer: 9', '<br>Age: 62', '<br>Kid Home: 0', '<br>Teen Home: 0')\",\"('Marital Status: Married', '<br>Education: Graduation', '<br>Yrs_Customer: 8', '<br>Age: 73', '<br>Kid Home: 0', '<br>Teen Home: 0')\",\"('Marital Status: Married', '<br>Education: Unknown', '<br>Yrs_Customer: 8', '<br>Age: 68', '<br>Kid Home: 0', '<br>Teen Home: 0')\",\"('Marital Status: Married', '<br>Education: Graduation', '<br>Yrs_Customer: 9', '<br>Age: 53', '<br>Kid Home: 0', '<br>Teen Home: 0')\",\"('Marital Status: Together', '<br>Education: PhD', '<br>Yrs_Customer: 9', '<br>Age: 50', '<br>Kid Home: 0', '<br>Teen Home: 1')\",\"('Marital Status: Married', '<br>Education: Graduation', '<br>Yrs_Customer: 9', '<br>Age: 64', '<br>Kid Home: 0', '<br>Teen Home: 0')\",\"('Marital Status: Single', '<br>Education: PhD', '<br>Yrs_Customer: 9', '<br>Age: 42', '<br>Kid Home: 0', '<br>Teen Home: 0')\",\"('Marital Status: Together', '<br>Education: Graduation', '<br>Yrs_Customer: 8', '<br>Age: 63', '<br>Kid Home: 0', '<br>Teen Home: 1')\",\"('Marital Status: Together', '<br>Education: Graduation', '<br>Yrs_Customer: 8', '<br>Age: 52', '<br>Kid Home: 0', '<br>Teen Home: 0')\",\"('Marital Status: Single', '<br>Education: PhD', '<br>Yrs_Customer: 9', '<br>Age: 50', '<br>Kid Home: 0', '<br>Teen Home: 0')\",\"('Marital Status: Single', '<br>Education: Graduation', '<br>Yrs_Customer: 8', '<br>Age: 61', '<br>Kid Home: 0', '<br>Teen Home: 0')\",\"('Marital Status: Widow', '<br>Education: PhD', '<br>Yrs_Customer: 9', '<br>Age: 59', '<br>Kid Home: 0', '<br>Teen Home: 1')\",\"('Marital Status: Single', '<br>Education: Graduation', '<br>Yrs_Customer: 9', '<br>Age: 28', '<br>Kid Home: 0', '<br>Teen Home: 0')\",\"('Marital Status: Married', '<br>Education: PhD', '<br>Yrs_Customer: 8', '<br>Age: 40', '<br>Kid Home: 0', '<br>Teen Home: 0')\",\"('Marital Status: Divorced', '<br>Education: Graduation', '<br>Yrs_Customer: 8', '<br>Age: 39', '<br>Kid Home: 0', '<br>Teen Home: 0')\",\"('Marital Status: Together', '<br>Education: Graduation', '<br>Yrs_Customer: 9', '<br>Age: 69', '<br>Kid Home: 0', '<br>Teen Home: 0')\",\"('Marital Status: Married', '<br>Education: Graduation', '<br>Yrs_Customer: 8', '<br>Age: 49', '<br>Kid Home: 0', '<br>Teen Home: 0')\",\"('Marital Status: Married', '<br>Education: Graduation', '<br>Yrs_Customer: 8', '<br>Age: 72', '<br>Kid Home: 0', '<br>Teen Home: 0')\",\"('Marital Status: Married', '<br>Education: Graduation', '<br>Yrs_Customer: 8', '<br>Age: 53', '<br>Kid Home: 0', '<br>Teen Home: 0')\",\"('Marital Status: Divorced', '<br>Education: Graduation', '<br>Yrs_Customer: 8', '<br>Age: 68', '<br>Kid Home: 0', '<br>Teen Home: 0')\",\"('Marital Status: Single', '<br>Education: PhD', '<br>Yrs_Customer: 8', '<br>Age: 35', '<br>Kid Home: 0', '<br>Teen Home: 0')\",\"('Marital Status: Together', '<br>Education: PhD', '<br>Yrs_Customer: 9', '<br>Age: 69', '<br>Kid Home: 1', '<br>Teen Home: 2')\",\"('Marital Status: Together', '<br>Education: Graduation', '<br>Yrs_Customer: 8', '<br>Age: 51', '<br>Kid Home: 0', '<br>Teen Home: 0')\",\"('Marital Status: Single', '<br>Education: Graduation', '<br>Yrs_Customer: 9', '<br>Age: 51', '<br>Kid Home: 0', '<br>Teen Home: 0')\",\"('Marital Status: Single', '<br>Education: Graduation', '<br>Yrs_Customer: 8', '<br>Age: 30', '<br>Kid Home: 0', '<br>Teen Home: 0')\",\"('Marital Status: Married', '<br>Education: Graduation', '<br>Yrs_Customer: 9', '<br>Age: 66', '<br>Kid Home: 0', '<br>Teen Home: 0')\",\"('Marital Status: Single', '<br>Education: Master', '<br>Yrs_Customer: 9', '<br>Age: 52', '<br>Kid Home: 0', '<br>Teen Home: 0')\",\"('Marital Status: Single', '<br>Education: PhD', '<br>Yrs_Customer: 8', '<br>Age: 64', '<br>Kid Home: 0', '<br>Teen Home: 0')\",\"('Marital Status: Divorced', '<br>Education: Graduation', '<br>Yrs_Customer: 8', '<br>Age: 47', '<br>Kid Home: 0', '<br>Teen Home: 0')\",\"('Marital Status: Single', '<br>Education: Unknown', '<br>Yrs_Customer: 9', '<br>Age: 39', '<br>Kid Home: 0', '<br>Teen Home: 0')\",\"('Marital Status: Divorced', '<br>Education: Unknown', '<br>Yrs_Customer: 8', '<br>Age: 70', '<br>Kid Home: 0', '<br>Teen Home: 0')\",\"('Marital Status: Single', '<br>Education: Graduation', '<br>Yrs_Customer: 8', '<br>Age: 37', '<br>Kid Home: 0', '<br>Teen Home: 0')\",\"('Marital Status: Divorced', '<br>Education: PhD', '<br>Yrs_Customer: 9', '<br>Age: 60', '<br>Kid Home: 0', '<br>Teen Home: 0')\",\"('Marital Status: Together', '<br>Education: Graduation', '<br>Yrs_Customer: 9', '<br>Age: 48', '<br>Kid Home: 0', '<br>Teen Home: 0')\",\"('Marital Status: Divorced', '<br>Education: PhD', '<br>Yrs_Customer: 9', '<br>Age: 61', '<br>Kid Home: 0', '<br>Teen Home: 1')\",\"('Marital Status: Divorced', '<br>Education: Master', '<br>Yrs_Customer: 9', '<br>Age: 52', '<br>Kid Home: 0', '<br>Teen Home: 0')\",\"('Marital Status: Widow', '<br>Education: Master', '<br>Yrs_Customer: 9', '<br>Age: 53', '<br>Kid Home: 0', '<br>Teen Home: 1')\",\"('Marital Status: Married', '<br>Education: PhD', '<br>Yrs_Customer: 8', '<br>Age: 57', '<br>Kid Home: 0', '<br>Teen Home: 0')\",\"('Marital Status: Married', '<br>Education: PhD', '<br>Yrs_Customer: 9', '<br>Age: 55', '<br>Kid Home: 0', '<br>Teen Home: 1')\",\"('Marital Status: Divorced', '<br>Education: PhD', '<br>Yrs_Customer: 8', '<br>Age: 39', '<br>Kid Home: 0', '<br>Teen Home: 0')\",\"('Marital Status: Divorced', '<br>Education: Graduation', '<br>Yrs_Customer: 8', '<br>Age: 47', '<br>Kid Home: 0', '<br>Teen Home: 0')\",\"('Marital Status: Together', '<br>Education: Graduation', '<br>Yrs_Customer: 9', '<br>Age: 39', '<br>Kid Home: 0', '<br>Teen Home: 0')\",\"('Marital Status: Divorced', '<br>Education: Unknown', '<br>Yrs_Customer: 9', '<br>Age: 51', '<br>Kid Home: 0', '<br>Teen Home: 0')\",\"('Marital Status: Married', '<br>Education: Master', '<br>Yrs_Customer: 9', '<br>Age: 50', '<br>Kid Home: 0', '<br>Teen Home: 0')\",\"('Marital Status: Married', '<br>Education: Graduation', '<br>Yrs_Customer: 8', '<br>Age: 76', '<br>Kid Home: 0', '<br>Teen Home: 0')\",\"('Marital Status: Together', '<br>Education: Graduation', '<br>Yrs_Customer: 9', '<br>Age: 69', '<br>Kid Home: 0', '<br>Teen Home: 0')\",\"('Marital Status: Married', '<br>Education: Graduation', '<br>Yrs_Customer: 8', '<br>Age: 40', '<br>Kid Home: 0', '<br>Teen Home: 0')\",\"('Marital Status: Together', '<br>Education: PhD', '<br>Yrs_Customer: 8', '<br>Age: 77', '<br>Kid Home: 0', '<br>Teen Home: 0')\",\"('Marital Status: Married', '<br>Education: Master', '<br>Yrs_Customer: 9', '<br>Age: 73', '<br>Kid Home: 1', '<br>Teen Home: 1')\",\"('Marital Status: Divorced', '<br>Education: PhD', '<br>Yrs_Customer: 9', '<br>Age: 60', '<br>Kid Home: 0', '<br>Teen Home: 0')\",\"('Marital Status: Single', '<br>Education: Graduation', '<br>Yrs_Customer: 8', '<br>Age: 29', '<br>Kid Home: 0', '<br>Teen Home: 0')\",\"('Marital Status: Married', '<br>Education: Graduation', '<br>Yrs_Customer: 9', '<br>Age: 40', '<br>Kid Home: 0', '<br>Teen Home: 0')\",\"('Marital Status: Single', '<br>Education: Master', '<br>Yrs_Customer: 9', '<br>Age: 64', '<br>Kid Home: 0', '<br>Teen Home: 1')\",\"('Marital Status: Married', '<br>Education: Graduation', '<br>Yrs_Customer: 8', '<br>Age: 50', '<br>Kid Home: 1', '<br>Teen Home: 0')\",\"('Marital Status: Married', '<br>Education: Graduation', '<br>Yrs_Customer: 8', '<br>Age: 78', '<br>Kid Home: 0', '<br>Teen Home: 0')\",\"('Marital Status: Widow', '<br>Education: Master', '<br>Yrs_Customer: 9', '<br>Age: 74', '<br>Kid Home: 0', '<br>Teen Home: 0')\",\"('Marital Status: Single', '<br>Education: Graduation', '<br>Yrs_Customer: 8', '<br>Age: 69', '<br>Kid Home: 0', '<br>Teen Home: 0')\",\"('Marital Status: Single', '<br>Education: Graduation', '<br>Yrs_Customer: 8', '<br>Age: 52', '<br>Kid Home: 0', '<br>Teen Home: 0')\",\"('Marital Status: Married', '<br>Education: PhD', '<br>Yrs_Customer: 9', '<br>Age: 53', '<br>Kid Home: 0', '<br>Teen Home: 2')\",\"('Marital Status: Together', '<br>Education: Graduation', '<br>Yrs_Customer: 8', '<br>Age: 34', '<br>Kid Home: 0', '<br>Teen Home: 0')\",\"('Marital Status: Together', '<br>Education: PhD', '<br>Yrs_Customer: 9', '<br>Age: 53', '<br>Kid Home: 0', '<br>Teen Home: 1')\",\"('Marital Status: Single', '<br>Education: PhD', '<br>Yrs_Customer: 9', '<br>Age: 67', '<br>Kid Home: 0', '<br>Teen Home: 0')\",\"('Marital Status: Single', '<br>Education: PhD', '<br>Yrs_Customer: 8', '<br>Age: 39', '<br>Kid Home: 0', '<br>Teen Home: 0')\",\"('Marital Status: Single', '<br>Education: PhD', '<br>Yrs_Customer: 8', '<br>Age: 35', '<br>Kid Home: 0', '<br>Teen Home: 0')\",\"('Marital Status: Widow', '<br>Education: PhD', '<br>Yrs_Customer: 8', '<br>Age: 63', '<br>Kid Home: 0', '<br>Teen Home: 0')\",\"('Marital Status: Single', '<br>Education: PhD', '<br>Yrs_Customer: 9', '<br>Age: 76', '<br>Kid Home: 0', '<br>Teen Home: 0')\",\"('Marital Status: Single', '<br>Education: Master', '<br>Yrs_Customer: 8', '<br>Age: 31', '<br>Kid Home: 0', '<br>Teen Home: 0')\",\"('Marital Status: Single', '<br>Education: Graduation', '<br>Yrs_Customer: 8', '<br>Age: 32', '<br>Kid Home: 0', '<br>Teen Home: 0')\",\"('Marital Status: Divorced', '<br>Education: PhD', '<br>Yrs_Customer: 8', '<br>Age: 58', '<br>Kid Home: 0', '<br>Teen Home: 2')\",\"('Marital Status: Divorced', '<br>Education: Graduation', '<br>Yrs_Customer: 8', '<br>Age: 55', '<br>Kid Home: 0', '<br>Teen Home: 0')\",\"('Marital Status: Single', '<br>Education: Graduation', '<br>Yrs_Customer: 9', '<br>Age: 61', '<br>Kid Home: 0', '<br>Teen Home: 0')\",\"('Marital Status: Single', '<br>Education: Graduation', '<br>Yrs_Customer: 7', '<br>Age: 41', '<br>Kid Home: 0', '<br>Teen Home: 0')\",\"('Marital Status: Married', '<br>Education: PhD', '<br>Yrs_Customer: 9', '<br>Age: 55', '<br>Kid Home: 0', '<br>Teen Home: 1')\",\"('Marital Status: Married', '<br>Education: Master', '<br>Yrs_Customer: 9', '<br>Age: 36', '<br>Kid Home: 0', '<br>Teen Home: 0')\",\"('Marital Status: Divorced', '<br>Education: Master', '<br>Yrs_Customer: 9', '<br>Age: 42', '<br>Kid Home: 0', '<br>Teen Home: 0')\",\"('Marital Status: Married', '<br>Education: Graduation', '<br>Yrs_Customer: 7', '<br>Age: 36', '<br>Kid Home: 0', '<br>Teen Home: 0')\",\"('Marital Status: Married', '<br>Education: Master', '<br>Yrs_Customer: 8', '<br>Age: 63', '<br>Kid Home: 0', '<br>Teen Home: 1')\",\"('Marital Status: Married', '<br>Education: PhD', '<br>Yrs_Customer: 9', '<br>Age: 39', '<br>Kid Home: 0', '<br>Teen Home: 0')\",\"('Marital Status: Single', '<br>Education: Graduation', '<br>Yrs_Customer: 8', '<br>Age: 31', '<br>Kid Home: 0', '<br>Teen Home: 0')\",\"('Marital Status: Together', '<br>Education: Graduation', '<br>Yrs_Customer: 9', '<br>Age: 75', '<br>Kid Home: 0', '<br>Teen Home: 0')\",\"('Marital Status: Together', '<br>Education: PhD', '<br>Yrs_Customer: 9', '<br>Age: 61', '<br>Kid Home: 0', '<br>Teen Home: 1')\",\"('Marital Status: Married', '<br>Education: Graduation', '<br>Yrs_Customer: 8', '<br>Age: 66', '<br>Kid Home: 0', '<br>Teen Home: 0')\",\"('Marital Status: Single', '<br>Education: Graduation', '<br>Yrs_Customer: 8', '<br>Age: 71', '<br>Kid Home: 0', '<br>Teen Home: 0')\",\"('Marital Status: Together', '<br>Education: Graduation', '<br>Yrs_Customer: 9', '<br>Age: 36', '<br>Kid Home: 0', '<br>Teen Home: 0')\",\"('Marital Status: Divorced', '<br>Education: PhD', '<br>Yrs_Customer: 9', '<br>Age: 68', '<br>Kid Home: 0', '<br>Teen Home: 1')\",\"('Marital Status: Widow', '<br>Education: Master', '<br>Yrs_Customer: 8', '<br>Age: 69', '<br>Kid Home: 0', '<br>Teen Home: 0')\",\"('Marital Status: Single', '<br>Education: Unknown', '<br>Yrs_Customer: 9', '<br>Age: 27', '<br>Kid Home: 0', '<br>Teen Home: 0')\",\"('Marital Status: Together', '<br>Education: Graduation', '<br>Yrs_Customer: 9', '<br>Age: 61', '<br>Kid Home: 0', '<br>Teen Home: 0')\",\"('Marital Status: Single', '<br>Education: PhD', '<br>Yrs_Customer: 8', '<br>Age: 38', '<br>Kid Home: 0', '<br>Teen Home: 0')\",\"('Marital Status: Married', '<br>Education: Graduation', '<br>Yrs_Customer: 9', '<br>Age: 40', '<br>Kid Home: 0', '<br>Teen Home: 0')\",\"('Marital Status: Together', '<br>Education: Unknown', '<br>Yrs_Customer: 8', '<br>Age: 45', '<br>Kid Home: 0', '<br>Teen Home: 0')\",\"('Marital Status: Married', '<br>Education: PhD', '<br>Yrs_Customer: 9', '<br>Age: 38', '<br>Kid Home: 0', '<br>Teen Home: 0')\",\"('Marital Status: Divorced', '<br>Education: PhD', '<br>Yrs_Customer: 8', '<br>Age: 51', '<br>Kid Home: 0', '<br>Teen Home: 0')\",\"('Marital Status: Married', '<br>Education: Graduation', '<br>Yrs_Customer: 9', '<br>Age: 55', '<br>Kid Home: 0', '<br>Teen Home: 1')\",\"('Marital Status: Single', '<br>Education: Graduation', '<br>Yrs_Customer: 9', '<br>Age: 66', '<br>Kid Home: 0', '<br>Teen Home: 0')\",\"('Marital Status: Single', '<br>Education: Graduation', '<br>Yrs_Customer: 9', '<br>Age: 65', '<br>Kid Home: 0', '<br>Teen Home: 0')\",\"('Marital Status: Married', '<br>Education: PhD', '<br>Yrs_Customer: 8', '<br>Age: 38', '<br>Kid Home: 0', '<br>Teen Home: 0')\",\"('Marital Status: Married', '<br>Education: Graduation', '<br>Yrs_Customer: 9', '<br>Age: 40', '<br>Kid Home: 0', '<br>Teen Home: 0')\",\"('Marital Status: Together', '<br>Education: PhD', '<br>Yrs_Customer: 9', '<br>Age: 46', '<br>Kid Home: 0', '<br>Teen Home: 0')\",\"('Marital Status: Single', '<br>Education: Graduation', '<br>Yrs_Customer: 9', '<br>Age: 32', '<br>Kid Home: 0', '<br>Teen Home: 0')\",\"('Marital Status: Widow', '<br>Education: PhD', '<br>Yrs_Customer: 8', '<br>Age: 60', '<br>Kid Home: 0', '<br>Teen Home: 0')\",\"('Marital Status: Widow', '<br>Education: Graduation', '<br>Yrs_Customer: 9', '<br>Age: 73', '<br>Kid Home: 0', '<br>Teen Home: 0')\",\"('Marital Status: Divorced', '<br>Education: PhD', '<br>Yrs_Customer: 8', '<br>Age: 59', '<br>Kid Home: 0', '<br>Teen Home: 0')\",\"('Marital Status: Single', '<br>Education: Master', '<br>Yrs_Customer: 8', '<br>Age: 75', '<br>Kid Home: 0', '<br>Teen Home: 0')\",\"('Marital Status: Together', '<br>Education: Graduation', '<br>Yrs_Customer: 8', '<br>Age: 45', '<br>Kid Home: 0', '<br>Teen Home: 0')\",\"('Marital Status: Single', '<br>Education: Graduation', '<br>Yrs_Customer: 9', '<br>Age: 64', '<br>Kid Home: 0', '<br>Teen Home: 0')\",\"('Marital Status: Single', '<br>Education: Graduation', '<br>Yrs_Customer: 9', '<br>Age: 52', '<br>Kid Home: 1', '<br>Teen Home: 0')\",\"('Marital Status: Unknown', '<br>Education: Graduation', '<br>Yrs_Customer: 9', '<br>Age: 29', '<br>Kid Home: 0', '<br>Teen Home: 0')\",\"('Marital Status: Married', '<br>Education: Master', '<br>Yrs_Customer: 9', '<br>Age: 46', '<br>Kid Home: 1', '<br>Teen Home: 0')\",\"('Marital Status: Single', '<br>Education: Graduation', '<br>Yrs_Customer: 9', '<br>Age: 61', '<br>Kid Home: 0', '<br>Teen Home: 0')\",\"('Marital Status: Married', '<br>Education: PhD', '<br>Yrs_Customer: 9', '<br>Age: 36', '<br>Kid Home: 0', '<br>Teen Home: 0')\",\"('Marital Status: Together', '<br>Education: PhD', '<br>Yrs_Customer: 9', '<br>Age: 57', '<br>Kid Home: 0', '<br>Teen Home: 0')\",\"('Marital Status: Single', '<br>Education: Master', '<br>Yrs_Customer: 9', '<br>Age: 46', '<br>Kid Home: 0', '<br>Teen Home: 0')\",\"('Marital Status: Single', '<br>Education: Graduation', '<br>Yrs_Customer: 8', '<br>Age: 65', '<br>Kid Home: 0', '<br>Teen Home: 0')\",\"('Marital Status: Married', '<br>Education: PhD', '<br>Yrs_Customer: 9', '<br>Age: 58', '<br>Kid Home: 0', '<br>Teen Home: 1')\",\"('Marital Status: Single', '<br>Education: Master', '<br>Yrs_Customer: 9', '<br>Age: 32', '<br>Kid Home: 0', '<br>Teen Home: 0')\",\"('Marital Status: Divorced', '<br>Education: Unknown', '<br>Yrs_Customer: 8', '<br>Age: 52', '<br>Kid Home: 0', '<br>Teen Home: 0')\",\"('Marital Status: Married', '<br>Education: PhD', '<br>Yrs_Customer: 9', '<br>Age: 47', '<br>Kid Home: 0', '<br>Teen Home: 0')\",\"('Marital Status: Single', '<br>Education: Master', '<br>Yrs_Customer: 9', '<br>Age: 39', '<br>Kid Home: 0', '<br>Teen Home: 0')\",\"('Marital Status: Married', '<br>Education: Unknown', '<br>Yrs_Customer: 9', '<br>Age: 65', '<br>Kid Home: 0', '<br>Teen Home: 0')\",\"('Marital Status: Married', '<br>Education: Graduation', '<br>Yrs_Customer: 9', '<br>Age: 65', '<br>Kid Home: 0', '<br>Teen Home: 1')\",\"('Marital Status: Single', '<br>Education: Master', '<br>Yrs_Customer: 8', '<br>Age: 40', '<br>Kid Home: 0', '<br>Teen Home: 0')\"],\"x\":[58138.0,82800.0,82582.0,82384.0,70287.0,75777.0,88194.0,75251.0,75825.0,87195.0,68126.0,101970.0,79607.0,65104.0,69372.0,83837.0,102160.0,64497.0,73687.0,80134.0,102692.0,69267.0,66334.0,75693.0,83003.0,84835.0,69759.0,91065.0,82584.0,84865.0,89572.0,75261.0,76982.0,84169.0,85620.0,81698.0,87771.0,61996.0,79800.0,92163.0,70971.0,83917.0,63120.0,77632.0,105471.0,81300.0,86857.0,90247.0,87305.0,72025.0,63564.0,80952.0,62220.0,48192.0,76412.0,87771.0,81205.0,86857.0,86429.0,52278.0,95529.0,84169.0,82025.0,94384.0,92955.0,80763.0,75759.0,85683.0,95169.0,64504.0,74538.0,91700.0,83528.0,79456.0,75345.0,71691.0,83829.0,81698.0,63998.0,72903.0,85696.0,83145.0,54959.0,78579.0,67369.0,69969.0,77766.0,90687.0,83829.0,78687.0,49118.0,83151.0,78569.0,94384.0,65169.0,71604.0,62845.0,85696.0,70515.0,69109.0,75154.0,80134.0,80589.0,78427.0,73892.0,93790.0,94871.0,87679.0,53374.0,49667.0,87188.0,74004.0,67786.0,82800.0,90638.0,64509.0,64140.0,57136.0,82014.0,72066.0,77766.0,80141.0,78789.0,83512.0,77520.0,92491.0,90273.0,70321.0,63342.0,90369.0,72282.0,78394.0,57333.0,84953.0,83257.0,64260.0,82733.0,69109.0,82326.0,70643.0,86979.0,77870.0,91249.0,64849.0,73356.0,63211.0,72335.0,96843.0,71670.0,72643.0,72968.0,91712.0,96876.0,68281.0,76467.0,79244.0,81929.0,82332.0,82333.0,65220.0,72309.0,78499.0,60896.0,91172.0,65706.0,79174.0,89616.0,82347.0,73803.0,75777.0],\"y\":[1617,1315,1617,1957,1093,1438,1274,1890,2209,1097,1820,1135,1923,1053,1381,1318,1240,1804,1627,1690,1112,1635,1161,1442,1674,1190,1029,1474,1435,1688,2059,1743,1062,1919,1600,1008,1957,1230,1867,2086,1825,1587,1477,2252,1724,1241,2114,1621,1152,1677,1215,1757,1226,1526,1808,1957,2009,2114,1449,1198,1990,1919,1187,2302,1778,1415,2486,1789,1901,1314,1461,1968,1650,1401,2087,1192,1862,1104,1168,2013,1313,1833,1232,1812,1461,1536,1529,1779,1862,2130,1229,2346,1736,2302,1189,1196,1178,1313,1258,1555,1143,1690,1428,1930,1507,2349,1078,2524,1064,1396,1923,1658,1156,1315,2525,1722,1750,1179,1511,1792,1529,2091,1754,2157,1526,2034,1991,1376,1101,1588,1331,1428,1662,1024,1365,1574,1323,1555,2257,1828,1702,1815,1676,1336,1512,1173,2092,1544,1766,1429,1958,2217,1941,1655,1575,1216,2053,2006,1822,1282,1931,1334,1701,1092,1199,2043,1644,1853,1528,1438],\"z\":[58,23,54,55,30,12,19,34,40,35,40,69,37,4,10,79,54,17,8,40,5,31,82,10,18,999,38,33,26,1,44,17,19,9,68,4,61,27,65,25,28,12,53,73,36,17,96,27,19,46,999,20,55,76,15,61,43,96,10,24,29,9,76,62,35,17,46,6,1,81,21,58,7,12,16,999,78,1,42,74,88,14,55,35,81,64,97,98,78,13,90,80,14,62,23,3,3,88,12,10,79,40,25,36,40,16,99,62,34,35,73,5,999,23,29,19,71,18,48,55,97,20,12,31,30,71,32,6,48,2,70,13,55,73,56,1,28,10,30,66,67,93,84,42,56,3,2,60,8,60,8,47,79,31,44,58,60,89,60,3,64,12,90,94,77,2,36,38,61,12],\"type\":\"scatter3d\"},{\"hoverinfo\":\"text\",\"hovertemplate\":\"<b>Income: $%{x:.0f}K</b><br><b>Total Spent: $%{y:.0f}</b><br><b>Recency: %{z:.0f}</b><br>%{text}\",\"marker\":{\"color\":\"red\",\"opacity\":0.4,\"size\":6},\"mode\":\"markers\",\"name\":\"ignored\",\"text\":[\"('Marital Status: Together', '<br>Education: PhD', '<br>Yrs_Customer: 8', '<br>Age: 72', '<br>Kid Home: 1', '<br>Teen Home: 1')\",\"('Marital Status: Married', '<br>Education: Basic', '<br>Yrs_Customer: 9', '<br>Age: 46', '<br>Kid Home: 0', '<br>Teen Home: 0')\",\"('Marital Status: Married', '<br>Education: Graduation', '<br>Yrs_Customer: 9', '<br>Age: 35', '<br>Kid Home: 0', '<br>Teen Home: 0')\",\"('Marital Status: Single', '<br>Education: Graduation', '<br>Yrs_Customer: 9', '<br>Age: 53', '<br>Kid Home: 0', '<br>Teen Home: 0')\",\"('Marital Status: Divorced', '<br>Education: Master', '<br>Yrs_Customer: 7', '<br>Age: 33', '<br>Kid Home: 0', '<br>Teen Home: 0')\",\"('Marital Status: Married', '<br>Education: Unknown', '<br>Yrs_Customer: 8', '<br>Age: 46', '<br>Kid Home: 1', '<br>Teen Home: 0')\",\"('Marital Status: Married', '<br>Education: Master', '<br>Yrs_Customer: 9', '<br>Age: 37', '<br>Kid Home: 1', '<br>Teen Home: 0')\",\"('Marital Status: Together', '<br>Education: Graduation', '<br>Yrs_Customer: 9', '<br>Age: 65', '<br>Kid Home: 0', '<br>Teen Home: 1')\",\"('Marital Status: Married', '<br>Education: Master', '<br>Yrs_Customer: 8', '<br>Age: 47', '<br>Kid Home: 1', '<br>Teen Home: 0')\",\"('Marital Status: Married', '<br>Education: Unknown', '<br>Yrs_Customer: 8', '<br>Age: 49', '<br>Kid Home: 1', '<br>Teen Home: 0')\",\"('Marital Status: Married', '<br>Education: PhD', '<br>Yrs_Customer: 7', '<br>Age: 52', '<br>Kid Home: 1', '<br>Teen Home: 0')\",\"('Marital Status: Together', '<br>Education: Basic', '<br>Yrs_Customer: 8', '<br>Age: 43', '<br>Kid Home: 1', '<br>Teen Home: 0')\",\"('Marital Status: Together', '<br>Education: Graduation', '<br>Yrs_Customer: 8', '<br>Age: 53', '<br>Kid Home: 1', '<br>Teen Home: 0')\",\"('Marital Status: Married', '<br>Education: Master', '<br>Yrs_Customer: 8', '<br>Age: 37', '<br>Kid Home: 2', '<br>Teen Home: 0')\",\"('Marital Status: Divorced', '<br>Education: Basic', '<br>Yrs_Customer: 9', '<br>Age: 46', '<br>Kid Home: 1', '<br>Teen Home: 0')\",\"('Marital Status: Married', '<br>Education: Graduation', '<br>Yrs_Customer: 8', '<br>Age: 38', '<br>Kid Home: 1', '<br>Teen Home: 0')\",\"('Marital Status: Married', '<br>Education: Unknown', '<br>Yrs_Customer: 8', '<br>Age: 34', '<br>Kid Home: 1', '<br>Teen Home: 0')\",\"('Marital Status: Together', '<br>Education: Basic', '<br>Yrs_Customer: 9', '<br>Age: 44', '<br>Kid Home: 1', '<br>Teen Home: 0')\",\"('Marital Status: Single', '<br>Education: Graduation', '<br>Yrs_Customer: 8', '<br>Age: 71', '<br>Kid Home: 0', '<br>Teen Home: 0')\",\"('Marital Status: Married', '<br>Education: Unknown', '<br>Yrs_Customer: 8', '<br>Age: 47', '<br>Kid Home: 1', '<br>Teen Home: 0')\",\"('Marital Status: Together', '<br>Education: Master', '<br>Yrs_Customer: 8', '<br>Age: 40', '<br>Kid Home: 1', '<br>Teen Home: 0')\",\"('Marital Status: Single', '<br>Education: Graduation', '<br>Yrs_Customer: 8', '<br>Age: 49', '<br>Kid Home: 1', '<br>Teen Home: 0')\",\"('Marital Status: Single', '<br>Education: Graduation', '<br>Yrs_Customer: 8', '<br>Age: 51', '<br>Kid Home: 1', '<br>Teen Home: 0')\",\"('Marital Status: Single', '<br>Education: Graduation', '<br>Yrs_Customer: 8', '<br>Age: 58', '<br>Kid Home: 1', '<br>Teen Home: 1')\",\"('Marital Status: Together', '<br>Education: Graduation', '<br>Yrs_Customer: 8', '<br>Age: 52', '<br>Kid Home: 1', '<br>Teen Home: 0')\",\"('Marital Status: Married', '<br>Education: Basic', '<br>Yrs_Customer: 9', '<br>Age: 41', '<br>Kid Home: 1', '<br>Teen Home: 0')\",\"('Marital Status: Together', '<br>Education: Graduation', '<br>Yrs_Customer: 8', '<br>Age: 51', '<br>Kid Home: 2', '<br>Teen Home: 0')\",\"('Marital Status: Together', '<br>Education: Graduation', '<br>Yrs_Customer: 8', '<br>Age: 38', '<br>Kid Home: 1', '<br>Teen Home: 0')\",\"('Marital Status: Divorced', '<br>Education: Graduation', '<br>Yrs_Customer: 8', '<br>Age: 46', '<br>Kid Home: 1', '<br>Teen Home: 0')\",\"('Marital Status: Married', '<br>Education: Graduation', '<br>Yrs_Customer: 8', '<br>Age: 55', '<br>Kid Home: 2', '<br>Teen Home: 1')\",\"('Marital Status: Divorced', '<br>Education: PhD', '<br>Yrs_Customer: 8', '<br>Age: 46', '<br>Kid Home: 1', '<br>Teen Home: 0')\",\"('Marital Status: Single', '<br>Education: Graduation', '<br>Yrs_Customer: 9', '<br>Age: 39', '<br>Kid Home: 1', '<br>Teen Home: 0')\",\"('Marital Status: Together', '<br>Education: Graduation', '<br>Yrs_Customer: 8', '<br>Age: 39', '<br>Kid Home: 1', '<br>Teen Home: 0')\",\"('Marital Status: Married', '<br>Education: Graduation', '<br>Yrs_Customer: 8', '<br>Age: 37', '<br>Kid Home: 1', '<br>Teen Home: 0')\",\"('Marital Status: Single', '<br>Education: Graduation', '<br>Yrs_Customer: 8', '<br>Age: 51', '<br>Kid Home: 1', '<br>Teen Home: 0')\",\"('Marital Status: Single', '<br>Education: Graduation', '<br>Yrs_Customer: 9', '<br>Age: 35', '<br>Kid Home: 1', '<br>Teen Home: 0')\",\"('Marital Status: Together', '<br>Education: Unknown', '<br>Yrs_Customer: 8', '<br>Age: 47', '<br>Kid Home: 1', '<br>Teen Home: 0')\",\"('Marital Status: Together', '<br>Education: Master', '<br>Yrs_Customer: 7', '<br>Age: 40', '<br>Kid Home: 1', '<br>Teen Home: 0')\",\"('Marital Status: Together', '<br>Education: Unknown', '<br>Yrs_Customer: 8', '<br>Age: 33', '<br>Kid Home: 1', '<br>Teen Home: 0')\",\"('Marital Status: Married', '<br>Education: Unknown', '<br>Yrs_Customer: 9', '<br>Age: 36', '<br>Kid Home: 1', '<br>Teen Home: 0')\",\"('Marital Status: Married', '<br>Education: Graduation', '<br>Yrs_Customer: 8', '<br>Age: 76', '<br>Kid Home: 0', '<br>Teen Home: 0')\",\"('Marital Status: Married', '<br>Education: Unknown', '<br>Yrs_Customer: 8', '<br>Age: 48', '<br>Kid Home: 0', '<br>Teen Home: 0')\",\"('Marital Status: Divorced', '<br>Education: Graduation', '<br>Yrs_Customer: 8', '<br>Age: 63', '<br>Kid Home: 0', '<br>Teen Home: 0')\",\"('Marital Status: Married', '<br>Education: Graduation', '<br>Yrs_Customer: 8', '<br>Age: 46', '<br>Kid Home: 1', '<br>Teen Home: 0')\",\"('Marital Status: Single', '<br>Education: Graduation', '<br>Yrs_Customer: 7', '<br>Age: 34', '<br>Kid Home: 1', '<br>Teen Home: 0')\",\"('Marital Status: Married', '<br>Education: Graduation', '<br>Yrs_Customer: 8', '<br>Age: 53', '<br>Kid Home: 1', '<br>Teen Home: 0')\",\"('Marital Status: Married', '<br>Education: Basic', '<br>Yrs_Customer: 9', '<br>Age: 32', '<br>Kid Home: 0', '<br>Teen Home: 0')\",\"('Marital Status: Single', '<br>Education: Master', '<br>Yrs_Customer: 8', '<br>Age: 41', '<br>Kid Home: 1', '<br>Teen Home: 0')\",\"('Marital Status: Married', '<br>Education: Unknown', '<br>Yrs_Customer: 8', '<br>Age: 32', '<br>Kid Home: 1', '<br>Teen Home: 0')\",\"('Marital Status: Married', '<br>Education: Graduation', '<br>Yrs_Customer: 9', '<br>Age: 59', '<br>Kid Home: 0', '<br>Teen Home: 0')\",\"('Marital Status: Married', '<br>Education: Unknown', '<br>Yrs_Customer: 8', '<br>Age: 52', '<br>Kid Home: 0', '<br>Teen Home: 0')\",\"('Marital Status: Married', '<br>Education: Graduation', '<br>Yrs_Customer: 8', '<br>Age: 52', '<br>Kid Home: 1', '<br>Teen Home: 1')\",\"('Marital Status: Together', '<br>Education: Graduation', '<br>Yrs_Customer: 8', '<br>Age: 63', '<br>Kid Home: 0', '<br>Teen Home: 0')\",\"('Marital Status: Divorced', '<br>Education: Graduation', '<br>Yrs_Customer: 9', '<br>Age: 53', '<br>Kid Home: 1', '<br>Teen Home: 0')\",\"('Marital Status: Married', '<br>Education: Basic', '<br>Yrs_Customer: 9', '<br>Age: 49', '<br>Kid Home: 1', '<br>Teen Home: 0')\",\"('Marital Status: Married', '<br>Education: Graduation', '<br>Yrs_Customer: 8', '<br>Age: 55', '<br>Kid Home: 2', '<br>Teen Home: 1')\",\"('Marital Status: Married', '<br>Education: Graduation', '<br>Yrs_Customer: 9', '<br>Age: 46', '<br>Kid Home: 1', '<br>Teen Home: 0')\",\"('Marital Status: Married', '<br>Education: Graduation', '<br>Yrs_Customer: 8', '<br>Age: 37', '<br>Kid Home: 1', '<br>Teen Home: 0')\",\"('Marital Status: Together', '<br>Education: Master', '<br>Yrs_Customer: 9', '<br>Age: 66', '<br>Kid Home: 0', '<br>Teen Home: 0')\",\"('Marital Status: Married', '<br>Education: Graduation', '<br>Yrs_Customer: 9', '<br>Age: 63', '<br>Kid Home: 0', '<br>Teen Home: 0')\",\"('Marital Status: Single', '<br>Education: Basic', '<br>Yrs_Customer: 8', '<br>Age: 35', '<br>Kid Home: 1', '<br>Teen Home: 0')\",\"('Marital Status: Together', '<br>Education: Basic', '<br>Yrs_Customer: 8', '<br>Age: 70', '<br>Kid Home: 0', '<br>Teen Home: 0')\",\"('Marital Status: Married', '<br>Education: PhD', '<br>Yrs_Customer: 7', '<br>Age: 38', '<br>Kid Home: 1', '<br>Teen Home: 0')\",\"('Marital Status: Married', '<br>Education: Basic', '<br>Yrs_Customer: 9', '<br>Age: 33', '<br>Kid Home: 1', '<br>Teen Home: 0')\",\"('Marital Status: Married', '<br>Education: Unknown', '<br>Yrs_Customer: 8', '<br>Age: 47', '<br>Kid Home: 1', '<br>Teen Home: 0')\",\"('Marital Status: Together', '<br>Education: PhD', '<br>Yrs_Customer: 9', '<br>Age: 65', '<br>Kid Home: 0', '<br>Teen Home: 1')\",\"('Marital Status: Single', '<br>Education: Graduation', '<br>Yrs_Customer: 7', '<br>Age: 52', '<br>Kid Home: 1', '<br>Teen Home: 0')\",\"('Marital Status: Married', '<br>Education: Basic', '<br>Yrs_Customer: 9', '<br>Age: 36', '<br>Kid Home: 1', '<br>Teen Home: 0')\",\"('Marital Status: Together', '<br>Education: Master', '<br>Yrs_Customer: 8', '<br>Age: 62', '<br>Kid Home: 1', '<br>Teen Home: 1')\",\"('Marital Status: Single', '<br>Education: Graduation', '<br>Yrs_Customer: 8', '<br>Age: 72', '<br>Kid Home: 0', '<br>Teen Home: 0')\",\"('Marital Status: Married', '<br>Education: Graduation', '<br>Yrs_Customer: 8', '<br>Age: 54', '<br>Kid Home: 1', '<br>Teen Home: 0')\",\"('Marital Status: Single', '<br>Education: Graduation', '<br>Yrs_Customer: 9', '<br>Age: 68', '<br>Kid Home: 0', '<br>Teen Home: 0')\",\"('Marital Status: Married', '<br>Education: Graduation', '<br>Yrs_Customer: 8', '<br>Age: 50', '<br>Kid Home: 1', '<br>Teen Home: 0')\",\"('Marital Status: Married', '<br>Education: Graduation', '<br>Yrs_Customer: 9', '<br>Age: 59', '<br>Kid Home: 0', '<br>Teen Home: 0')\",\"('Marital Status: Together', '<br>Education: Graduation', '<br>Yrs_Customer: 8', '<br>Age: 38', '<br>Kid Home: 1', '<br>Teen Home: 0')\",\"('Marital Status: Married', '<br>Education: Graduation', '<br>Yrs_Customer: 9', '<br>Age: 41', '<br>Kid Home: 1', '<br>Teen Home: 0')\",\"('Marital Status: Married', '<br>Education: Graduation', '<br>Yrs_Customer: 9', '<br>Age: 42', '<br>Kid Home: 2', '<br>Teen Home: 0')\",\"('Marital Status: Together', '<br>Education: Graduation', '<br>Yrs_Customer: 8', '<br>Age: 53', '<br>Kid Home: 1', '<br>Teen Home: 0')\",\"('Marital Status: Married', '<br>Education: Graduation', '<br>Yrs_Customer: 9', '<br>Age: 35', '<br>Kid Home: 0', '<br>Teen Home: 0')\",\"('Marital Status: Single', '<br>Education: Master', '<br>Yrs_Customer: 8', '<br>Age: 36', '<br>Kid Home: 2', '<br>Teen Home: 0')\",\"('Marital Status: Together', '<br>Education: Graduation', '<br>Yrs_Customer: 7', '<br>Age: 46', '<br>Kid Home: 1', '<br>Teen Home: 0')\",\"('Marital Status: Together', '<br>Education: Unknown', '<br>Yrs_Customer: 9', '<br>Age: 44', '<br>Kid Home: 1', '<br>Teen Home: 0')\",\"('Marital Status: Divorced', '<br>Education: Graduation', '<br>Yrs_Customer: 8', '<br>Age: 36', '<br>Kid Home: 1', '<br>Teen Home: 0')\",\"('Marital Status: Together', '<br>Education: Master', '<br>Yrs_Customer: 9', '<br>Age: 43', '<br>Kid Home: 0', '<br>Teen Home: 0')\",\"('Marital Status: Single', '<br>Education: Basic', '<br>Yrs_Customer: 9', '<br>Age: 36', '<br>Kid Home: 0', '<br>Teen Home: 0')\",\"('Marital Status: Married', '<br>Education: PhD', '<br>Yrs_Customer: 9', '<br>Age: 46', '<br>Kid Home: 1', '<br>Teen Home: 1')\",\"('Marital Status: Married', '<br>Education: Unknown', '<br>Yrs_Customer: 9', '<br>Age: 34', '<br>Kid Home: 1', '<br>Teen Home: 0')\",\"('Marital Status: Divorced', '<br>Education: Graduation', '<br>Yrs_Customer: 7', '<br>Age: 57', '<br>Kid Home: 0', '<br>Teen Home: 0')\",\"('Marital Status: Married', '<br>Education: Unknown', '<br>Yrs_Customer: 9', '<br>Age: 50', '<br>Kid Home: 1', '<br>Teen Home: 0')\",\"('Marital Status: Together', '<br>Education: Graduation', '<br>Yrs_Customer: 9', '<br>Age: 35', '<br>Kid Home: 1', '<br>Teen Home: 0')\",\"('Marital Status: Married', '<br>Education: Graduation', '<br>Yrs_Customer: 8', '<br>Age: 54', '<br>Kid Home: 1', '<br>Teen Home: 1')\",\"('Marital Status: Single', '<br>Education: Graduation', '<br>Yrs_Customer: 9', '<br>Age: 46', '<br>Kid Home: 0', '<br>Teen Home: 0')\",\"('Marital Status: Married', '<br>Education: Graduation', '<br>Yrs_Customer: 9', '<br>Age: 44', '<br>Kid Home: 1', '<br>Teen Home: 0')\",\"('Marital Status: Single', '<br>Education: Basic', '<br>Yrs_Customer: 9', '<br>Age: 35', '<br>Kid Home: 1', '<br>Teen Home: 0')\",\"('Marital Status: Single', '<br>Education: Graduation', '<br>Yrs_Customer: 9', '<br>Age: 31', '<br>Kid Home: 0', '<br>Teen Home: 0')\",\"('Marital Status: Married', '<br>Education: Graduation', '<br>Yrs_Customer: 9', '<br>Age: 61', '<br>Kid Home: 1', '<br>Teen Home: 1')\",\"('Marital Status: Divorced', '<br>Education: Graduation', '<br>Yrs_Customer: 9', '<br>Age: 66', '<br>Kid Home: 0', '<br>Teen Home: 0')\",\"('Marital Status: Single', '<br>Education: Graduation', '<br>Yrs_Customer: 8', '<br>Age: 52', '<br>Kid Home: 1', '<br>Teen Home: 1')\",\"('Marital Status: Married', '<br>Education: Unknown', '<br>Yrs_Customer: 8', '<br>Age: 52', '<br>Kid Home: 0', '<br>Teen Home: 0')\",\"('Marital Status: Single', '<br>Education: PhD', '<br>Yrs_Customer: 8', '<br>Age: 38', '<br>Kid Home: 1', '<br>Teen Home: 0')\",\"('Marital Status: Together', '<br>Education: Basic', '<br>Yrs_Customer: 9', '<br>Age: 56', '<br>Kid Home: 0', '<br>Teen Home: 0')\",\"('Marital Status: Single', '<br>Education: Basic', '<br>Yrs_Customer: 9', '<br>Age: 37', '<br>Kid Home: 0', '<br>Teen Home: 0')\",\"('Marital Status: Divorced', '<br>Education: Master', '<br>Yrs_Customer: 7', '<br>Age: 33', '<br>Kid Home: 0', '<br>Teen Home: 0')\",\"('Marital Status: Divorced', '<br>Education: Unknown', '<br>Yrs_Customer: 7', '<br>Age: 44', '<br>Kid Home: 1', '<br>Teen Home: 0')\",\"('Marital Status: Together', '<br>Education: Master', '<br>Yrs_Customer: 8', '<br>Age: 48', '<br>Kid Home: 1', '<br>Teen Home: 0')\",\"('Marital Status: Married', '<br>Education: Graduation', '<br>Yrs_Customer: 9', '<br>Age: 43', '<br>Kid Home: 0', '<br>Teen Home: 1')\",\"('Marital Status: Single', '<br>Education: PhD', '<br>Yrs_Customer: 7', '<br>Age: 59', '<br>Kid Home: 1', '<br>Teen Home: 1')\",\"('Marital Status: Married', '<br>Education: Basic', '<br>Yrs_Customer: 8', '<br>Age: 26', '<br>Kid Home: 0', '<br>Teen Home: 0')\",\"('Marital Status: Married', '<br>Education: Unknown', '<br>Yrs_Customer: 8', '<br>Age: 48', '<br>Kid Home: 0', '<br>Teen Home: 0')\",\"('Marital Status: Together', '<br>Education: Basic', '<br>Yrs_Customer: 9', '<br>Age: 43', '<br>Kid Home: 1', '<br>Teen Home: 0')\",\"('Marital Status: Single', '<br>Education: Basic', '<br>Yrs_Customer: 9', '<br>Age: 64', '<br>Kid Home: 1', '<br>Teen Home: 1')\",\"('Marital Status: Single', '<br>Education: Graduation', '<br>Yrs_Customer: 8', '<br>Age: 37', '<br>Kid Home: 1', '<br>Teen Home: 0')\",\"('Marital Status: Married', '<br>Education: Graduation', '<br>Yrs_Customer: 8', '<br>Age: 32', '<br>Kid Home: 0', '<br>Teen Home: 0')\",\"('Marital Status: Single', '<br>Education: Basic', '<br>Yrs_Customer: 9', '<br>Age: 36', '<br>Kid Home: 1', '<br>Teen Home: 0')\",\"('Marital Status: Divorced', '<br>Education: Graduation', '<br>Yrs_Customer: 7', '<br>Age: 51', '<br>Kid Home: 0', '<br>Teen Home: 0')\",\"('Marital Status: Single', '<br>Education: Basic', '<br>Yrs_Customer: 9', '<br>Age: 30', '<br>Kid Home: 1', '<br>Teen Home: 0')\",\"('Marital Status: Together', '<br>Education: PhD', '<br>Yrs_Customer: 8', '<br>Age: 49', '<br>Kid Home: 1', '<br>Teen Home: 0')\",\"('Marital Status: Together', '<br>Education: Graduation', '<br>Yrs_Customer: 9', '<br>Age: 52', '<br>Kid Home: 1', '<br>Teen Home: 0')\",\"('Marital Status: Divorced', '<br>Education: Master', '<br>Yrs_Customer: 9', '<br>Age: 54', '<br>Kid Home: 1', '<br>Teen Home: 0')\",\"('Marital Status: Married', '<br>Education: Graduation', '<br>Yrs_Customer: 8', '<br>Age: 66', '<br>Kid Home: 0', '<br>Teen Home: 0')\",\"('Marital Status: Single', '<br>Education: Graduation', '<br>Yrs_Customer: 8', '<br>Age: 51', '<br>Kid Home: 1', '<br>Teen Home: 0')\",\"('Marital Status: Single', '<br>Education: Graduation', '<br>Yrs_Customer: 9', '<br>Age: 44', '<br>Kid Home: 1', '<br>Teen Home: 1')\",\"('Marital Status: Married', '<br>Education: Unknown', '<br>Yrs_Customer: 8', '<br>Age: 37', '<br>Kid Home: 0', '<br>Teen Home: 0')\",\"('Marital Status: Married', '<br>Education: Basic', '<br>Yrs_Customer: 8', '<br>Age: 48', '<br>Kid Home: 1', '<br>Teen Home: 0')\",\"('Marital Status: Married', '<br>Education: Graduation', '<br>Yrs_Customer: 8', '<br>Age: 40', '<br>Kid Home: 0', '<br>Teen Home: 0')\",\"('Marital Status: Single', '<br>Education: Master', '<br>Yrs_Customer: 8', '<br>Age: 40', '<br>Kid Home: 0', '<br>Teen Home: 0')\",\"('Marital Status: Married', '<br>Education: Graduation', '<br>Yrs_Customer: 9', '<br>Age: 32', '<br>Kid Home: 0', '<br>Teen Home: 0')\",\"('Marital Status: Single', '<br>Education: Basic', '<br>Yrs_Customer: 9', '<br>Age: 40', '<br>Kid Home: 1', '<br>Teen Home: 0')\",\"('Marital Status: Together', '<br>Education: Graduation', '<br>Yrs_Customer: 9', '<br>Age: 35', '<br>Kid Home: 1', '<br>Teen Home: 0')\",\"('Marital Status: Married', '<br>Education: Basic', '<br>Yrs_Customer: 8', '<br>Age: 30', '<br>Kid Home: 1', '<br>Teen Home: 0')\",\"('Marital Status: Married', '<br>Education: Graduation', '<br>Yrs_Customer: 9', '<br>Age: 49', '<br>Kid Home: 1', '<br>Teen Home: 0')\",\"('Marital Status: Together', '<br>Education: Graduation', '<br>Yrs_Customer: 8', '<br>Age: 49', '<br>Kid Home: 1', '<br>Teen Home: 0')\",\"('Marital Status: Together', '<br>Education: Basic', '<br>Yrs_Customer: 9', '<br>Age: 56', '<br>Kid Home: 0', '<br>Teen Home: 0')\",\"('Marital Status: Married', '<br>Education: Graduation', '<br>Yrs_Customer: 8', '<br>Age: 49', '<br>Kid Home: 1', '<br>Teen Home: 1')\",\"('Marital Status: Married', '<br>Education: Graduation', '<br>Yrs_Customer: 9', '<br>Age: 63', '<br>Kid Home: 0', '<br>Teen Home: 0')\",\"('Marital Status: Together', '<br>Education: Unknown', '<br>Yrs_Customer: 9', '<br>Age: 36', '<br>Kid Home: 0', '<br>Teen Home: 0')\",\"('Marital Status: Together', '<br>Education: Graduation', '<br>Yrs_Customer: 7', '<br>Age: 44', '<br>Kid Home: 1', '<br>Teen Home: 0')\",\"('Marital Status: Married', '<br>Education: Unknown', '<br>Yrs_Customer: 8', '<br>Age: 52', '<br>Kid Home: 1', '<br>Teen Home: 1')\",\"('Marital Status: Together', '<br>Education: Unknown', '<br>Yrs_Customer: 8', '<br>Age: 41', '<br>Kid Home: 1', '<br>Teen Home: 0')\",\"('Marital Status: Married', '<br>Education: Graduation', '<br>Yrs_Customer: 8', '<br>Age: 42', '<br>Kid Home: 1', '<br>Teen Home: 0')\",\"('Marital Status: Single', '<br>Education: Graduation', '<br>Yrs_Customer: 9', '<br>Age: 49', '<br>Kid Home: 1', '<br>Teen Home: 0')\",\"('Marital Status: Together', '<br>Education: Graduation', '<br>Yrs_Customer: 9', '<br>Age: 62', '<br>Kid Home: 0', '<br>Teen Home: 1')\",\"('Marital Status: Married', '<br>Education: Unknown', '<br>Yrs_Customer: 9', '<br>Age: 34', '<br>Kid Home: 1', '<br>Teen Home: 0')\",\"('Marital Status: Single', '<br>Education: Unknown', '<br>Yrs_Customer: 9', '<br>Age: 34', '<br>Kid Home: 1', '<br>Teen Home: 0')\",\"('Marital Status: Single', '<br>Education: Graduation', '<br>Yrs_Customer: 8', '<br>Age: 33', '<br>Kid Home: 1', '<br>Teen Home: 0')\",\"('Marital Status: Married', '<br>Education: Graduation', '<br>Yrs_Customer: 9', '<br>Age: 34', '<br>Kid Home: 1', '<br>Teen Home: 0')\",\"('Marital Status: Together', '<br>Education: Basic', '<br>Yrs_Customer: 9', '<br>Age: 34', '<br>Kid Home: 1', '<br>Teen Home: 0')\",\"('Marital Status: Together', '<br>Education: Master', '<br>Yrs_Customer: 8', '<br>Age: 62', '<br>Kid Home: 1', '<br>Teen Home: 1')\",\"('Marital Status: Married', '<br>Education: Unknown', '<br>Yrs_Customer: 9', '<br>Age: 44', '<br>Kid Home: 0', '<br>Teen Home: 0')\",\"('Marital Status: Married', '<br>Education: Graduation', '<br>Yrs_Customer: 9', '<br>Age: 51', '<br>Kid Home: 1', '<br>Teen Home: 0')\",\"('Marital Status: Together', '<br>Education: Graduation', '<br>Yrs_Customer: 8', '<br>Age: 44', '<br>Kid Home: 1', '<br>Teen Home: 0')\",\"('Marital Status: Together', '<br>Education: Basic', '<br>Yrs_Customer: 8', '<br>Age: 43', '<br>Kid Home: 1', '<br>Teen Home: 0')\",\"('Marital Status: Married', '<br>Education: Graduation', '<br>Yrs_Customer: 8', '<br>Age: 40', '<br>Kid Home: 1', '<br>Teen Home: 0')\",\"('Marital Status: Together', '<br>Education: Unknown', '<br>Yrs_Customer: 9', '<br>Age: 31', '<br>Kid Home: 0', '<br>Teen Home: 0')\",\"('Marital Status: Single', '<br>Education: Basic', '<br>Yrs_Customer: 8', '<br>Age: 43', '<br>Kid Home: 1', '<br>Teen Home: 0')\",\"('Marital Status: Married', '<br>Education: PhD', '<br>Yrs_Customer: 9', '<br>Age: 67', '<br>Kid Home: 1', '<br>Teen Home: 1')\",\"('Marital Status: Married', '<br>Education: PhD', '<br>Yrs_Customer: 7', '<br>Age: 39', '<br>Kid Home: 1', '<br>Teen Home: 0')\",\"('Marital Status: Married', '<br>Education: PhD', '<br>Yrs_Customer: 9', '<br>Age: 37', '<br>Kid Home: 1', '<br>Teen Home: 0')\",\"('Marital Status: Single', '<br>Education: Unknown', '<br>Yrs_Customer: 9', '<br>Age: 41', '<br>Kid Home: 1', '<br>Teen Home: 0')\",\"('Marital Status: Married', '<br>Education: Graduation', '<br>Yrs_Customer: 9', '<br>Age: 32', '<br>Kid Home: 0', '<br>Teen Home: 0')\",\"('Marital Status: Single', '<br>Education: Graduation', '<br>Yrs_Customer: 8', '<br>Age: 33', '<br>Kid Home: 1', '<br>Teen Home: 0')\",\"('Marital Status: Single', '<br>Education: Basic', '<br>Yrs_Customer: 7', '<br>Age: 30', '<br>Kid Home: 1', '<br>Teen Home: 0')\",\"('Marital Status: Married', '<br>Education: Graduation', '<br>Yrs_Customer: 8', '<br>Age: 45', '<br>Kid Home: 1', '<br>Teen Home: 1')\",\"('Marital Status: Married', '<br>Education: Graduation', '<br>Yrs_Customer: 9', '<br>Age: 43', '<br>Kid Home: 1', '<br>Teen Home: 0')\",\"('Marital Status: Single', '<br>Education: Basic', '<br>Yrs_Customer: 9', '<br>Age: 57', '<br>Kid Home: 0', '<br>Teen Home: 1')\",\"('Marital Status: Married', '<br>Education: Graduation', '<br>Yrs_Customer: 9', '<br>Age: 63', '<br>Kid Home: 0', '<br>Teen Home: 0')\",\"('Marital Status: Single', '<br>Education: Basic', '<br>Yrs_Customer: 9', '<br>Age: 43', '<br>Kid Home: 1', '<br>Teen Home: 1')\",\"('Marital Status: Divorced', '<br>Education: Unknown', '<br>Yrs_Customer: 9', '<br>Age: 43', '<br>Kid Home: 1', '<br>Teen Home: 0')\",\"('Marital Status: Married', '<br>Education: Unknown', '<br>Yrs_Customer: 8', '<br>Age: 36', '<br>Kid Home: 1', '<br>Teen Home: 0')\",\"('Marital Status: Single', '<br>Education: Basic', '<br>Yrs_Customer: 9', '<br>Age: 43', '<br>Kid Home: 1', '<br>Teen Home: 0')\",\"('Marital Status: Single', '<br>Education: PhD', '<br>Yrs_Customer: 8', '<br>Age: 56', '<br>Kid Home: 0', '<br>Teen Home: 2')\",\"('Marital Status: Single', '<br>Education: Graduation', '<br>Yrs_Customer: 8', '<br>Age: 58', '<br>Kid Home: 1', '<br>Teen Home: 1')\",\"('Marital Status: Together', '<br>Education: PhD', '<br>Yrs_Customer: 8', '<br>Age: 39', '<br>Kid Home: 1', '<br>Teen Home: 0')\",\"('Marital Status: Married', '<br>Education: PhD', '<br>Yrs_Customer: 7', '<br>Age: 59', '<br>Kid Home: 1', '<br>Teen Home: 1')\",\"('Marital Status: Together', '<br>Education: Graduation', '<br>Yrs_Customer: 8', '<br>Age: 47', '<br>Kid Home: 1', '<br>Teen Home: 0')\",\"('Marital Status: Together', '<br>Education: Master', '<br>Yrs_Customer: 8', '<br>Age: 46', '<br>Kid Home: 0', '<br>Teen Home: 0')\",\"('Marital Status: Divorced', '<br>Education: Unknown', '<br>Yrs_Customer: 8', '<br>Age: 47', '<br>Kid Home: 0', '<br>Teen Home: 0')\",\"('Marital Status: Single', '<br>Education: Unknown', '<br>Yrs_Customer: 8', '<br>Age: 35', '<br>Kid Home: 0', '<br>Teen Home: 0')\",\"('Marital Status: Together', '<br>Education: Basic', '<br>Yrs_Customer: 9', '<br>Age: 44', '<br>Kid Home: 1', '<br>Teen Home: 0')\",\"('Marital Status: Single', '<br>Education: Graduation', '<br>Yrs_Customer: 8', '<br>Age: 39', '<br>Kid Home: 0', '<br>Teen Home: 0')\",\"('Marital Status: Married', '<br>Education: Graduation', '<br>Yrs_Customer: 9', '<br>Age: 32', '<br>Kid Home: 0', '<br>Teen Home: 0')\",\"('Marital Status: Single', '<br>Education: Graduation', '<br>Yrs_Customer: 9', '<br>Age: 46', '<br>Kid Home: 0', '<br>Teen Home: 0')\",\"('Marital Status: Married', '<br>Education: Master', '<br>Yrs_Customer: 8', '<br>Age: 45', '<br>Kid Home: 1', '<br>Teen Home: 0')\",\"('Marital Status: Married', '<br>Education: Master', '<br>Yrs_Customer: 8', '<br>Age: 40', '<br>Kid Home: 1', '<br>Teen Home: 0')\",\"('Marital Status: Single', '<br>Education: Graduation', '<br>Yrs_Customer: 9', '<br>Age: 45', '<br>Kid Home: 1', '<br>Teen Home: 0')\",\"('Marital Status: Married', '<br>Education: Graduation', '<br>Yrs_Customer: 8', '<br>Age: 53', '<br>Kid Home: 0', '<br>Teen Home: 1')\",\"('Marital Status: Married', '<br>Education: Graduation', '<br>Yrs_Customer: 9', '<br>Age: 38', '<br>Kid Home: 1', '<br>Teen Home: 0')\",\"('Marital Status: Together', '<br>Education: Graduation', '<br>Yrs_Customer: 9', '<br>Age: 65', '<br>Kid Home: 0', '<br>Teen Home: 1')\",\"('Marital Status: Married', '<br>Education: Graduation', '<br>Yrs_Customer: 8', '<br>Age: 36', '<br>Kid Home: 1', '<br>Teen Home: 0')\",\"('Marital Status: Together', '<br>Education: Graduation', '<br>Yrs_Customer: 9', '<br>Age: 62', '<br>Kid Home: 1', '<br>Teen Home: 1')\",\"('Marital Status: Single', '<br>Education: Graduation', '<br>Yrs_Customer: 9', '<br>Age: 52', '<br>Kid Home: 1', '<br>Teen Home: 0')\",\"('Marital Status: Divorced', '<br>Education: Graduation', '<br>Yrs_Customer: 8', '<br>Age: 71', '<br>Kid Home: 1', '<br>Teen Home: 1')\",\"('Marital Status: Divorced', '<br>Education: Graduation', '<br>Yrs_Customer: 8', '<br>Age: 69', '<br>Kid Home: 0', '<br>Teen Home: 0')\",\"('Marital Status: Together', '<br>Education: Unknown', '<br>Yrs_Customer: 9', '<br>Age: 37', '<br>Kid Home: 1', '<br>Teen Home: 0')\",\"('Marital Status: Married', '<br>Education: Graduation', '<br>Yrs_Customer: 8', '<br>Age: 46', '<br>Kid Home: 1', '<br>Teen Home: 0')\",\"('Marital Status: Single', '<br>Education: Graduation', '<br>Yrs_Customer: 9', '<br>Age: 57', '<br>Kid Home: 0', '<br>Teen Home: 0')\",\"('Marital Status: Widow', '<br>Education: Basic', '<br>Yrs_Customer: 8', '<br>Age: 62', '<br>Kid Home: 0', '<br>Teen Home: 0')\",\"('Marital Status: Together', '<br>Education: Basic', '<br>Yrs_Customer: 8', '<br>Age: 53', '<br>Kid Home: 0', '<br>Teen Home: 0')\",\"('Marital Status: Married', '<br>Education: Basic', '<br>Yrs_Customer: 9', '<br>Age: 50', '<br>Kid Home: 0', '<br>Teen Home: 0')\",\"('Marital Status: Married', '<br>Education: Basic', '<br>Yrs_Customer: 9', '<br>Age: 36', '<br>Kid Home: 1', '<br>Teen Home: 0')\",\"('Marital Status: Married', '<br>Education: Basic', '<br>Yrs_Customer: 9', '<br>Age: 42', '<br>Kid Home: 1', '<br>Teen Home: 0')\",\"('Marital Status: Single', '<br>Education: Graduation', '<br>Yrs_Customer: 7', '<br>Age: 52', '<br>Kid Home: 1', '<br>Teen Home: 0')\",\"('Marital Status: Divorced', '<br>Education: Graduation', '<br>Yrs_Customer: 8', '<br>Age: 48', '<br>Kid Home: 1', '<br>Teen Home: 0')\",\"('Marital Status: Married', '<br>Education: Graduation', '<br>Yrs_Customer: 8', '<br>Age: 65', '<br>Kid Home: 0', '<br>Teen Home: 0')\",\"('Marital Status: Married', '<br>Education: Graduation', '<br>Yrs_Customer: 8', '<br>Age: 46', '<br>Kid Home: 1', '<br>Teen Home: 0')\",\"('Marital Status: Single', '<br>Education: Basic', '<br>Yrs_Customer: 8', '<br>Age: 30', '<br>Kid Home: 1', '<br>Teen Home: 0')\",\"('Marital Status: Single', '<br>Education: Master', '<br>Yrs_Customer: 9', '<br>Age: 70', '<br>Kid Home: 1', '<br>Teen Home: 1')\",\"('Marital Status: Single', '<br>Education: Basic', '<br>Yrs_Customer: 8', '<br>Age: 32', '<br>Kid Home: 1', '<br>Teen Home: 0')\",\"('Marital Status: Married', '<br>Education: Graduation', '<br>Yrs_Customer: 9', '<br>Age: 32', '<br>Kid Home: 0', '<br>Teen Home: 0')\",\"('Marital Status: Together', '<br>Education: Basic', '<br>Yrs_Customer: 9', '<br>Age: 59', '<br>Kid Home: 0', '<br>Teen Home: 1')\",\"('Marital Status: Married', '<br>Education: Graduation', '<br>Yrs_Customer: 8', '<br>Age: 46', '<br>Kid Home: 0', '<br>Teen Home: 1')\",\"('Marital Status: Together', '<br>Education: Graduation', '<br>Yrs_Customer: 8', '<br>Age: 44', '<br>Kid Home: 1', '<br>Teen Home: 0')\",\"('Marital Status: Together', '<br>Education: Unknown', '<br>Yrs_Customer: 9', '<br>Age: 43', '<br>Kid Home: 1', '<br>Teen Home: 0')\",\"('Marital Status: Married', '<br>Education: Graduation', '<br>Yrs_Customer: 7', '<br>Age: 50', '<br>Kid Home: 2', '<br>Teen Home: 0')\",\"('Marital Status: Single', '<br>Education: Graduation', '<br>Yrs_Customer: 9', '<br>Age: 38', '<br>Kid Home: 1', '<br>Teen Home: 0')\"],\"x\":[5648.0,7500.0,17323.0,18589.0,10979.0,23718.0,20559.0,21994.0,7500.0,23559.0,23626.0,24594.0,21918.0,19510.0,9548.0,23228.0,16248.0,24882.0,15033.0,22212.0,23661.0,7500.0,22804.0,18701.0,22070.0,24480.0,16626.0,23976.0,12571.0,22574.0,14849.0,24072.0,22010.0,19986.0,10245.0,23442.0,19789.0,18492.0,10404.0,7500.0,18100.0,20130.0,23295.0,24027.0,20518.0,14045.0,24279.0,22944.0,24683.0,22419.0,15315.0,13260.0,24221.0,23910.0,18978.0,22574.0,13624.0,19986.0,14661.0,18690.0,21063.0,13084.0,18988.0,17487.0,17003.0,6835.0,20587.0,20425.0,17144.0,16813.0,19329.0,22507.0,22063.0,22419.0,16529.0,19419.0,15072.0,23228.0,7500.0,19485.0,21675.0,17117.0,21846.0,24401.0,14906.0,16927.0,15716.0,4861.0,24884.0,22434.0,19514.0,20180.0,17345.0,15038.0,8028.0,16860.0,22304.0,24163.0,15315.0,16269.0,22634.0,16581.0,10979.0,21282.0,21255.0,7500.0,23091.0,14421.0,20130.0,23724.0,15056.0,22327.0,18351.0,8940.0,1730.0,7500.0,20427.0,19656.0,23748.0,15759.0,22804.0,7500.0,23148.0,18393.0,24711.0,6560.0,18929.0,24367.0,18227.0,17256.0,20895.0,22682.0,22634.0,24639.0,18690.0,20491.0,16531.0,23162.0,19414.0,19107.0,3502.0,19740.0,23331.0,23331.0,9255.0,24645.0,13724.0,17144.0,12393.0,18793.0,22775.0,24594.0,22448.0,20193.0,15862.0,22554.0,23536.0,18169.0,24336.0,18222.0,18358.0,18746.0,22108.0,17688.0,23529.0,18690.0,16014.0,13533.0,21955.0,20194.0,7144.0,18701.0,21840.0,4023.0,22280.0,21024.0,11448.0,23830.0,24882.0,22148.0,18929.0,20180.0,22701.0,21059.0,23763.0,4428.0,24570.0,21994.0,23477.0,13672.0,24206.0,22263.0,23272.0,7500.0,17649.0,23478.0,22123.0,22390.0,14188.0,20425.0,16005.0,20587.0,19346.0,23539.0,17148.0,15253.0,8820.0,16185.0,18929.0,14918.0,5305.0,22775.0,7500.0,24434.0,11012.0],\"y\":[49,61,46,75,30,81,53,22,31,79,43,29,33,30,29,121,57,80,19,69,23,57,26,44,67,102,68,66,53,37,65,23,33,22,41,27,78,10,43,36,14,34,20,48,25,20,263,76,41,162,64,49,55,67,37,37,36,22,26,60,59,29,16,18,38,137,25,57,47,50,60,570,55,162,22,70,53,40,15,10,45,128,84,467,66,53,92,6,19,58,69,137,58,80,178,38,18,17,64,44,96,24,30,46,61,18,48,16,34,75,88,24,43,101,8,119,10,84,76,17,26,57,37,50,58,373,85,24,28,62,45,95,96,44,60,30,44,65,32,46,5,55,103,269,22,17,58,47,57,77,15,29,55,82,36,41,10,21,31,67,57,64,31,11,54,60,38,48,55,47,416,44,27,9,13,84,14,43,80,49,85,137,24,44,42,359,193,22,147,25,25,21,46,100,45,129,102,26,75,57,103,25,22,81,68,29,35,106,85,43,32,15,53,50,84],\"z\":[68,59,38,89,34,76,88,4,19,87,84,94,37,63,31,91,77,52,37,49,46,54,75,95,11,46,76,68,86,28,39,79,51,74,32,71,24,75,52,96,14,99,72,7,58,24,6,67,98,74,27,48,94,80,41,28,93,74,88,77,34,29,43,37,37,76,39,5,96,49,39,67,43,74,23,76,96,71,94,80,55,96,38,98,86,50,8,20,32,25,47,27,79,93,62,19,91,3,27,75,47,51,34,76,56,61,98,81,99,65,76,94,1,25,65,63,63,94,97,12,75,5,83,2,86,2,15,58,21,10,24,51,47,3,77,16,43,82,32,49,56,65,92,97,91,16,43,96,38,14,40,94,86,18,26,38,53,40,82,70,49,41,46,82,67,77,42,45,81,64,92,95,80,29,85,89,16,3,52,16,15,27,2,40,64,999,97,4,39,86,66,31,29,98,70,51,77,49,40,5,69,39,26,13,80,13,52,71,15,52,12,40,7,9,82],\"type\":\"scatter3d\"},{\"hoverinfo\":\"text\",\"hovertemplate\":\"<b>Income: $%{x:.0f}K</b><br><b>Total Spent: $%{y:.0f}</b><br><b>Recency: %{z:.0f}</b><br>%{text}\",\"marker\":{\"color\":\"yellow\",\"size\":15},\"mode\":\"markers\",\"name\":\"Customer\",\"text\":[\"('Marital Status: Married', '<br>Education: PhD', '<br>Yrs_Customer: 5', '<br>Age: 45', '<br>Kid Home: 1', '<br>Teen Home: 0')\"],\"x\":[55000.0],\"y\":[2500.0],\"z\":[45],\"type\":\"scatter3d\"}],                        {\"scene\":{\"xaxis\":{\"title\":{\"text\":\"Income\"}},\"yaxis\":{\"title\":{\"text\":\"Total Spent\"}},\"zaxis\":{\"title\":{\"text\":\"Recency\"}}},\"showlegend\":true,\"title\":{\"text\":\"Customer Responses\"},\"template\":{\"data\":{\"bar\":[{\"error_x\":{\"color\":\"#2a3f5f\"},\"error_y\":{\"color\":\"#2a3f5f\"},\"marker\":{\"line\":{\"color\":\"#E5ECF6\",\"width\":0.5},\"pattern\":{\"fillmode\":\"overlay\",\"size\":10,\"solidity\":0.2}},\"type\":\"bar\"}],\"barpolar\":[{\"marker\":{\"line\":{\"color\":\"#E5ECF6\",\"width\":0.5},\"pattern\":{\"fillmode\":\"overlay\",\"size\":10,\"solidity\":0.2}},\"type\":\"barpolar\"}],\"carpet\":[{\"aaxis\":{\"endlinecolor\":\"#2a3f5f\",\"gridcolor\":\"white\",\"linecolor\":\"white\",\"minorgridcolor\":\"white\",\"startlinecolor\":\"#2a3f5f\"},\"baxis\":{\"endlinecolor\":\"#2a3f5f\",\"gridcolor\":\"white\",\"linecolor\":\"white\",\"minorgridcolor\":\"white\",\"startlinecolor\":\"#2a3f5f\"},\"type\":\"carpet\"}],\"choropleth\":[{\"colorbar\":{\"outlinewidth\":0,\"ticks\":\"\"},\"type\":\"choropleth\"}],\"contour\":[{\"colorbar\":{\"outlinewidth\":0,\"ticks\":\"\"},\"colorscale\":[[0.0,\"#0d0887\"],[0.1111111111111111,\"#46039f\"],[0.2222222222222222,\"#7201a8\"],[0.3333333333333333,\"#9c179e\"],[0.4444444444444444,\"#bd3786\"],[0.5555555555555556,\"#d8576b\"],[0.6666666666666666,\"#ed7953\"],[0.7777777777777778,\"#fb9f3a\"],[0.8888888888888888,\"#fdca26\"],[1.0,\"#f0f921\"]],\"type\":\"contour\"}],\"contourcarpet\":[{\"colorbar\":{\"outlinewidth\":0,\"ticks\":\"\"},\"type\":\"contourcarpet\"}],\"heatmap\":[{\"colorbar\":{\"outlinewidth\":0,\"ticks\":\"\"},\"colorscale\":[[0.0,\"#0d0887\"],[0.1111111111111111,\"#46039f\"],[0.2222222222222222,\"#7201a8\"],[0.3333333333333333,\"#9c179e\"],[0.4444444444444444,\"#bd3786\"],[0.5555555555555556,\"#d8576b\"],[0.6666666666666666,\"#ed7953\"],[0.7777777777777778,\"#fb9f3a\"],[0.8888888888888888,\"#fdca26\"],[1.0,\"#f0f921\"]],\"type\":\"heatmap\"}],\"heatmapgl\":[{\"colorbar\":{\"outlinewidth\":0,\"ticks\":\"\"},\"colorscale\":[[0.0,\"#0d0887\"],[0.1111111111111111,\"#46039f\"],[0.2222222222222222,\"#7201a8\"],[0.3333333333333333,\"#9c179e\"],[0.4444444444444444,\"#bd3786\"],[0.5555555555555556,\"#d8576b\"],[0.6666666666666666,\"#ed7953\"],[0.7777777777777778,\"#fb9f3a\"],[0.8888888888888888,\"#fdca26\"],[1.0,\"#f0f921\"]],\"type\":\"heatmapgl\"}],\"histogram\":[{\"marker\":{\"pattern\":{\"fillmode\":\"overlay\",\"size\":10,\"solidity\":0.2}},\"type\":\"histogram\"}],\"histogram2d\":[{\"colorbar\":{\"outlinewidth\":0,\"ticks\":\"\"},\"colorscale\":[[0.0,\"#0d0887\"],[0.1111111111111111,\"#46039f\"],[0.2222222222222222,\"#7201a8\"],[0.3333333333333333,\"#9c179e\"],[0.4444444444444444,\"#bd3786\"],[0.5555555555555556,\"#d8576b\"],[0.6666666666666666,\"#ed7953\"],[0.7777777777777778,\"#fb9f3a\"],[0.8888888888888888,\"#fdca26\"],[1.0,\"#f0f921\"]],\"type\":\"histogram2d\"}],\"histogram2dcontour\":[{\"colorbar\":{\"outlinewidth\":0,\"ticks\":\"\"},\"colorscale\":[[0.0,\"#0d0887\"],[0.1111111111111111,\"#46039f\"],[0.2222222222222222,\"#7201a8\"],[0.3333333333333333,\"#9c179e\"],[0.4444444444444444,\"#bd3786\"],[0.5555555555555556,\"#d8576b\"],[0.6666666666666666,\"#ed7953\"],[0.7777777777777778,\"#fb9f3a\"],[0.8888888888888888,\"#fdca26\"],[1.0,\"#f0f921\"]],\"type\":\"histogram2dcontour\"}],\"mesh3d\":[{\"colorbar\":{\"outlinewidth\":0,\"ticks\":\"\"},\"type\":\"mesh3d\"}],\"parcoords\":[{\"line\":{\"colorbar\":{\"outlinewidth\":0,\"ticks\":\"\"}},\"type\":\"parcoords\"}],\"pie\":[{\"automargin\":true,\"type\":\"pie\"}],\"scatter\":[{\"marker\":{\"colorbar\":{\"outlinewidth\":0,\"ticks\":\"\"}},\"type\":\"scatter\"}],\"scatter3d\":[{\"line\":{\"colorbar\":{\"outlinewidth\":0,\"ticks\":\"\"}},\"marker\":{\"colorbar\":{\"outlinewidth\":0,\"ticks\":\"\"}},\"type\":\"scatter3d\"}],\"scattercarpet\":[{\"marker\":{\"colorbar\":{\"outlinewidth\":0,\"ticks\":\"\"}},\"type\":\"scattercarpet\"}],\"scattergeo\":[{\"marker\":{\"colorbar\":{\"outlinewidth\":0,\"ticks\":\"\"}},\"type\":\"scattergeo\"}],\"scattergl\":[{\"marker\":{\"colorbar\":{\"outlinewidth\":0,\"ticks\":\"\"}},\"type\":\"scattergl\"}],\"scattermapbox\":[{\"marker\":{\"colorbar\":{\"outlinewidth\":0,\"ticks\":\"\"}},\"type\":\"scattermapbox\"}],\"scatterpolar\":[{\"marker\":{\"colorbar\":{\"outlinewidth\":0,\"ticks\":\"\"}},\"type\":\"scatterpolar\"}],\"scatterpolargl\":[{\"marker\":{\"colorbar\":{\"outlinewidth\":0,\"ticks\":\"\"}},\"type\":\"scatterpolargl\"}],\"scatterternary\":[{\"marker\":{\"colorbar\":{\"outlinewidth\":0,\"ticks\":\"\"}},\"type\":\"scatterternary\"}],\"surface\":[{\"colorbar\":{\"outlinewidth\":0,\"ticks\":\"\"},\"colorscale\":[[0.0,\"#0d0887\"],[0.1111111111111111,\"#46039f\"],[0.2222222222222222,\"#7201a8\"],[0.3333333333333333,\"#9c179e\"],[0.4444444444444444,\"#bd3786\"],[0.5555555555555556,\"#d8576b\"],[0.6666666666666666,\"#ed7953\"],[0.7777777777777778,\"#fb9f3a\"],[0.8888888888888888,\"#fdca26\"],[1.0,\"#f0f921\"]],\"type\":\"surface\"}],\"table\":[{\"cells\":{\"fill\":{\"color\":\"#EBF0F8\"},\"line\":{\"color\":\"white\"}},\"header\":{\"fill\":{\"color\":\"#C8D4E3\"},\"line\":{\"color\":\"white\"}},\"type\":\"table\"}]},\"layout\":{\"annotationdefaults\":{\"arrowcolor\":\"#2a3f5f\",\"arrowhead\":0,\"arrowwidth\":1},\"autotypenumbers\":\"strict\",\"coloraxis\":{\"colorbar\":{\"outlinewidth\":0,\"ticks\":\"\"}},\"colorscale\":{\"diverging\":[[0,\"#8e0152\"],[0.1,\"#c51b7d\"],[0.2,\"#de77ae\"],[0.3,\"#f1b6da\"],[0.4,\"#fde0ef\"],[0.5,\"#f7f7f7\"],[0.6,\"#e6f5d0\"],[0.7,\"#b8e186\"],[0.8,\"#7fbc41\"],[0.9,\"#4d9221\"],[1,\"#276419\"]],\"sequential\":[[0.0,\"#0d0887\"],[0.1111111111111111,\"#46039f\"],[0.2222222222222222,\"#7201a8\"],[0.3333333333333333,\"#9c179e\"],[0.4444444444444444,\"#bd3786\"],[0.5555555555555556,\"#d8576b\"],[0.6666666666666666,\"#ed7953\"],[0.7777777777777778,\"#fb9f3a\"],[0.8888888888888888,\"#fdca26\"],[1.0,\"#f0f921\"]],\"sequentialminus\":[[0.0,\"#0d0887\"],[0.1111111111111111,\"#46039f\"],[0.2222222222222222,\"#7201a8\"],[0.3333333333333333,\"#9c179e\"],[0.4444444444444444,\"#bd3786\"],[0.5555555555555556,\"#d8576b\"],[0.6666666666666666,\"#ed7953\"],[0.7777777777777778,\"#fb9f3a\"],[0.8888888888888888,\"#fdca26\"],[1.0,\"#f0f921\"]]},\"colorway\":[\"#636efa\",\"#EF553B\",\"#00cc96\",\"#ab63fa\",\"#FFA15A\",\"#19d3f3\",\"#FF6692\",\"#B6E880\",\"#FF97FF\",\"#FECB52\"],\"font\":{\"color\":\"#2a3f5f\"},\"geo\":{\"bgcolor\":\"white\",\"lakecolor\":\"white\",\"landcolor\":\"#E5ECF6\",\"showlakes\":true,\"showland\":true,\"subunitcolor\":\"white\"},\"hoverlabel\":{\"align\":\"left\"},\"hovermode\":\"closest\",\"mapbox\":{\"style\":\"light\"},\"paper_bgcolor\":\"white\",\"plot_bgcolor\":\"#E5ECF6\",\"polar\":{\"angularaxis\":{\"gridcolor\":\"white\",\"linecolor\":\"white\",\"ticks\":\"\"},\"bgcolor\":\"#E5ECF6\",\"radialaxis\":{\"gridcolor\":\"white\",\"linecolor\":\"white\",\"ticks\":\"\"}},\"scene\":{\"xaxis\":{\"backgroundcolor\":\"#E5ECF6\",\"gridcolor\":\"white\",\"gridwidth\":2,\"linecolor\":\"white\",\"showbackground\":true,\"ticks\":\"\",\"zerolinecolor\":\"white\"},\"yaxis\":{\"backgroundcolor\":\"#E5ECF6\",\"gridcolor\":\"white\",\"gridwidth\":2,\"linecolor\":\"white\",\"showbackground\":true,\"ticks\":\"\",\"zerolinecolor\":\"white\"},\"zaxis\":{\"backgroundcolor\":\"#E5ECF6\",\"gridcolor\":\"white\",\"gridwidth\":2,\"linecolor\":\"white\",\"showbackground\":true,\"ticks\":\"\",\"zerolinecolor\":\"white\"}},\"shapedefaults\":{\"line\":{\"color\":\"#2a3f5f\"}},\"ternary\":{\"aaxis\":{\"gridcolor\":\"white\",\"linecolor\":\"white\",\"ticks\":\"\"},\"baxis\":{\"gridcolor\":\"white\",\"linecolor\":\"white\",\"ticks\":\"\"},\"bgcolor\":\"#E5ECF6\",\"caxis\":{\"gridcolor\":\"white\",\"linecolor\":\"white\",\"ticks\":\"\"}},\"title\":{\"x\":0.05},\"xaxis\":{\"automargin\":true,\"gridcolor\":\"white\",\"linecolor\":\"white\",\"ticks\":\"\",\"title\":{\"standoff\":15},\"zerolinecolor\":\"white\",\"zerolinewidth\":2},\"yaxis\":{\"automargin\":true,\"gridcolor\":\"white\",\"linecolor\":\"white\",\"ticks\":\"\",\"title\":{\"standoff\":15},\"zerolinecolor\":\"white\",\"zerolinewidth\":2}}}},                        {\"responsive\": true}                    ).then(function(){\n",
       "                            \n",
       "var gd = document.getElementById('4df7c7c3-afc8-4a3c-9d49-8f8cc6da7b69');\n",
       "var x = new MutationObserver(function (mutations, observer) {{\n",
       "        var display = window.getComputedStyle(gd).display;\n",
       "        if (!display || display === 'none') {{\n",
       "            console.log([gd, 'removed!']);\n",
       "            Plotly.purge(gd);\n",
       "            observer.disconnect();\n",
       "        }}\n",
       "}});\n",
       "\n",
       "// Listen for the removal of the full notebook cells\n",
       "var notebookContainer = gd.closest('#notebook-container');\n",
       "if (notebookContainer) {{\n",
       "    x.observe(notebookContainer, {childList: true});\n",
       "}}\n",
       "\n",
       "// Listen for the clearing of the current output cell\n",
       "var outputEl = gd.closest('.output');\n",
       "if (outputEl) {{\n",
       "    x.observe(outputEl, {childList: true});\n",
       "}}\n",
       "\n",
       "                        })                };                });            </script>        </div>"
      ]
     },
     "metadata": {},
     "output_type": "display_data"
    }
   ],
   "source": [
    "make_cube(fake1)"
   ]
  },
  {
   "cell_type": "code",
   "execution_count": null,
   "id": "08c9d752-ca1e-47b5-8352-63bc09559d6d",
   "metadata": {},
   "outputs": [],
   "source": []
  }
 ],
 "metadata": {
  "kernelspec": {
   "display_name": "default:Python",
   "language": "python",
   "name": "conda-env-default-py"
  },
  "language_info": {
   "codemirror_mode": {
    "name": "ipython",
    "version": 3
   },
   "file_extension": ".py",
   "mimetype": "text/x-python",
   "name": "python",
   "nbconvert_exporter": "python",
   "pygments_lexer": "ipython3",
   "version": "3.9.12"
  }
 },
 "nbformat": 4,
 "nbformat_minor": 5
}
